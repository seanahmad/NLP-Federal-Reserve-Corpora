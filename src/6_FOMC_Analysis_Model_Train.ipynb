{
 "nbformat": 4,
 "nbformat_minor": 0,
 "metadata": {
  "accelerator": "TPU",
  "colab": {
   "name": "6_FOMC_Analysis_Model_Train.ipynb",
   "provenance": [],
   "collapsed_sections": [],
   "machine_shape": "hm"
  },
  "kernelspec": {
   "display_name": "Python 3",
   "language": "python",
   "name": "python3"
  },
  "language_info": {
   "codemirror_mode": {
    "name": "ipython",
    "version": 3
   },
   "file_extension": ".py",
   "mimetype": "text/x-python",
   "name": "python",
   "nbconvert_exporter": "python",
   "pygments_lexer": "ipython3",
   "version": "3.7.7"
  },
  "widgets": {
   "application/vnd.jupyter.widget-state+json": {
    "5f1d5ce4be474ba895cbb0869b795283": {
     "model_module": "@jupyter-widgets/controls",
     "model_name": "HBoxModel",
     "state": {
      "_view_name": "HBoxView",
      "_dom_classes": [],
      "_model_name": "HBoxModel",
      "_view_module": "@jupyter-widgets/controls",
      "_model_module_version": "1.5.0",
      "_view_count": null,
      "_view_module_version": "1.5.0",
      "box_style": "",
      "layout": "IPY_MODEL_600e4dfbf1e34cbdb2f40be5df7c5cd3",
      "_model_module": "@jupyter-widgets/controls",
      "children": [
       "IPY_MODEL_98aaa2b2216b445884723a38fe821501",
       "IPY_MODEL_3d93bb6b6c184e69860956a9e02192b3"
      ]
     }
    },
    "600e4dfbf1e34cbdb2f40be5df7c5cd3": {
     "model_module": "@jupyter-widgets/base",
     "model_name": "LayoutModel",
     "state": {
      "_view_name": "LayoutView",
      "grid_template_rows": null,
      "right": null,
      "justify_content": null,
      "_view_module": "@jupyter-widgets/base",
      "overflow": null,
      "_model_module_version": "1.2.0",
      "_view_count": null,
      "flex_flow": null,
      "width": null,
      "min_width": null,
      "border": null,
      "align_items": null,
      "bottom": null,
      "_model_module": "@jupyter-widgets/base",
      "top": null,
      "grid_column": null,
      "overflow_y": null,
      "overflow_x": null,
      "grid_auto_flow": null,
      "grid_area": null,
      "grid_template_columns": null,
      "flex": null,
      "_model_name": "LayoutModel",
      "justify_items": null,
      "grid_row": null,
      "max_height": null,
      "align_content": null,
      "visibility": null,
      "align_self": null,
      "height": null,
      "min_height": null,
      "padding": null,
      "grid_auto_rows": null,
      "grid_gap": null,
      "max_width": null,
      "order": null,
      "_view_module_version": "1.2.0",
      "grid_template_areas": null,
      "object_position": null,
      "object_fit": null,
      "grid_auto_columns": null,
      "margin": null,
      "display": null,
      "left": null
     }
    },
    "98aaa2b2216b445884723a38fe821501": {
     "model_module": "@jupyter-widgets/controls",
     "model_name": "FloatProgressModel",
     "state": {
      "_view_name": "ProgressView",
      "style": "IPY_MODEL_e933902d918c4fb995c8e89d102ca174",
      "_dom_classes": [],
      "description": "100%",
      "_model_name": "FloatProgressModel",
      "bar_style": "success",
      "max": 48583,
      "_view_module": "@jupyter-widgets/controls",
      "_model_module_version": "1.5.0",
      "value": 48583,
      "_view_count": null,
      "_view_module_version": "1.5.0",
      "orientation": "horizontal",
      "min": 0,
      "description_tooltip": null,
      "_model_module": "@jupyter-widgets/controls",
      "layout": "IPY_MODEL_a818ce331d3043119724ba61097db925"
     }
    },
    "3d93bb6b6c184e69860956a9e02192b3": {
     "model_module": "@jupyter-widgets/controls",
     "model_name": "HTMLModel",
     "state": {
      "_view_name": "HTMLView",
      "style": "IPY_MODEL_c8c6fb2170044a819f261084146feef2",
      "_dom_classes": [],
      "description": "",
      "_model_name": "HTMLModel",
      "placeholder": "​",
      "_view_module": "@jupyter-widgets/controls",
      "_model_module_version": "1.5.0",
      "value": " 48583/48583 [07:02&lt;00:00, 115.09it/s]",
      "_view_count": null,
      "_view_module_version": "1.5.0",
      "description_tooltip": null,
      "_model_module": "@jupyter-widgets/controls",
      "layout": "IPY_MODEL_2bba4fb96e4d47ba8d173ee9d4f69754"
     }
    },
    "e933902d918c4fb995c8e89d102ca174": {
     "model_module": "@jupyter-widgets/controls",
     "model_name": "ProgressStyleModel",
     "state": {
      "_view_name": "StyleView",
      "_model_name": "ProgressStyleModel",
      "description_width": "initial",
      "_view_module": "@jupyter-widgets/base",
      "_model_module_version": "1.5.0",
      "_view_count": null,
      "_view_module_version": "1.2.0",
      "bar_color": null,
      "_model_module": "@jupyter-widgets/controls"
     }
    },
    "a818ce331d3043119724ba61097db925": {
     "model_module": "@jupyter-widgets/base",
     "model_name": "LayoutModel",
     "state": {
      "_view_name": "LayoutView",
      "grid_template_rows": null,
      "right": null,
      "justify_content": null,
      "_view_module": "@jupyter-widgets/base",
      "overflow": null,
      "_model_module_version": "1.2.0",
      "_view_count": null,
      "flex_flow": null,
      "width": null,
      "min_width": null,
      "border": null,
      "align_items": null,
      "bottom": null,
      "_model_module": "@jupyter-widgets/base",
      "top": null,
      "grid_column": null,
      "overflow_y": null,
      "overflow_x": null,
      "grid_auto_flow": null,
      "grid_area": null,
      "grid_template_columns": null,
      "flex": null,
      "_model_name": "LayoutModel",
      "justify_items": null,
      "grid_row": null,
      "max_height": null,
      "align_content": null,
      "visibility": null,
      "align_self": null,
      "height": null,
      "min_height": null,
      "padding": null,
      "grid_auto_rows": null,
      "grid_gap": null,
      "max_width": null,
      "order": null,
      "_view_module_version": "1.2.0",
      "grid_template_areas": null,
      "object_position": null,
      "object_fit": null,
      "grid_auto_columns": null,
      "margin": null,
      "display": null,
      "left": null
     }
    },
    "c8c6fb2170044a819f261084146feef2": {
     "model_module": "@jupyter-widgets/controls",
     "model_name": "DescriptionStyleModel",
     "state": {
      "_view_name": "StyleView",
      "_model_name": "DescriptionStyleModel",
      "description_width": "",
      "_view_module": "@jupyter-widgets/base",
      "_model_module_version": "1.5.0",
      "_view_count": null,
      "_view_module_version": "1.2.0",
      "_model_module": "@jupyter-widgets/controls"
     }
    },
    "2bba4fb96e4d47ba8d173ee9d4f69754": {
     "model_module": "@jupyter-widgets/base",
     "model_name": "LayoutModel",
     "state": {
      "_view_name": "LayoutView",
      "grid_template_rows": null,
      "right": null,
      "justify_content": null,
      "_view_module": "@jupyter-widgets/base",
      "overflow": null,
      "_model_module_version": "1.2.0",
      "_view_count": null,
      "flex_flow": null,
      "width": null,
      "min_width": null,
      "border": null,
      "align_items": null,
      "bottom": null,
      "_model_module": "@jupyter-widgets/base",
      "top": null,
      "grid_column": null,
      "overflow_y": null,
      "overflow_x": null,
      "grid_auto_flow": null,
      "grid_area": null,
      "grid_template_columns": null,
      "flex": null,
      "_model_name": "LayoutModel",
      "justify_items": null,
      "grid_row": null,
      "max_height": null,
      "align_content": null,
      "visibility": null,
      "align_self": null,
      "height": null,
      "min_height": null,
      "padding": null,
      "grid_auto_rows": null,
      "grid_gap": null,
      "max_width": null,
      "order": null,
      "_view_module_version": "1.2.0",
      "grid_template_areas": null,
      "object_position": null,
      "object_fit": null,
      "grid_auto_columns": null,
      "margin": null,
      "display": null,
      "left": null
     }
    },
    "65be1a1e0904406b94eb4ca911cb6cfb": {
     "model_module": "@jupyter-widgets/controls",
     "model_name": "HBoxModel",
     "state": {
      "_view_name": "HBoxView",
      "_dom_classes": [],
      "_model_name": "HBoxModel",
      "_view_module": "@jupyter-widgets/controls",
      "_model_module_version": "1.5.0",
      "_view_count": null,
      "_view_module_version": "1.5.0",
      "box_style": "",
      "layout": "IPY_MODEL_798001f4d2fc4caf90127bd2cb50d7ef",
      "_model_module": "@jupyter-widgets/controls",
      "children": [
       "IPY_MODEL_f14fa4fcde514d44a26b4a051aae0825",
       "IPY_MODEL_59ca30f81b2d49d4b201b60f3c9e2c73"
      ]
     }
    },
    "798001f4d2fc4caf90127bd2cb50d7ef": {
     "model_module": "@jupyter-widgets/base",
     "model_name": "LayoutModel",
     "state": {
      "_view_name": "LayoutView",
      "grid_template_rows": null,
      "right": null,
      "justify_content": null,
      "_view_module": "@jupyter-widgets/base",
      "overflow": null,
      "_model_module_version": "1.2.0",
      "_view_count": null,
      "flex_flow": null,
      "width": null,
      "min_width": null,
      "border": null,
      "align_items": null,
      "bottom": null,
      "_model_module": "@jupyter-widgets/base",
      "top": null,
      "grid_column": null,
      "overflow_y": null,
      "overflow_x": null,
      "grid_auto_flow": null,
      "grid_area": null,
      "grid_template_columns": null,
      "flex": null,
      "_model_name": "LayoutModel",
      "justify_items": null,
      "grid_row": null,
      "max_height": null,
      "align_content": null,
      "visibility": null,
      "align_self": null,
      "height": null,
      "min_height": null,
      "padding": null,
      "grid_auto_rows": null,
      "grid_gap": null,
      "max_width": null,
      "order": null,
      "_view_module_version": "1.2.0",
      "grid_template_areas": null,
      "object_position": null,
      "object_fit": null,
      "grid_auto_columns": null,
      "margin": null,
      "display": null,
      "left": null
     }
    },
    "f14fa4fcde514d44a26b4a051aae0825": {
     "model_module": "@jupyter-widgets/controls",
     "model_name": "FloatProgressModel",
     "state": {
      "_view_name": "ProgressView",
      "style": "IPY_MODEL_9c3bbe3fe44148e599a77a7a8b97daba",
      "_dom_classes": [],
      "description": "statement: 100%",
      "_model_name": "FloatProgressModel",
      "bar_style": "success",
      "max": 244,
      "_view_module": "@jupyter-widgets/controls",
      "_model_module_version": "1.5.0",
      "value": 244,
      "_view_count": null,
      "_view_module_version": "1.5.0",
      "orientation": "horizontal",
      "min": 0,
      "description_tooltip": null,
      "_model_module": "@jupyter-widgets/controls",
      "layout": "IPY_MODEL_f59221b2f9cb42bfb890eecf0c63138a"
     }
    },
    "59ca30f81b2d49d4b201b60f3c9e2c73": {
     "model_module": "@jupyter-widgets/controls",
     "model_name": "HTMLModel",
     "state": {
      "_view_name": "HTMLView",
      "style": "IPY_MODEL_0b1725ee7a774f5abbe187285e98bbd5",
      "_dom_classes": [],
      "description": "",
      "_model_name": "HTMLModel",
      "placeholder": "​",
      "_view_module": "@jupyter-widgets/controls",
      "_model_module_version": "1.5.0",
      "value": " 244/244 [00:53&lt;00:00,  4.58it/s]",
      "_view_count": null,
      "_view_module_version": "1.5.0",
      "description_tooltip": null,
      "_model_module": "@jupyter-widgets/controls",
      "layout": "IPY_MODEL_0dbc3a06bbef4f1dbd9c2ddddc377171"
     }
    },
    "9c3bbe3fe44148e599a77a7a8b97daba": {
     "model_module": "@jupyter-widgets/controls",
     "model_name": "ProgressStyleModel",
     "state": {
      "_view_name": "StyleView",
      "_model_name": "ProgressStyleModel",
      "description_width": "initial",
      "_view_module": "@jupyter-widgets/base",
      "_model_module_version": "1.5.0",
      "_view_count": null,
      "_view_module_version": "1.2.0",
      "bar_color": null,
      "_model_module": "@jupyter-widgets/controls"
     }
    },
    "f59221b2f9cb42bfb890eecf0c63138a": {
     "model_module": "@jupyter-widgets/base",
     "model_name": "LayoutModel",
     "state": {
      "_view_name": "LayoutView",
      "grid_template_rows": null,
      "right": null,
      "justify_content": null,
      "_view_module": "@jupyter-widgets/base",
      "overflow": null,
      "_model_module_version": "1.2.0",
      "_view_count": null,
      "flex_flow": null,
      "width": null,
      "min_width": null,
      "border": null,
      "align_items": null,
      "bottom": null,
      "_model_module": "@jupyter-widgets/base",
      "top": null,
      "grid_column": null,
      "overflow_y": null,
      "overflow_x": null,
      "grid_auto_flow": null,
      "grid_area": null,
      "grid_template_columns": null,
      "flex": null,
      "_model_name": "LayoutModel",
      "justify_items": null,
      "grid_row": null,
      "max_height": null,
      "align_content": null,
      "visibility": null,
      "align_self": null,
      "height": null,
      "min_height": null,
      "padding": null,
      "grid_auto_rows": null,
      "grid_gap": null,
      "max_width": null,
      "order": null,
      "_view_module_version": "1.2.0",
      "grid_template_areas": null,
      "object_position": null,
      "object_fit": null,
      "grid_auto_columns": null,
      "margin": null,
      "display": null,
      "left": null
     }
    },
    "0b1725ee7a774f5abbe187285e98bbd5": {
     "model_module": "@jupyter-widgets/controls",
     "model_name": "DescriptionStyleModel",
     "state": {
      "_view_name": "StyleView",
      "_model_name": "DescriptionStyleModel",
      "description_width": "",
      "_view_module": "@jupyter-widgets/base",
      "_model_module_version": "1.5.0",
      "_view_count": null,
      "_view_module_version": "1.2.0",
      "_model_module": "@jupyter-widgets/controls"
     }
    },
    "0dbc3a06bbef4f1dbd9c2ddddc377171": {
     "model_module": "@jupyter-widgets/base",
     "model_name": "LayoutModel",
     "state": {
      "_view_name": "LayoutView",
      "grid_template_rows": null,
      "right": null,
      "justify_content": null,
      "_view_module": "@jupyter-widgets/base",
      "overflow": null,
      "_model_module_version": "1.2.0",
      "_view_count": null,
      "flex_flow": null,
      "width": null,
      "min_width": null,
      "border": null,
      "align_items": null,
      "bottom": null,
      "_model_module": "@jupyter-widgets/base",
      "top": null,
      "grid_column": null,
      "overflow_y": null,
      "overflow_x": null,
      "grid_auto_flow": null,
      "grid_area": null,
      "grid_template_columns": null,
      "flex": null,
      "_model_name": "LayoutModel",
      "justify_items": null,
      "grid_row": null,
      "max_height": null,
      "align_content": null,
      "visibility": null,
      "align_self": null,
      "height": null,
      "min_height": null,
      "padding": null,
      "grid_auto_rows": null,
      "grid_gap": null,
      "max_width": null,
      "order": null,
      "_view_module_version": "1.2.0",
      "grid_template_areas": null,
      "object_position": null,
      "object_fit": null,
      "grid_auto_columns": null,
      "margin": null,
      "display": null,
      "left": null
     }
    },
    "63ebfbb84e3a48fbbb086b5aa6fde350": {
     "model_module": "@jupyter-widgets/controls",
     "model_name": "HBoxModel",
     "state": {
      "_view_name": "HBoxView",
      "_dom_classes": [],
      "_model_name": "HBoxModel",
      "_view_module": "@jupyter-widgets/controls",
      "_model_module_version": "1.5.0",
      "_view_count": null,
      "_view_module_version": "1.5.0",
      "box_style": "",
      "layout": "IPY_MODEL_49469878df7147ebb2760ae4e14d5df7",
      "_model_module": "@jupyter-widgets/controls",
      "children": [
       "IPY_MODEL_430f469ff29c4d74b05130025c48cbb2",
       "IPY_MODEL_9e969310765b48dc837ba79cebff976b"
      ]
     }
    },
    "49469878df7147ebb2760ae4e14d5df7": {
     "model_module": "@jupyter-widgets/base",
     "model_name": "LayoutModel",
     "state": {
      "_view_name": "LayoutView",
      "grid_template_rows": null,
      "right": null,
      "justify_content": null,
      "_view_module": "@jupyter-widgets/base",
      "overflow": null,
      "_model_module_version": "1.2.0",
      "_view_count": null,
      "flex_flow": null,
      "width": null,
      "min_width": null,
      "border": null,
      "align_items": null,
      "bottom": null,
      "_model_module": "@jupyter-widgets/base",
      "top": null,
      "grid_column": null,
      "overflow_y": null,
      "overflow_x": null,
      "grid_auto_flow": null,
      "grid_area": null,
      "grid_template_columns": null,
      "flex": null,
      "_model_name": "LayoutModel",
      "justify_items": null,
      "grid_row": null,
      "max_height": null,
      "align_content": null,
      "visibility": null,
      "align_self": null,
      "height": null,
      "min_height": null,
      "padding": null,
      "grid_auto_rows": null,
      "grid_gap": null,
      "max_width": null,
      "order": null,
      "_view_module_version": "1.2.0",
      "grid_template_areas": null,
      "object_position": null,
      "object_fit": null,
      "grid_auto_columns": null,
      "margin": null,
      "display": null,
      "left": null
     }
    },
    "430f469ff29c4d74b05130025c48cbb2": {
     "model_module": "@jupyter-widgets/controls",
     "model_name": "FloatProgressModel",
     "state": {
      "_view_name": "ProgressView",
      "style": "IPY_MODEL_76d25cfc083c4bbd8e5b70a3be925c2a",
      "_dom_classes": [],
      "description": "minutes: 100%",
      "_model_name": "FloatProgressModel",
      "bar_style": "success",
      "max": 244,
      "_view_module": "@jupyter-widgets/controls",
      "_model_module_version": "1.5.0",
      "value": 244,
      "_view_count": null,
      "_view_module_version": "1.5.0",
      "orientation": "horizontal",
      "min": 0,
      "description_tooltip": null,
      "_model_module": "@jupyter-widgets/controls",
      "layout": "IPY_MODEL_8b4be6212e2b486fa76cac6592e09c52"
     }
    },
    "9e969310765b48dc837ba79cebff976b": {
     "model_module": "@jupyter-widgets/controls",
     "model_name": "HTMLModel",
     "state": {
      "_view_name": "HTMLView",
      "style": "IPY_MODEL_8a535d944f18493790384fabb6568be9",
      "_dom_classes": [],
      "description": "",
      "_model_name": "HTMLModel",
      "placeholder": "​",
      "_view_module": "@jupyter-widgets/controls",
      "_model_module_version": "1.5.0",
      "value": " 244/244 [00:49&lt;00:00,  4.96it/s]",
      "_view_count": null,
      "_view_module_version": "1.5.0",
      "description_tooltip": null,
      "_model_module": "@jupyter-widgets/controls",
      "layout": "IPY_MODEL_c09ef92078f742c4a819d7ce456adf32"
     }
    },
    "76d25cfc083c4bbd8e5b70a3be925c2a": {
     "model_module": "@jupyter-widgets/controls",
     "model_name": "ProgressStyleModel",
     "state": {
      "_view_name": "StyleView",
      "_model_name": "ProgressStyleModel",
      "description_width": "initial",
      "_view_module": "@jupyter-widgets/base",
      "_model_module_version": "1.5.0",
      "_view_count": null,
      "_view_module_version": "1.2.0",
      "bar_color": null,
      "_model_module": "@jupyter-widgets/controls"
     }
    },
    "8b4be6212e2b486fa76cac6592e09c52": {
     "model_module": "@jupyter-widgets/base",
     "model_name": "LayoutModel",
     "state": {
      "_view_name": "LayoutView",
      "grid_template_rows": null,
      "right": null,
      "justify_content": null,
      "_view_module": "@jupyter-widgets/base",
      "overflow": null,
      "_model_module_version": "1.2.0",
      "_view_count": null,
      "flex_flow": null,
      "width": null,
      "min_width": null,
      "border": null,
      "align_items": null,
      "bottom": null,
      "_model_module": "@jupyter-widgets/base",
      "top": null,
      "grid_column": null,
      "overflow_y": null,
      "overflow_x": null,
      "grid_auto_flow": null,
      "grid_area": null,
      "grid_template_columns": null,
      "flex": null,
      "_model_name": "LayoutModel",
      "justify_items": null,
      "grid_row": null,
      "max_height": null,
      "align_content": null,
      "visibility": null,
      "align_self": null,
      "height": null,
      "min_height": null,
      "padding": null,
      "grid_auto_rows": null,
      "grid_gap": null,
      "max_width": null,
      "order": null,
      "_view_module_version": "1.2.0",
      "grid_template_areas": null,
      "object_position": null,
      "object_fit": null,
      "grid_auto_columns": null,
      "margin": null,
      "display": null,
      "left": null
     }
    },
    "8a535d944f18493790384fabb6568be9": {
     "model_module": "@jupyter-widgets/controls",
     "model_name": "DescriptionStyleModel",
     "state": {
      "_view_name": "StyleView",
      "_model_name": "DescriptionStyleModel",
      "description_width": "",
      "_view_module": "@jupyter-widgets/base",
      "_model_module_version": "1.5.0",
      "_view_count": null,
      "_view_module_version": "1.2.0",
      "_model_module": "@jupyter-widgets/controls"
     }
    },
    "c09ef92078f742c4a819d7ce456adf32": {
     "model_module": "@jupyter-widgets/base",
     "model_name": "LayoutModel",
     "state": {
      "_view_name": "LayoutView",
      "grid_template_rows": null,
      "right": null,
      "justify_content": null,
      "_view_module": "@jupyter-widgets/base",
      "overflow": null,
      "_model_module_version": "1.2.0",
      "_view_count": null,
      "flex_flow": null,
      "width": null,
      "min_width": null,
      "border": null,
      "align_items": null,
      "bottom": null,
      "_model_module": "@jupyter-widgets/base",
      "top": null,
      "grid_column": null,
      "overflow_y": null,
      "overflow_x": null,
      "grid_auto_flow": null,
      "grid_area": null,
      "grid_template_columns": null,
      "flex": null,
      "_model_name": "LayoutModel",
      "justify_items": null,
      "grid_row": null,
      "max_height": null,
      "align_content": null,
      "visibility": null,
      "align_self": null,
      "height": null,
      "min_height": null,
      "padding": null,
      "grid_auto_rows": null,
      "grid_gap": null,
      "max_width": null,
      "order": null,
      "_view_module_version": "1.2.0",
      "grid_template_areas": null,
      "object_position": null,
      "object_fit": null,
      "grid_auto_columns": null,
      "margin": null,
      "display": null,
      "left": null
     }
    },
    "4620ce4fa387406a867114ff0c96717b": {
     "model_module": "@jupyter-widgets/controls",
     "model_name": "HBoxModel",
     "state": {
      "_view_name": "HBoxView",
      "_dom_classes": [],
      "_model_name": "HBoxModel",
      "_view_module": "@jupyter-widgets/controls",
      "_model_module_version": "1.5.0",
      "_view_count": null,
      "_view_module_version": "1.5.0",
      "box_style": "",
      "layout": "IPY_MODEL_9a63ade1b5ab491d8dd0055ebe5587ae",
      "_model_module": "@jupyter-widgets/controls",
      "children": [
       "IPY_MODEL_e9e816a3571e43d0ac8223647e529e46",
       "IPY_MODEL_7e41da21127c46cf8bdfbf0164f5e261"
      ]
     }
    },
    "9a63ade1b5ab491d8dd0055ebe5587ae": {
     "model_module": "@jupyter-widgets/base",
     "model_name": "LayoutModel",
     "state": {
      "_view_name": "LayoutView",
      "grid_template_rows": null,
      "right": null,
      "justify_content": null,
      "_view_module": "@jupyter-widgets/base",
      "overflow": null,
      "_model_module_version": "1.2.0",
      "_view_count": null,
      "flex_flow": null,
      "width": null,
      "min_width": null,
      "border": null,
      "align_items": null,
      "bottom": null,
      "_model_module": "@jupyter-widgets/base",
      "top": null,
      "grid_column": null,
      "overflow_y": null,
      "overflow_x": null,
      "grid_auto_flow": null,
      "grid_area": null,
      "grid_template_columns": null,
      "flex": null,
      "_model_name": "LayoutModel",
      "justify_items": null,
      "grid_row": null,
      "max_height": null,
      "align_content": null,
      "visibility": null,
      "align_self": null,
      "height": null,
      "min_height": null,
      "padding": null,
      "grid_auto_rows": null,
      "grid_gap": null,
      "max_width": null,
      "order": null,
      "_view_module_version": "1.2.0",
      "grid_template_areas": null,
      "object_position": null,
      "object_fit": null,
      "grid_auto_columns": null,
      "margin": null,
      "display": null,
      "left": null
     }
    },
    "e9e816a3571e43d0ac8223647e529e46": {
     "model_module": "@jupyter-widgets/controls",
     "model_name": "FloatProgressModel",
     "state": {
      "_view_name": "ProgressView",
      "style": "IPY_MODEL_b1e749d422ff427997408ec3277b1815",
      "_dom_classes": [],
      "description": "press_conference: 100%",
      "_model_name": "FloatProgressModel",
      "bar_style": "success",
      "max": 244,
      "_view_module": "@jupyter-widgets/controls",
      "_model_module_version": "1.5.0",
      "value": 244,
      "_view_count": null,
      "_view_module_version": "1.5.0",
      "orientation": "horizontal",
      "min": 0,
      "description_tooltip": null,
      "_model_module": "@jupyter-widgets/controls",
      "layout": "IPY_MODEL_7ba56130e0884b87975c722ac0295f2e"
     }
    },
    "7e41da21127c46cf8bdfbf0164f5e261": {
     "model_module": "@jupyter-widgets/controls",
     "model_name": "HTMLModel",
     "state": {
      "_view_name": "HTMLView",
      "style": "IPY_MODEL_c842ac4425db44e79a7095c0db5bad01",
      "_dom_classes": [],
      "description": "",
      "_model_name": "HTMLModel",
      "placeholder": "​",
      "_view_module": "@jupyter-widgets/controls",
      "_model_module_version": "1.5.0",
      "value": " 244/244 [00:07&lt;00:00, 30.66it/s]",
      "_view_count": null,
      "_view_module_version": "1.5.0",
      "description_tooltip": null,
      "_model_module": "@jupyter-widgets/controls",
      "layout": "IPY_MODEL_3d27362d161e4d56809fc3e26623a509"
     }
    },
    "b1e749d422ff427997408ec3277b1815": {
     "model_module": "@jupyter-widgets/controls",
     "model_name": "ProgressStyleModel",
     "state": {
      "_view_name": "StyleView",
      "_model_name": "ProgressStyleModel",
      "description_width": "initial",
      "_view_module": "@jupyter-widgets/base",
      "_model_module_version": "1.5.0",
      "_view_count": null,
      "_view_module_version": "1.2.0",
      "bar_color": null,
      "_model_module": "@jupyter-widgets/controls"
     }
    },
    "7ba56130e0884b87975c722ac0295f2e": {
     "model_module": "@jupyter-widgets/base",
     "model_name": "LayoutModel",
     "state": {
      "_view_name": "LayoutView",
      "grid_template_rows": null,
      "right": null,
      "justify_content": null,
      "_view_module": "@jupyter-widgets/base",
      "overflow": null,
      "_model_module_version": "1.2.0",
      "_view_count": null,
      "flex_flow": null,
      "width": null,
      "min_width": null,
      "border": null,
      "align_items": null,
      "bottom": null,
      "_model_module": "@jupyter-widgets/base",
      "top": null,
      "grid_column": null,
      "overflow_y": null,
      "overflow_x": null,
      "grid_auto_flow": null,
      "grid_area": null,
      "grid_template_columns": null,
      "flex": null,
      "_model_name": "LayoutModel",
      "justify_items": null,
      "grid_row": null,
      "max_height": null,
      "align_content": null,
      "visibility": null,
      "align_self": null,
      "height": null,
      "min_height": null,
      "padding": null,
      "grid_auto_rows": null,
      "grid_gap": null,
      "max_width": null,
      "order": null,
      "_view_module_version": "1.2.0",
      "grid_template_areas": null,
      "object_position": null,
      "object_fit": null,
      "grid_auto_columns": null,
      "margin": null,
      "display": null,
      "left": null
     }
    },
    "c842ac4425db44e79a7095c0db5bad01": {
     "model_module": "@jupyter-widgets/controls",
     "model_name": "DescriptionStyleModel",
     "state": {
      "_view_name": "StyleView",
      "_model_name": "DescriptionStyleModel",
      "description_width": "",
      "_view_module": "@jupyter-widgets/base",
      "_model_module_version": "1.5.0",
      "_view_count": null,
      "_view_module_version": "1.2.0",
      "_model_module": "@jupyter-widgets/controls"
     }
    },
    "3d27362d161e4d56809fc3e26623a509": {
     "model_module": "@jupyter-widgets/base",
     "model_name": "LayoutModel",
     "state": {
      "_view_name": "LayoutView",
      "grid_template_rows": null,
      "right": null,
      "justify_content": null,
      "_view_module": "@jupyter-widgets/base",
      "overflow": null,
      "_model_module_version": "1.2.0",
      "_view_count": null,
      "flex_flow": null,
      "width": null,
      "min_width": null,
      "border": null,
      "align_items": null,
      "bottom": null,
      "_model_module": "@jupyter-widgets/base",
      "top": null,
      "grid_column": null,
      "overflow_y": null,
      "overflow_x": null,
      "grid_auto_flow": null,
      "grid_area": null,
      "grid_template_columns": null,
      "flex": null,
      "_model_name": "LayoutModel",
      "justify_items": null,
      "grid_row": null,
      "max_height": null,
      "align_content": null,
      "visibility": null,
      "align_self": null,
      "height": null,
      "min_height": null,
      "padding": null,
      "grid_auto_rows": null,
      "grid_gap": null,
      "max_width": null,
      "order": null,
      "_view_module_version": "1.2.0",
      "grid_template_areas": null,
      "object_position": null,
      "object_fit": null,
      "grid_auto_columns": null,
      "margin": null,
      "display": null,
      "left": null
     }
    },
    "20e46ce85cc94e41b642a4e267c7b135": {
     "model_module": "@jupyter-widgets/controls",
     "model_name": "HBoxModel",
     "state": {
      "_view_name": "HBoxView",
      "_dom_classes": [],
      "_model_name": "HBoxModel",
      "_view_module": "@jupyter-widgets/controls",
      "_model_module_version": "1.5.0",
      "_view_count": null,
      "_view_module_version": "1.5.0",
      "box_style": "",
      "layout": "IPY_MODEL_d9a8787cd0f946d19e5a9165c043fb6a",
      "_model_module": "@jupyter-widgets/controls",
      "children": [
       "IPY_MODEL_4b5d3dbe42eb4a1f8caf3547ba20c607",
       "IPY_MODEL_61b9ac15b3d140c88cfff87ffe6f5aef"
      ]
     }
    },
    "d9a8787cd0f946d19e5a9165c043fb6a": {
     "model_module": "@jupyter-widgets/base",
     "model_name": "LayoutModel",
     "state": {
      "_view_name": "LayoutView",
      "grid_template_rows": null,
      "right": null,
      "justify_content": null,
      "_view_module": "@jupyter-widgets/base",
      "overflow": null,
      "_model_module_version": "1.2.0",
      "_view_count": null,
      "flex_flow": null,
      "width": null,
      "min_width": null,
      "border": null,
      "align_items": null,
      "bottom": null,
      "_model_module": "@jupyter-widgets/base",
      "top": null,
      "grid_column": null,
      "overflow_y": null,
      "overflow_x": null,
      "grid_auto_flow": null,
      "grid_area": null,
      "grid_template_columns": null,
      "flex": null,
      "_model_name": "LayoutModel",
      "justify_items": null,
      "grid_row": null,
      "max_height": null,
      "align_content": null,
      "visibility": null,
      "align_self": null,
      "height": null,
      "min_height": null,
      "padding": null,
      "grid_auto_rows": null,
      "grid_gap": null,
      "max_width": null,
      "order": null,
      "_view_module_version": "1.2.0",
      "grid_template_areas": null,
      "object_position": null,
      "object_fit": null,
      "grid_auto_columns": null,
      "margin": null,
      "display": null,
      "left": null
     }
    },
    "4b5d3dbe42eb4a1f8caf3547ba20c607": {
     "model_module": "@jupyter-widgets/controls",
     "model_name": "FloatProgressModel",
     "state": {
      "_view_name": "ProgressView",
      "style": "IPY_MODEL_07948abcfbaa46dc8ed26394bf5b5bb3",
      "_dom_classes": [],
      "description": "nan: 100%",
      "_model_name": "FloatProgressModel",
      "bar_style": "success",
      "max": 244,
      "_view_module": "@jupyter-widgets/controls",
      "_model_module_version": "1.5.0",
      "value": 244,
      "_view_count": null,
      "_view_module_version": "1.5.0",
      "orientation": "horizontal",
      "min": 0,
      "description_tooltip": null,
      "_model_module": "@jupyter-widgets/controls",
      "layout": "IPY_MODEL_783e702ab63945498b7b5cfc6f238815"
     }
    },
    "61b9ac15b3d140c88cfff87ffe6f5aef": {
     "model_module": "@jupyter-widgets/controls",
     "model_name": "HTMLModel",
     "state": {
      "_view_name": "HTMLView",
      "style": "IPY_MODEL_2bd9b35200e74e0699e123c2f0111c8e",
      "_dom_classes": [],
      "description": "",
      "_model_name": "HTMLModel",
      "placeholder": "​",
      "_view_module": "@jupyter-widgets/controls",
      "_model_module_version": "1.5.0",
      "value": " 244/244 [00:00&lt;00:00, 6375.67it/s]",
      "_view_count": null,
      "_view_module_version": "1.5.0",
      "description_tooltip": null,
      "_model_module": "@jupyter-widgets/controls",
      "layout": "IPY_MODEL_bc3f4f1b2499480aba325aa4497d59ce"
     }
    },
    "07948abcfbaa46dc8ed26394bf5b5bb3": {
     "model_module": "@jupyter-widgets/controls",
     "model_name": "ProgressStyleModel",
     "state": {
      "_view_name": "StyleView",
      "_model_name": "ProgressStyleModel",
      "description_width": "initial",
      "_view_module": "@jupyter-widgets/base",
      "_model_module_version": "1.5.0",
      "_view_count": null,
      "_view_module_version": "1.2.0",
      "bar_color": null,
      "_model_module": "@jupyter-widgets/controls"
     }
    },
    "783e702ab63945498b7b5cfc6f238815": {
     "model_module": "@jupyter-widgets/base",
     "model_name": "LayoutModel",
     "state": {
      "_view_name": "LayoutView",
      "grid_template_rows": null,
      "right": null,
      "justify_content": null,
      "_view_module": "@jupyter-widgets/base",
      "overflow": null,
      "_model_module_version": "1.2.0",
      "_view_count": null,
      "flex_flow": null,
      "width": null,
      "min_width": null,
      "border": null,
      "align_items": null,
      "bottom": null,
      "_model_module": "@jupyter-widgets/base",
      "top": null,
      "grid_column": null,
      "overflow_y": null,
      "overflow_x": null,
      "grid_auto_flow": null,
      "grid_area": null,
      "grid_template_columns": null,
      "flex": null,
      "_model_name": "LayoutModel",
      "justify_items": null,
      "grid_row": null,
      "max_height": null,
      "align_content": null,
      "visibility": null,
      "align_self": null,
      "height": null,
      "min_height": null,
      "padding": null,
      "grid_auto_rows": null,
      "grid_gap": null,
      "max_width": null,
      "order": null,
      "_view_module_version": "1.2.0",
      "grid_template_areas": null,
      "object_position": null,
      "object_fit": null,
      "grid_auto_columns": null,
      "margin": null,
      "display": null,
      "left": null
     }
    },
    "2bd9b35200e74e0699e123c2f0111c8e": {
     "model_module": "@jupyter-widgets/controls",
     "model_name": "DescriptionStyleModel",
     "state": {
      "_view_name": "StyleView",
      "_model_name": "DescriptionStyleModel",
      "description_width": "",
      "_view_module": "@jupyter-widgets/base",
      "_model_module_version": "1.5.0",
      "_view_count": null,
      "_view_module_version": "1.2.0",
      "_model_module": "@jupyter-widgets/controls"
     }
    },
    "bc3f4f1b2499480aba325aa4497d59ce": {
     "model_module": "@jupyter-widgets/base",
     "model_name": "LayoutModel",
     "state": {
      "_view_name": "LayoutView",
      "grid_template_rows": null,
      "right": null,
      "justify_content": null,
      "_view_module": "@jupyter-widgets/base",
      "overflow": null,
      "_model_module_version": "1.2.0",
      "_view_count": null,
      "flex_flow": null,
      "width": null,
      "min_width": null,
      "border": null,
      "align_items": null,
      "bottom": null,
      "_model_module": "@jupyter-widgets/base",
      "top": null,
      "grid_column": null,
      "overflow_y": null,
      "overflow_x": null,
      "grid_auto_flow": null,
      "grid_area": null,
      "grid_template_columns": null,
      "flex": null,
      "_model_name": "LayoutModel",
      "justify_items": null,
      "grid_row": null,
      "max_height": null,
      "align_content": null,
      "visibility": null,
      "align_self": null,
      "height": null,
      "min_height": null,
      "padding": null,
      "grid_auto_rows": null,
      "grid_gap": null,
      "max_width": null,
      "order": null,
      "_view_module_version": "1.2.0",
      "grid_template_areas": null,
      "object_position": null,
      "object_fit": null,
      "grid_auto_columns": null,
      "margin": null,
      "display": null,
      "left": null
     }
    },
    "ce423926f26d455fb503ed562d34e7f5": {
     "model_module": "@jupyter-widgets/controls",
     "model_name": "HBoxModel",
     "state": {
      "_view_name": "HBoxView",
      "_dom_classes": [],
      "_model_name": "HBoxModel",
      "_view_module": "@jupyter-widgets/controls",
      "_model_module_version": "1.5.0",
      "_view_count": null,
      "_view_module_version": "1.5.0",
      "box_style": "",
      "layout": "IPY_MODEL_32da3d058e614aada0231924a14edf9e",
      "_model_module": "@jupyter-widgets/controls",
      "children": [
       "IPY_MODEL_1efa93ca16bb43158f237a7b7fa60063",
       "IPY_MODEL_b0aa54b9e0f1447db5ce31182636ddfb"
      ]
     }
    },
    "32da3d058e614aada0231924a14edf9e": {
     "model_module": "@jupyter-widgets/base",
     "model_name": "LayoutModel",
     "state": {
      "_view_name": "LayoutView",
      "grid_template_rows": null,
      "right": null,
      "justify_content": null,
      "_view_module": "@jupyter-widgets/base",
      "overflow": null,
      "_model_module_version": "1.2.0",
      "_view_count": null,
      "flex_flow": null,
      "width": null,
      "min_width": null,
      "border": null,
      "align_items": null,
      "bottom": null,
      "_model_module": "@jupyter-widgets/base",
      "top": null,
      "grid_column": null,
      "overflow_y": null,
      "overflow_x": null,
      "grid_auto_flow": null,
      "grid_area": null,
      "grid_template_columns": null,
      "flex": null,
      "_model_name": "LayoutModel",
      "justify_items": null,
      "grid_row": null,
      "max_height": null,
      "align_content": null,
      "visibility": null,
      "align_self": null,
      "height": null,
      "min_height": null,
      "padding": null,
      "grid_auto_rows": null,
      "grid_gap": null,
      "max_width": null,
      "order": null,
      "_view_module_version": "1.2.0",
      "grid_template_areas": null,
      "object_position": null,
      "object_fit": null,
      "grid_auto_columns": null,
      "margin": null,
      "display": null,
      "left": null
     }
    },
    "1efa93ca16bb43158f237a7b7fa60063": {
     "model_module": "@jupyter-widgets/controls",
     "model_name": "FloatProgressModel",
     "state": {
      "_view_name": "ProgressView",
      "style": "IPY_MODEL_c6c5a447ea4e43cdad7358e365bc12b7",
      "_dom_classes": [],
      "description": "speech: 100%",
      "_model_name": "FloatProgressModel",
      "bar_style": "success",
      "max": 244,
      "_view_module": "@jupyter-widgets/controls",
      "_model_module_version": "1.5.0",
      "value": 244,
      "_view_count": null,
      "_view_module_version": "1.5.0",
      "orientation": "horizontal",
      "min": 0,
      "description_tooltip": null,
      "_model_module": "@jupyter-widgets/controls",
      "layout": "IPY_MODEL_80d0eed59c94489ca5028d689d229371"
     }
    },
    "b0aa54b9e0f1447db5ce31182636ddfb": {
     "model_module": "@jupyter-widgets/controls",
     "model_name": "HTMLModel",
     "state": {
      "_view_name": "HTMLView",
      "style": "IPY_MODEL_88ffc48b282e4514ab0661422edc3439",
      "_dom_classes": [],
      "description": "",
      "_model_name": "HTMLModel",
      "placeholder": "​",
      "_view_module": "@jupyter-widgets/controls",
      "_model_module_version": "1.5.0",
      "value": " 244/244 [00:34&lt;00:00,  7.14it/s]",
      "_view_count": null,
      "_view_module_version": "1.5.0",
      "description_tooltip": null,
      "_model_module": "@jupyter-widgets/controls",
      "layout": "IPY_MODEL_15af55b8639a437da99df4b89729901e"
     }
    },
    "c6c5a447ea4e43cdad7358e365bc12b7": {
     "model_module": "@jupyter-widgets/controls",
     "model_name": "ProgressStyleModel",
     "state": {
      "_view_name": "StyleView",
      "_model_name": "ProgressStyleModel",
      "description_width": "initial",
      "_view_module": "@jupyter-widgets/base",
      "_model_module_version": "1.5.0",
      "_view_count": null,
      "_view_module_version": "1.2.0",
      "bar_color": null,
      "_model_module": "@jupyter-widgets/controls"
     }
    },
    "80d0eed59c94489ca5028d689d229371": {
     "model_module": "@jupyter-widgets/base",
     "model_name": "LayoutModel",
     "state": {
      "_view_name": "LayoutView",
      "grid_template_rows": null,
      "right": null,
      "justify_content": null,
      "_view_module": "@jupyter-widgets/base",
      "overflow": null,
      "_model_module_version": "1.2.0",
      "_view_count": null,
      "flex_flow": null,
      "width": null,
      "min_width": null,
      "border": null,
      "align_items": null,
      "bottom": null,
      "_model_module": "@jupyter-widgets/base",
      "top": null,
      "grid_column": null,
      "overflow_y": null,
      "overflow_x": null,
      "grid_auto_flow": null,
      "grid_area": null,
      "grid_template_columns": null,
      "flex": null,
      "_model_name": "LayoutModel",
      "justify_items": null,
      "grid_row": null,
      "max_height": null,
      "align_content": null,
      "visibility": null,
      "align_self": null,
      "height": null,
      "min_height": null,
      "padding": null,
      "grid_auto_rows": null,
      "grid_gap": null,
      "max_width": null,
      "order": null,
      "_view_module_version": "1.2.0",
      "grid_template_areas": null,
      "object_position": null,
      "object_fit": null,
      "grid_auto_columns": null,
      "margin": null,
      "display": null,
      "left": null
     }
    },
    "88ffc48b282e4514ab0661422edc3439": {
     "model_module": "@jupyter-widgets/controls",
     "model_name": "DescriptionStyleModel",
     "state": {
      "_view_name": "StyleView",
      "_model_name": "DescriptionStyleModel",
      "description_width": "",
      "_view_module": "@jupyter-widgets/base",
      "_model_module_version": "1.5.0",
      "_view_count": null,
      "_view_module_version": "1.2.0",
      "_model_module": "@jupyter-widgets/controls"
     }
    },
    "15af55b8639a437da99df4b89729901e": {
     "model_module": "@jupyter-widgets/base",
     "model_name": "LayoutModel",
     "state": {
      "_view_name": "LayoutView",
      "grid_template_rows": null,
      "right": null,
      "justify_content": null,
      "_view_module": "@jupyter-widgets/base",
      "overflow": null,
      "_model_module_version": "1.2.0",
      "_view_count": null,
      "flex_flow": null,
      "width": null,
      "min_width": null,
      "border": null,
      "align_items": null,
      "bottom": null,
      "_model_module": "@jupyter-widgets/base",
      "top": null,
      "grid_column": null,
      "overflow_y": null,
      "overflow_x": null,
      "grid_auto_flow": null,
      "grid_area": null,
      "grid_template_columns": null,
      "flex": null,
      "_model_name": "LayoutModel",
      "justify_items": null,
      "grid_row": null,
      "max_height": null,
      "align_content": null,
      "visibility": null,
      "align_self": null,
      "height": null,
      "min_height": null,
      "padding": null,
      "grid_auto_rows": null,
      "grid_gap": null,
      "max_width": null,
      "order": null,
      "_view_module_version": "1.2.0",
      "grid_template_areas": null,
      "object_position": null,
      "object_fit": null,
      "grid_auto_columns": null,
      "margin": null,
      "display": null,
      "left": null
     }
    },
    "85d0c91d90ca44198b26c2736237dd8f": {
     "model_module": "@jupyter-widgets/controls",
     "model_name": "HBoxModel",
     "state": {
      "_view_name": "HBoxView",
      "_dom_classes": [],
      "_model_name": "HBoxModel",
      "_view_module": "@jupyter-widgets/controls",
      "_model_module_version": "1.5.0",
      "_view_count": null,
      "_view_module_version": "1.5.0",
      "box_style": "",
      "layout": "IPY_MODEL_d6f2bd30e4894b599c8705dac9d97a02",
      "_model_module": "@jupyter-widgets/controls",
      "children": [
       "IPY_MODEL_8db464401cab40afb3cc49c6b6adea9d",
       "IPY_MODEL_66525578cf794a0da3804e4a8e1cc5cc"
      ]
     }
    },
    "d6f2bd30e4894b599c8705dac9d97a02": {
     "model_module": "@jupyter-widgets/base",
     "model_name": "LayoutModel",
     "state": {
      "_view_name": "LayoutView",
      "grid_template_rows": null,
      "right": null,
      "justify_content": null,
      "_view_module": "@jupyter-widgets/base",
      "overflow": null,
      "_model_module_version": "1.2.0",
      "_view_count": null,
      "flex_flow": null,
      "width": null,
      "min_width": null,
      "border": null,
      "align_items": null,
      "bottom": null,
      "_model_module": "@jupyter-widgets/base",
      "top": null,
      "grid_column": null,
      "overflow_y": null,
      "overflow_x": null,
      "grid_auto_flow": null,
      "grid_area": null,
      "grid_template_columns": null,
      "flex": null,
      "_model_name": "LayoutModel",
      "justify_items": null,
      "grid_row": null,
      "max_height": null,
      "align_content": null,
      "visibility": null,
      "align_self": null,
      "height": null,
      "min_height": null,
      "padding": null,
      "grid_auto_rows": null,
      "grid_gap": null,
      "max_width": null,
      "order": null,
      "_view_module_version": "1.2.0",
      "grid_template_areas": null,
      "object_position": null,
      "object_fit": null,
      "grid_auto_columns": null,
      "margin": null,
      "display": null,
      "left": null
     }
    },
    "8db464401cab40afb3cc49c6b6adea9d": {
     "model_module": "@jupyter-widgets/controls",
     "model_name": "FloatProgressModel",
     "state": {
      "_view_name": "ProgressView",
      "style": "IPY_MODEL_52aa4f2277a04d8cbdbdf1fb95345ecf",
      "_dom_classes": [],
      "description": "testimony: 100%",
      "_model_name": "FloatProgressModel",
      "bar_style": "success",
      "max": 244,
      "_view_module": "@jupyter-widgets/controls",
      "_model_module_version": "1.5.0",
      "value": 244,
      "_view_count": null,
      "_view_module_version": "1.5.0",
      "orientation": "horizontal",
      "min": 0,
      "description_tooltip": null,
      "_model_module": "@jupyter-widgets/controls",
      "layout": "IPY_MODEL_22b95dd800294d3fb6c809753387c33b"
     }
    },
    "66525578cf794a0da3804e4a8e1cc5cc": {
     "model_module": "@jupyter-widgets/controls",
     "model_name": "HTMLModel",
     "state": {
      "_view_name": "HTMLView",
      "style": "IPY_MODEL_9bdad9b0c4c347098a38805620ba7dd1",
      "_dom_classes": [],
      "description": "",
      "_model_name": "HTMLModel",
      "placeholder": "​",
      "_view_module": "@jupyter-widgets/controls",
      "_model_module_version": "1.5.0",
      "value": " 244/244 [00:13&lt;00:00, 17.95it/s]",
      "_view_count": null,
      "_view_module_version": "1.5.0",
      "description_tooltip": null,
      "_model_module": "@jupyter-widgets/controls",
      "layout": "IPY_MODEL_8c36818b65b64eab9032a0840d8dab05"
     }
    },
    "52aa4f2277a04d8cbdbdf1fb95345ecf": {
     "model_module": "@jupyter-widgets/controls",
     "model_name": "ProgressStyleModel",
     "state": {
      "_view_name": "StyleView",
      "_model_name": "ProgressStyleModel",
      "description_width": "initial",
      "_view_module": "@jupyter-widgets/base",
      "_model_module_version": "1.5.0",
      "_view_count": null,
      "_view_module_version": "1.2.0",
      "bar_color": null,
      "_model_module": "@jupyter-widgets/controls"
     }
    },
    "22b95dd800294d3fb6c809753387c33b": {
     "model_module": "@jupyter-widgets/base",
     "model_name": "LayoutModel",
     "state": {
      "_view_name": "LayoutView",
      "grid_template_rows": null,
      "right": null,
      "justify_content": null,
      "_view_module": "@jupyter-widgets/base",
      "overflow": null,
      "_model_module_version": "1.2.0",
      "_view_count": null,
      "flex_flow": null,
      "width": null,
      "min_width": null,
      "border": null,
      "align_items": null,
      "bottom": null,
      "_model_module": "@jupyter-widgets/base",
      "top": null,
      "grid_column": null,
      "overflow_y": null,
      "overflow_x": null,
      "grid_auto_flow": null,
      "grid_area": null,
      "grid_template_columns": null,
      "flex": null,
      "_model_name": "LayoutModel",
      "justify_items": null,
      "grid_row": null,
      "max_height": null,
      "align_content": null,
      "visibility": null,
      "align_self": null,
      "height": null,
      "min_height": null,
      "padding": null,
      "grid_auto_rows": null,
      "grid_gap": null,
      "max_width": null,
      "order": null,
      "_view_module_version": "1.2.0",
      "grid_template_areas": null,
      "object_position": null,
      "object_fit": null,
      "grid_auto_columns": null,
      "margin": null,
      "display": null,
      "left": null
     }
    },
    "9bdad9b0c4c347098a38805620ba7dd1": {
     "model_module": "@jupyter-widgets/controls",
     "model_name": "DescriptionStyleModel",
     "state": {
      "_view_name": "StyleView",
      "_model_name": "DescriptionStyleModel",
      "description_width": "",
      "_view_module": "@jupyter-widgets/base",
      "_model_module_version": "1.5.0",
      "_view_count": null,
      "_view_module_version": "1.2.0",
      "_model_module": "@jupyter-widgets/controls"
     }
    },
    "8c36818b65b64eab9032a0840d8dab05": {
     "model_module": "@jupyter-widgets/base",
     "model_name": "LayoutModel",
     "state": {
      "_view_name": "LayoutView",
      "grid_template_rows": null,
      "right": null,
      "justify_content": null,
      "_view_module": "@jupyter-widgets/base",
      "overflow": null,
      "_model_module_version": "1.2.0",
      "_view_count": null,
      "flex_flow": null,
      "width": null,
      "min_width": null,
      "border": null,
      "align_items": null,
      "bottom": null,
      "_model_module": "@jupyter-widgets/base",
      "top": null,
      "grid_column": null,
      "overflow_y": null,
      "overflow_x": null,
      "grid_auto_flow": null,
      "grid_area": null,
      "grid_template_columns": null,
      "flex": null,
      "_model_name": "LayoutModel",
      "justify_items": null,
      "grid_row": null,
      "max_height": null,
      "align_content": null,
      "visibility": null,
      "align_self": null,
      "height": null,
      "min_height": null,
      "padding": null,
      "grid_auto_rows": null,
      "grid_gap": null,
      "max_width": null,
      "order": null,
      "_view_module_version": "1.2.0",
      "grid_template_areas": null,
      "object_position": null,
      "object_fit": null,
      "grid_auto_columns": null,
      "margin": null,
      "display": null,
      "left": null
     }
    }
   }
  }
 },
 "cells": [
  {
   "cell_type": "markdown",
   "metadata": {
    "id": "lHecaO_7JG6L"
   },
   "source": [
    "# Predicting interest rates from Federal Reserve documents\n",
    "## Model Training (Vol. 6)\n",
    "FE 690: Machine Learning in Finance \\\\\n",
    "Author: Theo Dimitrasopoulos \\\\\n",
    "Advisor: Zachary Feinstein \\\\"
   ]
  },
  {
   "cell_type": "markdown",
   "metadata": {
    "id": "aTOplh0PjD72"
   },
   "source": [
    "## Environment"
   ]
  },
  {
   "cell_type": "code",
   "metadata": {
    "id": "X2MZzFxZw5pK",
    "colab": {
     "base_uri": "https://localhost:8080/"
    },
    "executionInfo": {
     "status": "ok",
     "timestamp": 1609314107079,
     "user_tz": 300,
     "elapsed": 1117,
     "user": {
      "displayName": "Theo Dimitrasopoulos",
      "photoUrl": "https://lh3.googleusercontent.com/a-/AOh14GhRNhCMR9OSve5rpYHqQ5AxXHb4FT75fg51p-tfkA=s64",
      "userId": "13959094896036405890"
     }
    },
    "outputId": "5ac34e83-9551-4419-cbc4-8f573e1c3e4d"
   },
   "source": [
    "import sys\n",
    "IN_COLAB = 'google.colab' in sys.modules\n",
    "IN_COLAB"
   ],
   "execution_count": 44,
   "outputs": [
    {
     "output_type": "execute_result",
     "data": {
      "text/plain": [
       "True"
      ]
     },
     "metadata": {
      "tags": []
     },
     "execution_count": 44
    }
   ]
  },
  {
   "cell_type": "code",
   "metadata": {
    "id": "gEvZT1hGw5pN",
    "colab": {
     "base_uri": "https://localhost:8080/"
    },
    "executionInfo": {
     "status": "ok",
     "timestamp": 1609314108083,
     "user_tz": 300,
     "elapsed": 2114,
     "user": {
      "displayName": "Theo Dimitrasopoulos",
      "photoUrl": "https://lh3.googleusercontent.com/a-/AOh14GhRNhCMR9OSve5rpYHqQ5AxXHb4FT75fg51p-tfkA=s64",
      "userId": "13959094896036405890"
     }
    },
    "outputId": "166ab79d-9e80-40b8-c502-37dc2fbb1641"
   },
   "source": [
    "# Use TPU\n",
    "if IN_COLAB:\n",
    "  # TPU Setting\n",
    "  import os\n",
    "  assert os.environ['COLAB_TPU_ADDR'], 'Make sure to select TPU from Edit > Notebook setting > Hardware accelerator'\n",
    "  VERSION = \"20200220\"\n",
    "  !curl https://raw.githubusercontent.com/pytorch/xla/master/contrib/scripts/env-setup.py -o pytorch-xla-env-setup.py\n",
    "  !python pytorch-xla-env-setup.py --version $VERSION"
   ],
   "execution_count": 45,
   "outputs": [
    {
     "output_type": "stream",
     "text": [
      "  % Total    % Received % Xferd  Average Speed   Time    Time     Time  Current\n",
      "                                 Dload  Upload   Total   Spent    Left  Speed\n",
      "100  5116  100  5116    0     0  22438      0 --:--:-- --:--:-- --:--:-- 22438\n",
      "Traceback (most recent call last):\n",
      "  File \"pytorch-xla-env-setup.py\", line 161, in <module>\n",
      "    run_setup(args)\n",
      "  File \"pytorch-xla-env-setup.py\", line 123, in run_setup\n",
      "    version = get_version(args.version)\n",
      "  File \"pytorch-xla-env-setup.py\", line 76, in get_version\n",
      "    raise ValueError(f'Oldest nightly version available is {OLDEST_VERSION}')\n",
      "ValueError: Oldest nightly version available is 2020-03-18 00:00:00\n"
     ],
     "name": "stdout"
    }
   ]
  },
  {
   "cell_type": "code",
   "metadata": {
    "id": "M8ydqOKGw5pP",
    "executionInfo": {
     "status": "ok",
     "timestamp": 1609314108083,
     "user_tz": 300,
     "elapsed": 2108,
     "user": {
      "displayName": "Theo Dimitrasopoulos",
      "photoUrl": "https://lh3.googleusercontent.com/a-/AOh14GhRNhCMR9OSve5rpYHqQ5AxXHb4FT75fg51p-tfkA=s64",
      "userId": "13959094896036405890"
     }
    }
   },
   "source": [
    "#if IN_COLAB:\n",
    "  # Uninstall existing versions:\n",
    "  #!pip uninstall numpy -y\n",
    "  #!pip uninstall pandas -y\n",
    "  #!pip uninstall tqdm -y\n",
    "  #!pip uninstall torch -y\n",
    "  #!pip uninstall scikit-plot -y\n",
    "  #!pip uninstall transformers -y\n",
    "  \n",
    "  # Install packages:\n",
    "  #!pip install numpy==1.16.4\n",
    "  #!pip install pandas\n",
    "  #!pip install torch==1.4.0\n",
    "  #!pip install tqdm==4.43.0\n",
    "  #!pip install scikit-plot\n",
    "  #!pip install transformers\n",
    "  #os.kill(os.getpid(), 9)"
   ],
   "execution_count": 46,
   "outputs": []
  },
  {
   "cell_type": "code",
   "metadata": {
    "id": "pYiY1suXzjKg",
    "colab": {
     "base_uri": "https://localhost:8080/"
    },
    "executionInfo": {
     "status": "ok",
     "timestamp": 1609314108083,
     "user_tz": 300,
     "elapsed": 2102,
     "user": {
      "displayName": "Theo Dimitrasopoulos",
      "photoUrl": "https://lh3.googleusercontent.com/a-/AOh14GhRNhCMR9OSve5rpYHqQ5AxXHb4FT75fg51p-tfkA=s64",
      "userId": "13959094896036405890"
     }
    },
    "outputId": "4c4683a9-87fc-4a50-cc68-c7e8f395bf86"
   },
   "source": [
    "# Python libraries\n",
    "import datetime as dt\n",
    "import re\n",
    "import pickle\n",
    "from tqdm.notebook import tqdm\n",
    "import time\n",
    "import logging\n",
    "import random\n",
    "from collections import defaultdict, Counter\n",
    "\n",
    "# Data Science modules\n",
    "import numpy as np\n",
    "import pandas as pd\n",
    "import matplotlib.pyplot as plt\n",
    "import seaborn as sns; sns.set()\n",
    "plt.style.use('ggplot')\n",
    "\n",
    "# Import Scikit-learn moduels\n",
    "from sklearn.feature_extraction.text import CountVectorizer, TfidfVectorizer\n",
    "from sklearn.metrics import accuracy_score, f1_score, plot_confusion_matrix\n",
    "from sklearn.pipeline import Pipeline, FeatureUnion\n",
    "from sklearn.ensemble import RandomForestClassifier\n",
    "from sklearn.linear_model import LogisticRegression, Perceptron, SGDClassifier\n",
    "from sklearn.tree import DecisionTreeClassifier\n",
    "from sklearn import model_selection\n",
    "from sklearn.model_selection import GridSearchCV, cross_val_score, cross_validate, StratifiedKFold, learning_curve, RandomizedSearchCV\n",
    "import scikitplot as skplt\n",
    "\n",
    "# Import nltk modules and download dataset\n",
    "import nltk\n",
    "from nltk.corpus import stopwords\n",
    "from nltk.util import ngrams\n",
    "from nltk.tokenize import word_tokenize\n",
    "\n",
    "nltk.download('stopwords')\n",
    "nltk.download('punkt')\n",
    "nltk.download('wordnet')\n",
    "\n",
    "stop = set(stopwords.words('english'))\n",
    "\n",
    "# Import Pytorch modules\n",
    "import torch\n",
    "from torch import nn, optim\n",
    "import torch.nn.functional as F\n",
    "from torch.utils.data import (DataLoader, RandomSampler, SequentialSampler, TensorDataset)\n",
    "from torch.autograd import Variable\n",
    "from torch.optim import Adam, AdamW"
   ],
   "execution_count": 47,
   "outputs": [
    {
     "output_type": "stream",
     "text": [
      "[nltk_data] Downloading package stopwords to /root/nltk_data...\n",
      "[nltk_data]   Package stopwords is already up-to-date!\n",
      "[nltk_data] Downloading package punkt to /root/nltk_data...\n",
      "[nltk_data]   Package punkt is already up-to-date!\n",
      "[nltk_data] Downloading package wordnet to /root/nltk_data...\n",
      "[nltk_data]   Package wordnet is already up-to-date!\n"
     ],
     "name": "stdout"
    }
   ]
  },
  {
   "cell_type": "code",
   "metadata": {
    "id": "C-37Bpnkw5pT",
    "executionInfo": {
     "status": "ok",
     "timestamp": 1609314108084,
     "user_tz": 300,
     "elapsed": 2097,
     "user": {
      "displayName": "Theo Dimitrasopoulos",
      "photoUrl": "https://lh3.googleusercontent.com/a-/AOh14GhRNhCMR9OSve5rpYHqQ5AxXHb4FT75fg51p-tfkA=s64",
      "userId": "13959094896036405890"
     }
    }
   },
   "source": [
    "# Set logger\n",
    "logger = logging.getLogger('mylogger')\n",
    "logger.setLevel(logging.INFO)\n",
    "\n",
    "timestamp = time.strftime(\"%Y.%m.%d_%H.%M.%S\", time.localtime())\n",
    "formatter = logging.Formatter('[%(asctime)s][%(levelname)s] ## %(message)s')\n",
    "\n",
    "fh = logging.FileHandler('log_model.txt')\n",
    "fh.setLevel(logging.DEBUG)\n",
    "fh.setFormatter(formatter)\n",
    "logger.addHandler(fh)\n",
    "\n",
    "ch = logging.StreamHandler()\n",
    "ch.setLevel(logging.INFO)\n",
    "ch.setFormatter(formatter)\n",
    "logger.addHandler(ch)"
   ],
   "execution_count": 48,
   "outputs": []
  },
  {
   "cell_type": "code",
   "metadata": {
    "id": "PYf9oi6fw5pV",
    "executionInfo": {
     "status": "ok",
     "timestamp": 1609314108084,
     "user_tz": 300,
     "elapsed": 2090,
     "user": {
      "displayName": "Theo Dimitrasopoulos",
      "photoUrl": "https://lh3.googleusercontent.com/a-/AOh14GhRNhCMR9OSve5rpYHqQ5AxXHb4FT75fg51p-tfkA=s64",
      "userId": "13959094896036405890"
     }
    }
   },
   "source": [
    "# Set Random Seed\n",
    "random.seed(42)\n",
    "np.random.seed(42)\n",
    "torch.manual_seed(42)\n",
    "torch.cuda.manual_seed(42)\n",
    "rand_seed = 42"
   ],
   "execution_count": 49,
   "outputs": []
  },
  {
   "cell_type": "code",
   "metadata": {
    "id": "Cb55v8tkw5pX",
    "executionInfo": {
     "status": "ok",
     "timestamp": 1609314108085,
     "user_tz": 300,
     "elapsed": 2085,
     "user": {
      "displayName": "Theo Dimitrasopoulos",
      "photoUrl": "https://lh3.googleusercontent.com/a-/AOh14GhRNhCMR9OSve5rpYHqQ5AxXHb4FT75fg51p-tfkA=s64",
      "userId": "13959094896036405890"
     }
    }
   },
   "source": [
    "# Set Seaborn Style\n",
    "sns.set(style='white', context='notebook', palette='deep')"
   ],
   "execution_count": 50,
   "outputs": []
  },
  {
   "cell_type": "code",
   "metadata": {
    "id": "N4OqZfqcw5pZ",
    "executionInfo": {
     "status": "ok",
     "timestamp": 1609314108085,
     "user_tz": 300,
     "elapsed": 2078,
     "user": {
      "displayName": "Theo Dimitrasopoulos",
      "photoUrl": "https://lh3.googleusercontent.com/a-/AOh14GhRNhCMR9OSve5rpYHqQ5AxXHb4FT75fg51p-tfkA=s64",
      "userId": "13959094896036405890"
     }
    }
   },
   "source": [
    "# Check Device\n",
    "#if IN_COLAB:\n",
    "#  torch.cuda.get_device_name(0)"
   ],
   "execution_count": 51,
   "outputs": []
  },
  {
   "cell_type": "markdown",
   "metadata": {
    "id": "uSVVc9rew5pd"
   },
   "source": [
    "## Load preprocessed data"
   ]
  },
  {
   "cell_type": "code",
   "metadata": {
    "id": "rdwYN7SIw5pd",
    "colab": {
     "base_uri": "https://localhost:8080/"
    },
    "executionInfo": {
     "status": "ok",
     "timestamp": 1609314108085,
     "user_tz": 300,
     "elapsed": 2069,
     "user": {
      "displayName": "Theo Dimitrasopoulos",
      "photoUrl": "https://lh3.googleusercontent.com/a-/AOh14GhRNhCMR9OSve5rpYHqQ5AxXHb4FT75fg51p-tfkA=s64",
      "userId": "13959094896036405890"
     }
    },
    "outputId": "f6d10f54-9b88-4403-c6a5-3bd7f784e9fe"
   },
   "source": [
    "if IN_COLAB:\n",
    "  from google.colab import drive\n",
    "  drive.mount('/content/drive')"
   ],
   "execution_count": 52,
   "outputs": [
    {
     "output_type": "stream",
     "text": [
      "Drive already mounted at /content/drive; to attempt to forcibly remount, call drive.mount(\"/content/drive\", force_remount=True).\n"
     ],
     "name": "stdout"
    }
   ]
  },
  {
   "cell_type": "code",
   "metadata": {
    "id": "sLFBUS8Hw5pf",
    "executionInfo": {
     "status": "ok",
     "timestamp": 1609314108086,
     "user_tz": 300,
     "elapsed": 2060,
     "user": {
      "displayName": "Theo Dimitrasopoulos",
      "photoUrl": "https://lh3.googleusercontent.com/a-/AOh14GhRNhCMR9OSve5rpYHqQ5AxXHb4FT75fg51p-tfkA=s64",
      "userId": "13959094896036405890"
     }
    }
   },
   "source": [
    "if IN_COLAB:\n",
    "  employment_data_dir = '/content/drive/My Drive/Colab Notebooks/proj2/src/data/MarketData/Employment/'\n",
    "  cpi_data_dir = '/content/drive/My Drive/Colab Notebooks/proj2/src/data/MarketData/CPI/'\n",
    "  fed_rates_dir = '/content/drive/My Drive/Colab Notebooks/proj2/src/data/MarketData/FEDRates/'\n",
    "  fx_rates_dir = '/content/drive/My Drive/Colab Notebooks/proj2/src/data/MarketData/FXRates/'\n",
    "  gdp_data_dir = '/content/drive/My Drive/Colab Notebooks/proj2/src/data/MarketData/GDP/'\n",
    "  ism_data_dir = '/content/drive/My Drive/Colab Notebooks/proj2/src/data/MarketData/ISM/'\n",
    "  sales_data_dir = '/content/drive/My Drive/Colab Notebooks/proj2/src/data/MarketData/Sales/'\n",
    "  treasury_data_dir = '/content/drive/My Drive/Colab Notebooks/proj2/src/data/MarketData/Treasury/'\n",
    "  fomc_dir = '/content/drive/My Drive/Colab Notebooks/proj2/src/data/FOMC/'\n",
    "  preprocessed_dir = '/content/drive/My Drive/Colab Notebooks/proj2/src/data/preprocessed/'\n",
    "  train_dir = '/content/drive/My Drive/Colab Notebooks/proj2/src/data/train_data/'\n",
    "  output_dir = '/content/drive/My Drive/Colab Notebooks/proj2/src/data/result/'\n",
    "  keyword_lm_dir = '/content/drive/My Drive/Colab Notebooks/proj2/src/data/LoughranMcDonald/'\n",
    "  glove_dir = '/content/drive/My Drive/Colab Notebooks/proj2/src/data/GloVe/'\n",
    "  model_dir = '/content/drive/My Drive/Colab Notebooks/proj2/src/data/models/'\n",
    "else:\n",
    "  employment_data_dir = 'C:/Users/theon/GDrive/Colab Notebooks/proj2/src/data/MarketData/Employment/'\n",
    "  cpi_data_dir = 'C:/Users/theon/GDrive/Colab Notebooks/proj2/src/data/MarketData/CPI/'\n",
    "  fed_rates_dir = 'C:/Users/theon/GDrive/Colab Notebooks/proj2/src/data/MarketData/FEDRates/'\n",
    "  fx_rates_dir = 'C:/Users/theon/GDrive/Colab Notebooks/proj2/src/data/MarketData/FXRates/'\n",
    "  gdp_data_dir = 'C:/Users/theon/GDrive/Colab Notebooks/proj2/src/data/MarketData/GDP/'\n",
    "  ism_data_dir = 'C:/Users/theon/GDrive/Colab Notebooks/proj2/src/data/MarketData/ISM/'\n",
    "  sales_data_dir = 'C:/Users/theon/GDrive/Colab Notebooks/proj2/src/data/MarketData/Sales/'\n",
    "  treasury_data_dir = 'C:/Users/theon/GDrive/Colab Notebooks/proj2/src/data/MarketData/Treasury/'\n",
    "  fomc_dir = 'C:/Users/theon/GDrive/Colab Notebooks/proj2/src/data/FOMC/'\n",
    "  preprocessed_dir = 'C:/Users/theon/GDrive/Colab Notebooks/proj2/src/data/preprocessed/'\n",
    "  train_dir = 'C:/Users/theon/GDrive/Colab Notebooks/proj2/src/data/train_data/'\n",
    "  output_dir = 'C:/Users/theon/GDrive/Colab Notebooks/proj2/src/data/result/'\n",
    "  keyword_lm_dir = 'C:/Users/theon/GDrive/Colab Notebooks/proj2/src/data/LoughranMcDonald/'\n",
    "  glove_dir = 'C:/Users/theon/GDrive/Colab Notebooks/proj2/src/data/GloVe/'\n",
    "  model_dir = 'C:/Users/theon/GDrive/Colab Notebooks/proj2/src/data/models/'"
   ],
   "execution_count": 53,
   "outputs": []
  },
  {
   "cell_type": "code",
   "metadata": {
    "id": "TC_3RwSGw5ph",
    "scrolled": true,
    "colab": {
     "base_uri": "https://localhost:8080/",
     "height": 640
    },
    "executionInfo": {
     "status": "ok",
     "timestamp": 1609314108086,
     "user_tz": 300,
     "elapsed": 2050,
     "user": {
      "displayName": "Theo Dimitrasopoulos",
      "photoUrl": "https://lh3.googleusercontent.com/a-/AOh14GhRNhCMR9OSve5rpYHqQ5AxXHb4FT75fg51p-tfkA=s64",
      "userId": "13959094896036405890"
     }
    },
    "outputId": "290045f4-8a4d-4a2f-ff5c-5b685e673968"
   },
   "source": [
    "file = open(train_dir + 'nontext_train_small.pickle', 'rb')\n",
    "train_df = pickle.load(file)\n",
    "file.close()\n",
    "#train_df = pd.read_csv(train_dir + 'nontext_train_small.csv')\n",
    "#print(train_df.shape)\n",
    "train_df\n"
   ],
   "execution_count": 54,
   "outputs": [
    {
     "output_type": "execute_result",
     "data": {
      "text/html": [
       "<div>\n",
       "<style scoped>\n",
       "    .dataframe tbody tr th:only-of-type {\n",
       "        vertical-align: middle;\n",
       "    }\n",
       "\n",
       "    .dataframe tbody tr th {\n",
       "        vertical-align: top;\n",
       "    }\n",
       "\n",
       "    .dataframe thead th {\n",
       "        text-align: right;\n",
       "    }\n",
       "</style>\n",
       "<table border=\"1\" class=\"dataframe\">\n",
       "  <thead>\n",
       "    <tr style=\"text-align: right;\">\n",
       "      <th></th>\n",
       "      <th>target</th>\n",
       "      <th>prev_decision</th>\n",
       "      <th>GDP_diff_prev</th>\n",
       "      <th>PMI_value</th>\n",
       "      <th>Employ_diff_prev</th>\n",
       "      <th>Rsales_diff_year</th>\n",
       "      <th>Unemp_diff_prev</th>\n",
       "      <th>Inertia_diff</th>\n",
       "      <th>Hsales_diff_year</th>\n",
       "      <th>Balanced_diff</th>\n",
       "    </tr>\n",
       "    <tr>\n",
       "      <th>date</th>\n",
       "      <th></th>\n",
       "      <th></th>\n",
       "      <th></th>\n",
       "      <th></th>\n",
       "      <th></th>\n",
       "      <th></th>\n",
       "      <th></th>\n",
       "      <th></th>\n",
       "      <th></th>\n",
       "      <th></th>\n",
       "    </tr>\n",
       "  </thead>\n",
       "  <tbody>\n",
       "    <tr>\n",
       "      <th>1982-10-05</th>\n",
       "      <td>-1</td>\n",
       "      <td>0</td>\n",
       "      <td>0.456197</td>\n",
       "      <td>38.8</td>\n",
       "      <td>-169.0</td>\n",
       "      <td>1.807631</td>\n",
       "      <td>-0.166667</td>\n",
       "      <td>-0.018226</td>\n",
       "      <td>-15.485275</td>\n",
       "      <td>0.003723</td>\n",
       "    </tr>\n",
       "    <tr>\n",
       "      <th>1982-11-16</th>\n",
       "      <td>-1</td>\n",
       "      <td>-1</td>\n",
       "      <td>-0.382295</td>\n",
       "      <td>39.4</td>\n",
       "      <td>-228.0</td>\n",
       "      <td>1.807631</td>\n",
       "      <td>-0.200000</td>\n",
       "      <td>-0.018226</td>\n",
       "      <td>-9.537496</td>\n",
       "      <td>0.003723</td>\n",
       "    </tr>\n",
       "    <tr>\n",
       "      <th>1982-12-21</th>\n",
       "      <td>0</td>\n",
       "      <td>-1</td>\n",
       "      <td>-0.382295</td>\n",
       "      <td>39.2</td>\n",
       "      <td>-198.5</td>\n",
       "      <td>1.807631</td>\n",
       "      <td>-0.333333</td>\n",
       "      <td>-0.018226</td>\n",
       "      <td>-3.116275</td>\n",
       "      <td>0.003723</td>\n",
       "    </tr>\n",
       "    <tr>\n",
       "      <th>1983-01-14</th>\n",
       "      <td>0</td>\n",
       "      <td>0</td>\n",
       "      <td>-0.382295</td>\n",
       "      <td>42.8</td>\n",
       "      <td>-68.0</td>\n",
       "      <td>1.807631</td>\n",
       "      <td>-0.233333</td>\n",
       "      <td>-0.018226</td>\n",
       "      <td>-0.774432</td>\n",
       "      <td>0.003723</td>\n",
       "    </tr>\n",
       "    <tr>\n",
       "      <th>1983-01-21</th>\n",
       "      <td>0</td>\n",
       "      <td>0</td>\n",
       "      <td>-0.382295</td>\n",
       "      <td>42.8</td>\n",
       "      <td>-68.0</td>\n",
       "      <td>1.807631</td>\n",
       "      <td>-0.233333</td>\n",
       "      <td>-0.043785</td>\n",
       "      <td>-0.774432</td>\n",
       "      <td>0.003723</td>\n",
       "    </tr>\n",
       "    <tr>\n",
       "      <th>...</th>\n",
       "      <td>...</td>\n",
       "      <td>...</td>\n",
       "      <td>...</td>\n",
       "      <td>...</td>\n",
       "      <td>...</td>\n",
       "      <td>...</td>\n",
       "      <td>...</td>\n",
       "      <td>...</td>\n",
       "      <td>...</td>\n",
       "      <td>...</td>\n",
       "    </tr>\n",
       "    <tr>\n",
       "      <th>2020-03-15</th>\n",
       "      <td>-1</td>\n",
       "      <td>-1</td>\n",
       "      <td>0.527469</td>\n",
       "      <td>50.1</td>\n",
       "      <td>232.5</td>\n",
       "      <td>2.217385</td>\n",
       "      <td>0.000000</td>\n",
       "      <td>-0.058085</td>\n",
       "      <td>13.910886</td>\n",
       "      <td>0.004279</td>\n",
       "    </tr>\n",
       "    <tr>\n",
       "      <th>2020-03-19</th>\n",
       "      <td>0</td>\n",
       "      <td>-1</td>\n",
       "      <td>0.527469</td>\n",
       "      <td>50.1</td>\n",
       "      <td>232.5</td>\n",
       "      <td>2.217385</td>\n",
       "      <td>0.000000</td>\n",
       "      <td>-0.057139</td>\n",
       "      <td>13.910886</td>\n",
       "      <td>0.001426</td>\n",
       "    </tr>\n",
       "    <tr>\n",
       "      <th>2020-03-23</th>\n",
       "      <td>0</td>\n",
       "      <td>0</td>\n",
       "      <td>0.527469</td>\n",
       "      <td>50.1</td>\n",
       "      <td>232.5</td>\n",
       "      <td>2.217385</td>\n",
       "      <td>0.000000</td>\n",
       "      <td>-0.057139</td>\n",
       "      <td>13.910886</td>\n",
       "      <td>0.001426</td>\n",
       "    </tr>\n",
       "    <tr>\n",
       "      <th>2020-03-31</th>\n",
       "      <td>0</td>\n",
       "      <td>0</td>\n",
       "      <td>0.527469</td>\n",
       "      <td>50.1</td>\n",
       "      <td>232.5</td>\n",
       "      <td>2.217385</td>\n",
       "      <td>0.000000</td>\n",
       "      <td>-0.114279</td>\n",
       "      <td>13.910886</td>\n",
       "      <td>0.006092</td>\n",
       "    </tr>\n",
       "    <tr>\n",
       "      <th>2020-04-29</th>\n",
       "      <td>0</td>\n",
       "      <td>0</td>\n",
       "      <td>0.527469</td>\n",
       "      <td>49.1</td>\n",
       "      <td>-561.0</td>\n",
       "      <td>-2.491979</td>\n",
       "      <td>-0.300000</td>\n",
       "      <td>-0.431520</td>\n",
       "      <td>12.468252</td>\n",
       "      <td>0.040295</td>\n",
       "    </tr>\n",
       "  </tbody>\n",
       "</table>\n",
       "<p>398 rows × 10 columns</p>\n",
       "</div>"
      ],
      "text/plain": [
       "            target  prev_decision  ...  Hsales_diff_year  Balanced_diff\n",
       "date                               ...                                 \n",
       "1982-10-05      -1              0  ...        -15.485275       0.003723\n",
       "1982-11-16      -1             -1  ...         -9.537496       0.003723\n",
       "1982-12-21       0             -1  ...         -3.116275       0.003723\n",
       "1983-01-14       0              0  ...         -0.774432       0.003723\n",
       "1983-01-21       0              0  ...         -0.774432       0.003723\n",
       "...            ...            ...  ...               ...            ...\n",
       "2020-03-15      -1             -1  ...         13.910886       0.004279\n",
       "2020-03-19       0             -1  ...         13.910886       0.001426\n",
       "2020-03-23       0              0  ...         13.910886       0.001426\n",
       "2020-03-31       0              0  ...         13.910886       0.006092\n",
       "2020-04-29       0              0  ...         12.468252       0.040295\n",
       "\n",
       "[398 rows x 10 columns]"
      ]
     },
     "metadata": {
      "tags": []
     },
     "execution_count": 54
    }
   ]
  },
  {
   "cell_type": "code",
   "metadata": {
    "id": "wW8pWlJjw5pi",
    "colab": {
     "base_uri": "https://localhost:8080/"
    },
    "executionInfo": {
     "status": "ok",
     "timestamp": 1609314108367,
     "user_tz": 300,
     "elapsed": 2319,
     "user": {
      "displayName": "Theo Dimitrasopoulos",
      "photoUrl": "https://lh3.googleusercontent.com/a-/AOh14GhRNhCMR9OSve5rpYHqQ5AxXHb4FT75fg51p-tfkA=s64",
      "userId": "13959094896036405890"
     }
    },
    "outputId": "2b2f1ae6-51b7-4e5b-f704-579acd3ebd13"
   },
   "source": [
    "nontext_columns = train_df.drop(columns=['target']).columns.tolist()\n",
    "nontext_columns"
   ],
   "execution_count": 55,
   "outputs": [
    {
     "output_type": "execute_result",
     "data": {
      "text/plain": [
       "['prev_decision',\n",
       " 'GDP_diff_prev',\n",
       " 'PMI_value',\n",
       " 'Employ_diff_prev',\n",
       " 'Rsales_diff_year',\n",
       " 'Unemp_diff_prev',\n",
       " 'Inertia_diff',\n",
       " 'Hsales_diff_year',\n",
       " 'Balanced_diff']"
      ]
     },
     "metadata": {
      "tags": []
     },
     "execution_count": 55
    }
   ]
  },
  {
   "cell_type": "code",
   "metadata": {
    "id": "8UgJAxAcw5pk",
    "colab": {
     "base_uri": "https://localhost:8080/"
    },
    "executionInfo": {
     "status": "ok",
     "timestamp": 1609314108723,
     "user_tz": 300,
     "elapsed": 2662,
     "user": {
      "displayName": "Theo Dimitrasopoulos",
      "photoUrl": "https://lh3.googleusercontent.com/a-/AOh14GhRNhCMR9OSve5rpYHqQ5AxXHb4FT75fg51p-tfkA=s64",
      "userId": "13959094896036405890"
     }
    },
    "outputId": "41ca6b6b-5f64-44b4-894b-67001191f0df"
   },
   "source": [
    "file = open(preprocessed_dir + 'text_no_split.pickle', 'rb') # Original text\n",
    "text_no_split = pickle.load(file)\n",
    "file.close()\n",
    "#text_no_split = pd.read_csv(preprocessed_dir + 'text_no_split.csv')\n",
    "print(text_no_split['next_decision'])\n",
    "file = open(preprocessed_dir + 'text_split_200.pickle', 'rb') # Split at 200 words\n",
    "text_split_200 = pickle.load(file)\n",
    "file.close()\n",
    "#text_split_200 = pd.read_csv(preprocessed_dir + 'text_split_200.csv')\n",
    "#text_split_200.head(10)\n",
    "file = open(preprocessed_dir + 'text_keyword.pickle', 'rb') # Paragraphs filtered for those having keywords\n",
    "text_keyword = pickle.load(file)\n",
    "file.close()\n",
    "#text_keyword = pd.read_csv(preprocessed_dir + 'text_keyword.csv')\n",
    "#text_keyword.head(10)"
   ],
   "execution_count": 56,
   "outputs": [
    {
     "output_type": "stream",
     "text": [
      "0        <NA>\n",
      "1        <NA>\n",
      "2        <NA>\n",
      "3        <NA>\n",
      "4        <NA>\n",
      "         ... \n",
      "48578    <NA>\n",
      "48579    <NA>\n",
      "48580    <NA>\n",
      "48581    <NA>\n",
      "48582    <NA>\n",
      "Name: next_decision, Length: 48583, dtype: object\n"
     ],
     "name": "stdout"
    }
   ]
  },
  {
   "cell_type": "markdown",
   "metadata": {
    "id": "t_htY1Ljw5pm"
   },
   "source": [
    "## Check the statistics of texts"
   ]
  },
  {
   "cell_type": "code",
   "metadata": {
    "id": "Vw7FJtqEw5pm",
    "colab": {
     "base_uri": "https://localhost:8080/",
     "height": 565
    },
    "executionInfo": {
     "status": "ok",
     "timestamp": 1609314109129,
     "user_tz": 300,
     "elapsed": 3054,
     "user": {
      "displayName": "Theo Dimitrasopoulos",
      "photoUrl": "https://lh3.googleusercontent.com/a-/AOh14GhRNhCMR9OSve5rpYHqQ5AxXHb4FT75fg51p-tfkA=s64",
      "userId": "13959094896036405890"
     }
    },
    "outputId": "82656f5f-54ba-4224-d360-c0af15e73e54"
   },
   "source": [
    "fig, (ax1, ax2, ax3) = plt.subplots(1, 3, figsize=(15,7))\n",
    "sns.countplot(x='type', data=text_no_split, ax=ax1)\n",
    "ax1.set_title('text_no_split')\n",
    "ax1.tick_params('x', labelrotation=45)\n",
    "sns.countplot(x='type', data=text_split_200, ax=ax2)\n",
    "ax2.set_title('text_split_200')\n",
    "ax2.tick_params('x', labelrotation=45)\n",
    "sns.countplot(x='type', data=text_keyword, ax=ax3)\n",
    "ax3.set_title('text_keyword')\n",
    "ax3.tick_params('x', labelrotation=45)\n",
    "fig.suptitle(\"The nuber of records\", fontsize=16)\n",
    "plt.show()"
   ],
   "execution_count": 57,
   "outputs": [
    {
     "output_type": "display_data",
     "data": {
      "image/png": "[encoded data removed]",
      "text/plain": [
       "<Figure size 1080x504 with 3 Axes>"
      ]
     },
     "metadata": {
      "tags": []
     }
    }
   ]
  },
  {
   "cell_type": "code",
   "metadata": {
    "id": "TwTiHBfpw5po",
    "colab": {
     "base_uri": "https://localhost:8080/",
     "height": 49
    },
    "executionInfo": {
     "status": "ok",
     "timestamp": 1609314109129,
     "user_tz": 300,
     "elapsed": 3040,
     "user": {
      "displayName": "Theo Dimitrasopoulos",
      "photoUrl": "https://lh3.googleusercontent.com/a-/AOh14GhRNhCMR9OSve5rpYHqQ5AxXHb4FT75fg51p-tfkA=s64",
      "userId": "13959094896036405890"
     }
    },
    "outputId": "714b4ac5-4f92-4305-a225-4ce7ec56897a"
   },
   "source": [
    "text_no_split.loc[text_no_split['type'] == 'meeting_script'].head()"
   ],
   "execution_count": 58,
   "outputs": [
    {
     "output_type": "execute_result",
     "data": {
      "text/html": [
       "<div>\n",
       "<style scoped>\n",
       "    .dataframe tbody tr th:only-of-type {\n",
       "        vertical-align: middle;\n",
       "    }\n",
       "\n",
       "    .dataframe tbody tr th {\n",
       "        vertical-align: top;\n",
       "    }\n",
       "\n",
       "    .dataframe thead th {\n",
       "        text-align: right;\n",
       "    }\n",
       "</style>\n",
       "<table border=\"1\" class=\"dataframe\">\n",
       "  <thead>\n",
       "    <tr style=\"text-align: right;\">\n",
       "      <th></th>\n",
       "      <th>type</th>\n",
       "      <th>date</th>\n",
       "      <th>title</th>\n",
       "      <th>speaker</th>\n",
       "      <th>word_count</th>\n",
       "      <th>decision</th>\n",
       "      <th>rate</th>\n",
       "      <th>next_meeting</th>\n",
       "      <th>next_decision</th>\n",
       "      <th>next_rate</th>\n",
       "      <th>text</th>\n",
       "      <th>index</th>\n",
       "    </tr>\n",
       "  </thead>\n",
       "  <tbody>\n",
       "  </tbody>\n",
       "</table>\n",
       "</div>"
      ],
      "text/plain": [
       "Empty DataFrame\n",
       "Columns: [type, date, title, speaker, word_count, decision, rate, next_meeting, next_decision, next_rate, text, index]\n",
       "Index: []"
      ]
     },
     "metadata": {
      "tags": []
     },
     "execution_count": 58
    }
   ]
  },
  {
   "cell_type": "code",
   "metadata": {
    "id": "MyOa-NLLw5pr",
    "colab": {
     "base_uri": "https://localhost:8080/",
     "height": 565
    },
    "executionInfo": {
     "status": "ok",
     "timestamp": 1609314109726,
     "user_tz": 300,
     "elapsed": 3624,
     "user": {
      "displayName": "Theo Dimitrasopoulos",
      "photoUrl": "https://lh3.googleusercontent.com/a-/AOh14GhRNhCMR9OSve5rpYHqQ5AxXHb4FT75fg51p-tfkA=s64",
      "userId": "13959094896036405890"
     }
    },
    "outputId": "1b7fa9cd-2970-4abb-c87a-dccef21d7a0f"
   },
   "source": [
    "text_no_split = text_no_split.loc[text_no_split['type'] != 'meeting_script']\n",
    "text_split_200 = text_split_200.loc[text_split_200['type'] != 'meeting_script']\n",
    "text_keyword = text_keyword.loc[text_keyword['type'] != 'meeting_script']\n",
    "\n",
    "fig, (ax1, ax2, ax3) = plt.subplots(1, 3, figsize=(15,7))\n",
    "sns.countplot(x='type', data=text_no_split, ax=ax1)\n",
    "ax1.set_title('text_no_split')\n",
    "ax1.tick_params('x', labelrotation=45)\n",
    "sns.countplot(x='type', data=text_split_200, ax=ax2)\n",
    "ax2.set_title('text_split_200')\n",
    "ax2.tick_params('x', labelrotation=45)\n",
    "sns.countplot(x='type', data=text_keyword, ax=ax3)\n",
    "ax3.set_title('text_keyword')\n",
    "ax3.tick_params('x', labelrotation=45)\n",
    "fig.suptitle(\"The nuber of records\", fontsize=16)\n",
    "plt.show()"
   ],
   "execution_count": 59,
   "outputs": [
    {
     "output_type": "display_data",
     "data": {
      "image/png": "[encoded data removed]",
      "text/plain": [
       "<Figure size 1080x504 with 3 Axes>"
      ]
     },
     "metadata": {
      "tags": []
     }
    }
   ]
  },
  {
   "cell_type": "code",
   "metadata": {
    "id": "t__DXERXw5ps",
    "colab": {
     "base_uri": "https://localhost:8080/",
     "height": 565
    },
    "executionInfo": {
     "status": "ok",
     "timestamp": 1609314110821,
     "user_tz": 300,
     "elapsed": 4705,
     "user": {
      "displayName": "Theo Dimitrasopoulos",
      "photoUrl": "https://lh3.googleusercontent.com/a-/AOh14GhRNhCMR9OSve5rpYHqQ5AxXHb4FT75fg51p-tfkA=s64",
      "userId": "13959094896036405890"
     }
    },
    "outputId": "ff334a37-ca61-499e-858e-73b64022d549"
   },
   "source": [
    "fig, (ax1, ax2, ax3) = plt.subplots(1, 3, figsize=(15,7))\n",
    "sns.barplot(data=text_no_split, x='type', y='word_count', ax=ax1)\n",
    "ax1.set_title('text_no_split')\n",
    "ax1.tick_params('x', labelrotation=45)\n",
    "sns.barplot(x='type', y='word_count', data=text_split_200, ax=ax2)\n",
    "ax2.set_title('text_split_200')\n",
    "ax2.tick_params('x', labelrotation=45)\n",
    "sns.barplot(x='type', y='word_count', data=text_keyword, ax=ax3)\n",
    "ax3.set_title('text_keyword')\n",
    "ax3.tick_params('x', labelrotation=45)\n",
    "fig.suptitle(\"The nuber of records\", fontsize=16)\n",
    "plt.show()"
   ],
   "execution_count": 60,
   "outputs": [
    {
     "output_type": "display_data",
     "data": {
      "image/png": "[encoded data removed]",
      "text/plain": [
       "<Figure size 1080x504 with 3 Axes>"
      ]
     },
     "metadata": {
      "tags": []
     }
    }
   ]
  },
  {
   "cell_type": "markdown",
   "metadata": {
    "id": "4lNeHd26w5pw"
   },
   "source": [
    "### Select text dataframe"
   ]
  },
  {
   "cell_type": "code",
   "metadata": {
    "id": "ko3wWYtzw5px",
    "colab": {
     "base_uri": "https://localhost:8080/",
     "height": 1000
    },
    "executionInfo": {
     "status": "ok",
     "timestamp": 1609314110822,
     "user_tz": 300,
     "elapsed": 4693,
     "user": {
      "displayName": "Theo Dimitrasopoulos",
      "photoUrl": "https://lh3.googleusercontent.com/a-/AOh14GhRNhCMR9OSve5rpYHqQ5AxXHb4FT75fg51p-tfkA=s64",
      "userId": "13959094896036405890"
     }
    },
    "outputId": "a8e0bb70-9d2b-4422-9c77-446d948806b7"
   },
   "source": [
    "text_df = text_no_split\n",
    "text_df.reset_index(drop=True, inplace=True)\n",
    "print(text_df.shape)\n",
    "text_df"
   ],
   "execution_count": 61,
   "outputs": [
    {
     "output_type": "stream",
     "text": [
      "(48583, 12)\n"
     ],
     "name": "stdout"
    },
    {
     "output_type": "execute_result",
     "data": {
      "text/html": [
       "<div>\n",
       "<style scoped>\n",
       "    .dataframe tbody tr th:only-of-type {\n",
       "        vertical-align: middle;\n",
       "    }\n",
       "\n",
       "    .dataframe tbody tr th {\n",
       "        vertical-align: top;\n",
       "    }\n",
       "\n",
       "    .dataframe thead th {\n",
       "        text-align: right;\n",
       "    }\n",
       "</style>\n",
       "<table border=\"1\" class=\"dataframe\">\n",
       "  <thead>\n",
       "    <tr style=\"text-align: right;\">\n",
       "      <th></th>\n",
       "      <th>type</th>\n",
       "      <th>date</th>\n",
       "      <th>title</th>\n",
       "      <th>speaker</th>\n",
       "      <th>word_count</th>\n",
       "      <th>decision</th>\n",
       "      <th>rate</th>\n",
       "      <th>next_meeting</th>\n",
       "      <th>next_decision</th>\n",
       "      <th>next_rate</th>\n",
       "      <th>text</th>\n",
       "      <th>index</th>\n",
       "    </tr>\n",
       "  </thead>\n",
       "  <tbody>\n",
       "    <tr>\n",
       "      <th>0</th>\n",
       "      <td>statement</td>\n",
       "      <td>1994-02-04</td>\n",
       "      <td>FOMC Statement</td>\n",
       "      <td>Alan Greenspan</td>\n",
       "      <td>99</td>\n",
       "      <td>&lt;NA&gt;</td>\n",
       "      <td>None</td>\n",
       "      <td>1994-02-28</td>\n",
       "      <td>&lt;NA&gt;</td>\n",
       "      <td>None</td>\n",
       "      <td>Chairman Alan Greenspan announced today that t...</td>\n",
       "      <td>NaN</td>\n",
       "    </tr>\n",
       "    <tr>\n",
       "      <th>1</th>\n",
       "      <td>statement</td>\n",
       "      <td>1994-03-22</td>\n",
       "      <td>FOMC Statement</td>\n",
       "      <td>Alan Greenspan</td>\n",
       "      <td>40</td>\n",
       "      <td>&lt;NA&gt;</td>\n",
       "      <td>None</td>\n",
       "      <td>1994-04-18</td>\n",
       "      <td>&lt;NA&gt;</td>\n",
       "      <td>None</td>\n",
       "      <td>Chairman Alan Greenspan announced today that t...</td>\n",
       "      <td>NaN</td>\n",
       "    </tr>\n",
       "    <tr>\n",
       "      <th>2</th>\n",
       "      <td>statement</td>\n",
       "      <td>1994-04-18</td>\n",
       "      <td>FOMC Statement</td>\n",
       "      <td>Alan Greenspan</td>\n",
       "      <td>37</td>\n",
       "      <td>&lt;NA&gt;</td>\n",
       "      <td>None</td>\n",
       "      <td>1994-05-17</td>\n",
       "      <td>&lt;NA&gt;</td>\n",
       "      <td>None</td>\n",
       "      <td>Chairman Alan Greenspan announced today that t...</td>\n",
       "      <td>NaN</td>\n",
       "    </tr>\n",
       "    <tr>\n",
       "      <th>3</th>\n",
       "      <td>statement</td>\n",
       "      <td>1994-05-17</td>\n",
       "      <td>FOMC Statement</td>\n",
       "      <td>Alan Greenspan</td>\n",
       "      <td>57</td>\n",
       "      <td>&lt;NA&gt;</td>\n",
       "      <td>None</td>\n",
       "      <td>1994-07-06</td>\n",
       "      <td>&lt;NA&gt;</td>\n",
       "      <td>None</td>\n",
       "      <td>In taking the discount action, the Board appro...</td>\n",
       "      <td>NaN</td>\n",
       "    </tr>\n",
       "    <tr>\n",
       "      <th>4</th>\n",
       "      <td>statement</td>\n",
       "      <td>1994-08-16</td>\n",
       "      <td>FOMC Statement</td>\n",
       "      <td>Alan Greenspan</td>\n",
       "      <td>51</td>\n",
       "      <td>&lt;NA&gt;</td>\n",
       "      <td>None</td>\n",
       "      <td>1994-09-27</td>\n",
       "      <td>&lt;NA&gt;</td>\n",
       "      <td>None</td>\n",
       "      <td>In taking the discount rate action, the Board ...</td>\n",
       "      <td>NaN</td>\n",
       "    </tr>\n",
       "    <tr>\n",
       "      <th>...</th>\n",
       "      <td>...</td>\n",
       "      <td>...</td>\n",
       "      <td>...</td>\n",
       "      <td>...</td>\n",
       "      <td>...</td>\n",
       "      <td>...</td>\n",
       "      <td>...</td>\n",
       "      <td>...</td>\n",
       "      <td>...</td>\n",
       "      <td>...</td>\n",
       "      <td>...</td>\n",
       "      <td>...</td>\n",
       "    </tr>\n",
       "    <tr>\n",
       "      <th>48578</th>\n",
       "      <td>testimony</td>\n",
       "      <td>2020-02-11</td>\n",
       "      <td>Semiannual Monetary Policy Report to the Congress</td>\n",
       "      <td>Jerome Powell</td>\n",
       "      <td>1171</td>\n",
       "      <td>&lt;NA&gt;</td>\n",
       "      <td>None</td>\n",
       "      <td>2020-03-03</td>\n",
       "      <td>&lt;NA&gt;</td>\n",
       "      <td>None</td>\n",
       "      <td>My colleagues and I strongly support the goals...</td>\n",
       "      <td>NaN</td>\n",
       "    </tr>\n",
       "    <tr>\n",
       "      <th>48579</th>\n",
       "      <td>testimony</td>\n",
       "      <td>2020-05-19</td>\n",
       "      <td>Coronavirus and CARES Act</td>\n",
       "      <td>Jerome Powell</td>\n",
       "      <td>1802</td>\n",
       "      <td>&lt;NA&gt;</td>\n",
       "      <td>None</td>\n",
       "      <td>2020-06-10</td>\n",
       "      <td>&lt;NA&gt;</td>\n",
       "      <td>None</td>\n",
       "      <td>I would like to begin by acknowledging the tra...</td>\n",
       "      <td>NaN</td>\n",
       "    </tr>\n",
       "    <tr>\n",
       "      <th>48580</th>\n",
       "      <td>testimony</td>\n",
       "      <td>2020-06-16</td>\n",
       "      <td>Semiannual Monetary Policy Report to the Congress</td>\n",
       "      <td>Jerome Powell</td>\n",
       "      <td>1433</td>\n",
       "      <td>&lt;NA&gt;</td>\n",
       "      <td>None</td>\n",
       "      <td>2020-07-29</td>\n",
       "      <td>&lt;NA&gt;</td>\n",
       "      <td>None</td>\n",
       "      <td>Our country continues to face a difficult and ...</td>\n",
       "      <td>NaN</td>\n",
       "    </tr>\n",
       "    <tr>\n",
       "      <th>48581</th>\n",
       "      <td>testimony</td>\n",
       "      <td>2020-06-30</td>\n",
       "      <td>Coronavirus and CARES Act</td>\n",
       "      <td>Jerome Powell</td>\n",
       "      <td>2759</td>\n",
       "      <td>&lt;NA&gt;</td>\n",
       "      <td>None</td>\n",
       "      <td>2020-07-29</td>\n",
       "      <td>&lt;NA&gt;</td>\n",
       "      <td>None</td>\n",
       "      <td>We meet as the pandemic continues to cause tre...</td>\n",
       "      <td>NaN</td>\n",
       "    </tr>\n",
       "    <tr>\n",
       "      <th>48582</th>\n",
       "      <td>testimony</td>\n",
       "      <td>2020-09-22</td>\n",
       "      <td>Coronavirus Aid, Relief, and Economic Security...</td>\n",
       "      <td>Jerome Powell</td>\n",
       "      <td>2400</td>\n",
       "      <td>&lt;NA&gt;</td>\n",
       "      <td>None</td>\n",
       "      <td>2020-11-05</td>\n",
       "      <td>&lt;NA&gt;</td>\n",
       "      <td>None</td>\n",
       "      <td>Chairwoman Waters, Ranking Member McHenry, and...</td>\n",
       "      <td>NaN</td>\n",
       "    </tr>\n",
       "  </tbody>\n",
       "</table>\n",
       "<p>48583 rows × 12 columns</p>\n",
       "</div>"
      ],
      "text/plain": [
       "            type  ... index\n",
       "0      statement  ...   NaN\n",
       "1      statement  ...   NaN\n",
       "2      statement  ...   NaN\n",
       "3      statement  ...   NaN\n",
       "4      statement  ...   NaN\n",
       "...          ...  ...   ...\n",
       "48578  testimony  ...   NaN\n",
       "48579  testimony  ...   NaN\n",
       "48580  testimony  ...   NaN\n",
       "48581  testimony  ...   NaN\n",
       "48582  testimony  ...   NaN\n",
       "\n",
       "[48583 rows x 12 columns]"
      ]
     },
     "metadata": {
      "tags": []
     },
     "execution_count": 61
    }
   ]
  },
  {
   "cell_type": "code",
   "metadata": {
    "id": "o3MOs7yZKdFz",
    "scrolled": false,
    "colab": {
     "base_uri": "https://localhost:8080/",
     "height": 1000
    },
    "executionInfo": {
     "status": "ok",
     "timestamp": 1609314112395,
     "user_tz": 300,
     "elapsed": 6253,
     "user": {
      "displayName": "Theo Dimitrasopoulos",
      "photoUrl": "https://lh3.googleusercontent.com/a-/AOh14GhRNhCMR9OSve5rpYHqQ5AxXHb4FT75fg51p-tfkA=s64",
      "userId": "13959094896036405890"
     }
    },
    "outputId": "4106766f-3b1e-484b-f370-1452656f139a"
   },
   "source": [
    "fig, (ax1, ax2, ax3, ax4, ax5) = plt.subplots(5, 1, figsize=(15,15))\n",
    "doc_type = 'statement'\n",
    "sns.distplot(text_df.loc[text_df['type'] == doc_type]['word_count'], bins=20, ax=ax1, kde=False, color='r')\n",
    "ax1.set_title(doc_type)\n",
    "doc_type = 'minutes'\n",
    "sns.distplot(text_df.loc[text_df['type'] == doc_type]['word_count'], bins=20, ax=ax2, kde=False, color='y')\n",
    "ax2.set_title(doc_type)\n",
    "doc_type = 'presconf_script'\n",
    "sns.distplot(text_df.loc[text_df['type'] == doc_type]['word_count'], bins=20, ax=ax3, kde=False, color='g')\n",
    "ax3.set_title(doc_type)\n",
    "doc_type = 'speech'\n",
    "sns.distplot(text_df.loc[text_df['type'] == doc_type]['word_count'], bins=20, ax=ax4, kde=False, color='b')\n",
    "ax4.set_title(doc_type)\n",
    "doc_type = 'testimony'\n",
    "sns.distplot(text_df.loc[text_df['type'] == doc_type]['word_count'], bins=20, ax=ax5, kde=False, color='purple')\n",
    "ax5.set_title(doc_type)\n",
    "\n",
    "fig.tight_layout(pad=3.0)\n",
    "plt.show()"
   ],
   "execution_count": 62,
   "outputs": [
    {
     "output_type": "stream",
     "text": [
      "/usr/local/lib/python3.6/dist-packages/seaborn/distributions.py:2551: FutureWarning: `distplot` is a deprecated function and will be removed in a future version. Please adapt your code to use either `displot` (a figure-level function with similar flexibility) or `histplot` (an axes-level function for histograms).\n",
      "  warnings.warn(msg, FutureWarning)\n"
     ],
     "name": "stderr"
    },
    {
     "output_type": "display_data",
     "data": {
      "image/png": "[encoded data removed]",
      "text/plain": [
       "<Figure size 1080x1080 with 5 Axes>"
      ]
     },
     "metadata": {
      "tags": []
     }
    }
   ]
  },
  {
   "cell_type": "code",
   "metadata": {
    "id": "_AeyWwu_w5p0",
    "executionInfo": {
     "status": "ok",
     "timestamp": 1609314112396,
     "user_tz": 300,
     "elapsed": 6244,
     "user": {
      "displayName": "Theo Dimitrasopoulos",
      "photoUrl": "https://lh3.googleusercontent.com/a-/AOh14GhRNhCMR9OSve5rpYHqQ5AxXHb4FT75fg51p-tfkA=s64",
      "userId": "13959094896036405890"
     }
    }
   },
   "source": [
    "# Check balance of Rate Decision\n",
    "#g = sns.FacetGrid(text_df, col='type', height=6, aspect=0.5)\n",
    "#g.map(sns.countplot, 'next_decision')\n",
    "#plt.show()"
   ],
   "execution_count": 63,
   "outputs": []
  },
  {
   "cell_type": "markdown",
   "metadata": {
    "id": "u1Dztxblw5p2"
   },
   "source": [
    "## Merge text to the train dataframe"
   ]
  },
  {
   "cell_type": "code",
   "metadata": {
    "id": "I8xBjmHWw5p2",
    "executionInfo": {
     "status": "ok",
     "timestamp": 1609314114329,
     "user_tz": 300,
     "elapsed": 8171,
     "user": {
      "displayName": "Theo Dimitrasopoulos",
      "photoUrl": "https://lh3.googleusercontent.com/a-/AOh14GhRNhCMR9OSve5rpYHqQ5AxXHb4FT75fg51p-tfkA=s64",
      "userId": "13959094896036405890"
     }
    }
   },
   "source": [
    "from collections import defaultdict \n",
    "\n",
    "doc_types = text_df['type'].unique()\n",
    "merged_dict = defaultdict(list)\n",
    "\n",
    "for i, row in train_df.iterrows():\n",
    "    text_rows = text_df.loc[text_df['next_meeting'] == i]\n",
    "    merged_text_all = \"\"\n",
    "    for doc_type in doc_types:\n",
    "        merged_text = \"\"\n",
    "        for text in text_rows.loc[text_rows['type'] == doc_type]['text']:\n",
    "            merged_text += \" \" + text\n",
    "        merged_dict[doc_type].append(merged_text)\n",
    "        merged_text_all += merged_text\n",
    "    merged_dict['text'].append(merged_text_all)"
   ],
   "execution_count": 64,
   "outputs": []
  },
  {
   "cell_type": "code",
   "metadata": {
    "id": "p23iGko3w5p4",
    "colab": {
     "base_uri": "https://localhost:8080/",
     "height": 861
    },
    "executionInfo": {
     "status": "ok",
     "timestamp": 1609314114330,
     "user_tz": 300,
     "elapsed": 8161,
     "user": {
      "displayName": "Theo Dimitrasopoulos",
      "photoUrl": "https://lh3.googleusercontent.com/a-/AOh14GhRNhCMR9OSve5rpYHqQ5AxXHb4FT75fg51p-tfkA=s64",
      "userId": "13959094896036405890"
     }
    },
    "outputId": "63082739-8a1a-4b04-e84d-927a77c68966"
   },
   "source": [
    "for key in merged_dict.keys():\n",
    "    train_df[key] = merged_dict[key]\n",
    "train_df"
   ],
   "execution_count": 65,
   "outputs": [
    {
     "output_type": "execute_result",
     "data": {
      "text/html": [
       "<div>\n",
       "<style scoped>\n",
       "    .dataframe tbody tr th:only-of-type {\n",
       "        vertical-align: middle;\n",
       "    }\n",
       "\n",
       "    .dataframe tbody tr th {\n",
       "        vertical-align: top;\n",
       "    }\n",
       "\n",
       "    .dataframe thead th {\n",
       "        text-align: right;\n",
       "    }\n",
       "</style>\n",
       "<table border=\"1\" class=\"dataframe\">\n",
       "  <thead>\n",
       "    <tr style=\"text-align: right;\">\n",
       "      <th></th>\n",
       "      <th>target</th>\n",
       "      <th>prev_decision</th>\n",
       "      <th>GDP_diff_prev</th>\n",
       "      <th>PMI_value</th>\n",
       "      <th>Employ_diff_prev</th>\n",
       "      <th>Rsales_diff_year</th>\n",
       "      <th>Unemp_diff_prev</th>\n",
       "      <th>Inertia_diff</th>\n",
       "      <th>Hsales_diff_year</th>\n",
       "      <th>Balanced_diff</th>\n",
       "      <th>statement</th>\n",
       "      <th>minutes</th>\n",
       "      <th>press_conference</th>\n",
       "      <th>NaN</th>\n",
       "      <th>speech</th>\n",
       "      <th>testimony</th>\n",
       "      <th>text</th>\n",
       "    </tr>\n",
       "    <tr>\n",
       "      <th>date</th>\n",
       "      <th></th>\n",
       "      <th></th>\n",
       "      <th></th>\n",
       "      <th></th>\n",
       "      <th></th>\n",
       "      <th></th>\n",
       "      <th></th>\n",
       "      <th></th>\n",
       "      <th></th>\n",
       "      <th></th>\n",
       "      <th></th>\n",
       "      <th></th>\n",
       "      <th></th>\n",
       "      <th></th>\n",
       "      <th></th>\n",
       "      <th></th>\n",
       "      <th></th>\n",
       "    </tr>\n",
       "  </thead>\n",
       "  <tbody>\n",
       "    <tr>\n",
       "      <th>1982-10-05</th>\n",
       "      <td>-1</td>\n",
       "      <td>0</td>\n",
       "      <td>0.456197</td>\n",
       "      <td>38.8</td>\n",
       "      <td>-169.0</td>\n",
       "      <td>1.807631</td>\n",
       "      <td>-0.166667</td>\n",
       "      <td>-0.018226</td>\n",
       "      <td>-15.485275</td>\n",
       "      <td>0.003723</td>\n",
       "      <td></td>\n",
       "      <td></td>\n",
       "      <td></td>\n",
       "      <td></td>\n",
       "      <td></td>\n",
       "      <td></td>\n",
       "      <td></td>\n",
       "    </tr>\n",
       "    <tr>\n",
       "      <th>1982-11-16</th>\n",
       "      <td>-1</td>\n",
       "      <td>-1</td>\n",
       "      <td>-0.382295</td>\n",
       "      <td>39.4</td>\n",
       "      <td>-228.0</td>\n",
       "      <td>1.807631</td>\n",
       "      <td>-0.200000</td>\n",
       "      <td>-0.018226</td>\n",
       "      <td>-9.537496</td>\n",
       "      <td>0.003723</td>\n",
       "      <td></td>\n",
       "      <td></td>\n",
       "      <td></td>\n",
       "      <td></td>\n",
       "      <td></td>\n",
       "      <td></td>\n",
       "      <td></td>\n",
       "    </tr>\n",
       "    <tr>\n",
       "      <th>1982-12-21</th>\n",
       "      <td>0</td>\n",
       "      <td>-1</td>\n",
       "      <td>-0.382295</td>\n",
       "      <td>39.2</td>\n",
       "      <td>-198.5</td>\n",
       "      <td>1.807631</td>\n",
       "      <td>-0.333333</td>\n",
       "      <td>-0.018226</td>\n",
       "      <td>-3.116275</td>\n",
       "      <td>0.003723</td>\n",
       "      <td></td>\n",
       "      <td></td>\n",
       "      <td></td>\n",
       "      <td></td>\n",
       "      <td></td>\n",
       "      <td></td>\n",
       "      <td></td>\n",
       "    </tr>\n",
       "    <tr>\n",
       "      <th>1983-01-14</th>\n",
       "      <td>0</td>\n",
       "      <td>0</td>\n",
       "      <td>-0.382295</td>\n",
       "      <td>42.8</td>\n",
       "      <td>-68.0</td>\n",
       "      <td>1.807631</td>\n",
       "      <td>-0.233333</td>\n",
       "      <td>-0.018226</td>\n",
       "      <td>-0.774432</td>\n",
       "      <td>0.003723</td>\n",
       "      <td></td>\n",
       "      <td></td>\n",
       "      <td></td>\n",
       "      <td></td>\n",
       "      <td></td>\n",
       "      <td></td>\n",
       "      <td></td>\n",
       "    </tr>\n",
       "    <tr>\n",
       "      <th>1983-01-21</th>\n",
       "      <td>0</td>\n",
       "      <td>0</td>\n",
       "      <td>-0.382295</td>\n",
       "      <td>42.8</td>\n",
       "      <td>-68.0</td>\n",
       "      <td>1.807631</td>\n",
       "      <td>-0.233333</td>\n",
       "      <td>-0.043785</td>\n",
       "      <td>-0.774432</td>\n",
       "      <td>0.003723</td>\n",
       "      <td></td>\n",
       "      <td></td>\n",
       "      <td></td>\n",
       "      <td></td>\n",
       "      <td></td>\n",
       "      <td></td>\n",
       "      <td></td>\n",
       "    </tr>\n",
       "    <tr>\n",
       "      <th>...</th>\n",
       "      <td>...</td>\n",
       "      <td>...</td>\n",
       "      <td>...</td>\n",
       "      <td>...</td>\n",
       "      <td>...</td>\n",
       "      <td>...</td>\n",
       "      <td>...</td>\n",
       "      <td>...</td>\n",
       "      <td>...</td>\n",
       "      <td>...</td>\n",
       "      <td>...</td>\n",
       "      <td>...</td>\n",
       "      <td>...</td>\n",
       "      <td>...</td>\n",
       "      <td>...</td>\n",
       "      <td>...</td>\n",
       "      <td>...</td>\n",
       "    </tr>\n",
       "    <tr>\n",
       "      <th>2020-03-15</th>\n",
       "      <td>-1</td>\n",
       "      <td>-1</td>\n",
       "      <td>0.527469</td>\n",
       "      <td>50.1</td>\n",
       "      <td>232.5</td>\n",
       "      <td>2.217385</td>\n",
       "      <td>0.000000</td>\n",
       "      <td>-0.058085</td>\n",
       "      <td>13.910886</td>\n",
       "      <td>0.004279</td>\n",
       "      <td>The fundamentals of the U.S. economy remain s...</td>\n",
       "      <td></td>\n",
       "      <td>Earlier today the Federal Open Market Committ...</td>\n",
       "      <td></td>\n",
       "      <td></td>\n",
       "      <td></td>\n",
       "      <td>The fundamentals of the U.S. economy remain s...</td>\n",
       "    </tr>\n",
       "    <tr>\n",
       "      <th>2020-03-19</th>\n",
       "      <td>0</td>\n",
       "      <td>-1</td>\n",
       "      <td>0.527469</td>\n",
       "      <td>50.1</td>\n",
       "      <td>232.5</td>\n",
       "      <td>2.217385</td>\n",
       "      <td>0.000000</td>\n",
       "      <td>-0.057139</td>\n",
       "      <td>13.910886</td>\n",
       "      <td>0.001426</td>\n",
       "      <td>The coronavirus outbreak has harmed communiti...</td>\n",
       "      <td>Developments in Financial Markets and Open Ma...</td>\n",
       "      <td>Good evening, everyone. Today the Federal Res...</td>\n",
       "      <td></td>\n",
       "      <td></td>\n",
       "      <td></td>\n",
       "      <td>The coronavirus outbreak has harmed communiti...</td>\n",
       "    </tr>\n",
       "    <tr>\n",
       "      <th>2020-03-23</th>\n",
       "      <td>0</td>\n",
       "      <td>0</td>\n",
       "      <td>0.527469</td>\n",
       "      <td>50.1</td>\n",
       "      <td>232.5</td>\n",
       "      <td>2.217385</td>\n",
       "      <td>0.000000</td>\n",
       "      <td>-0.057139</td>\n",
       "      <td>13.910886</td>\n",
       "      <td>0.001426</td>\n",
       "      <td></td>\n",
       "      <td></td>\n",
       "      <td></td>\n",
       "      <td></td>\n",
       "      <td></td>\n",
       "      <td></td>\n",
       "      <td></td>\n",
       "    </tr>\n",
       "    <tr>\n",
       "      <th>2020-03-31</th>\n",
       "      <td>0</td>\n",
       "      <td>0</td>\n",
       "      <td>0.527469</td>\n",
       "      <td>50.1</td>\n",
       "      <td>232.5</td>\n",
       "      <td>2.217385</td>\n",
       "      <td>0.000000</td>\n",
       "      <td>-0.114279</td>\n",
       "      <td>13.910886</td>\n",
       "      <td>0.006092</td>\n",
       "      <td>The Federal Open Market Committee is taking f...</td>\n",
       "      <td></td>\n",
       "      <td></td>\n",
       "      <td></td>\n",
       "      <td></td>\n",
       "      <td></td>\n",
       "      <td>The Federal Open Market Committee is taking f...</td>\n",
       "    </tr>\n",
       "    <tr>\n",
       "      <th>2020-04-29</th>\n",
       "      <td>0</td>\n",
       "      <td>0</td>\n",
       "      <td>0.527469</td>\n",
       "      <td>49.1</td>\n",
       "      <td>-561.0</td>\n",
       "      <td>-2.491979</td>\n",
       "      <td>-0.300000</td>\n",
       "      <td>-0.431520</td>\n",
       "      <td>12.468252</td>\n",
       "      <td>0.040295</td>\n",
       "      <td>The Federal Reserve on Tuesday announced the ...</td>\n",
       "      <td></td>\n",
       "      <td></td>\n",
       "      <td></td>\n",
       "      <td>Good morning. The challenge we face today is ...</td>\n",
       "      <td></td>\n",
       "      <td>The Federal Reserve on Tuesday announced the ...</td>\n",
       "    </tr>\n",
       "  </tbody>\n",
       "</table>\n",
       "<p>398 rows × 17 columns</p>\n",
       "</div>"
      ],
      "text/plain": [
       "            target  ...                                               text\n",
       "date                ...                                                   \n",
       "1982-10-05      -1  ...                                                   \n",
       "1982-11-16      -1  ...                                                   \n",
       "1982-12-21       0  ...                                                   \n",
       "1983-01-14       0  ...                                                   \n",
       "1983-01-21       0  ...                                                   \n",
       "...            ...  ...                                                ...\n",
       "2020-03-15      -1  ...   The fundamentals of the U.S. economy remain s...\n",
       "2020-03-19       0  ...   The coronavirus outbreak has harmed communiti...\n",
       "2020-03-23       0  ...                                                   \n",
       "2020-03-31       0  ...   The Federal Open Market Committee is taking f...\n",
       "2020-04-29       0  ...   The Federal Reserve on Tuesday announced the ...\n",
       "\n",
       "[398 rows x 17 columns]"
      ]
     },
     "metadata": {
      "tags": []
     },
     "execution_count": 65
    }
   ]
  },
  {
   "cell_type": "code",
   "metadata": {
    "id": "iWCZQTPIw5p5",
    "colab": {
     "base_uri": "https://localhost:8080/"
    },
    "executionInfo": {
     "status": "ok",
     "timestamp": 1609314115064,
     "user_tz": 300,
     "elapsed": 8882,
     "user": {
      "displayName": "Theo Dimitrasopoulos",
      "photoUrl": "https://lh3.googleusercontent.com/a-/AOh14GhRNhCMR9OSve5rpYHqQ5AxXHb4FT75fg51p-tfkA=s64",
      "userId": "13959094896036405890"
     }
    },
    "outputId": "9d0b74af-af09-4854-b887-391702ec7614"
   },
   "source": [
    "count_text, count_train = 0, 0\n",
    "\n",
    "for doc_type in doc_types:\n",
    "    count = 0\n",
    "    for text in text_df.loc[text_df['type']==doc_type]['text']:\n",
    "        count += len(text.split())\n",
    "    print(\"{} words in original text for {}\".format(count, doc_type))\n",
    "    count_text += count\n",
    "    \n",
    "    count = 0\n",
    "    for text in train_df[doc_type]:\n",
    "        count += len(text.split())\n",
    "    print(\"{} words in merged text for {}\".format(count, doc_type))\n",
    "    count_train += count\n",
    "\n",
    "print(\"Total: {} words in original text\".format(count_text))\n",
    "print(\"Total: {} words in merged text\".format(count_train))\n",
    "print(\"Total: {} words in text column of merged text\".format(train_df['text'].apply(lambda x: len(x.split())).sum()))"
   ],
   "execution_count": 66,
   "outputs": [
    {
     "output_type": "stream",
     "text": [
      "123977 words in original text for statement\n",
      "121762 words in merged text for statement\n",
      "1270696 words in original text for minutes\n",
      "1238045 words in merged text for minutes\n",
      "266192 words in original text for press_conference\n",
      "235895 words in merged text for press_conference\n",
      "0 words in original text for nan\n",
      "0 words in merged text for nan\n",
      "1044550 words in original text for speech\n",
      "1037401 words in merged text for speech\n",
      "418890 words in original text for testimony\n",
      "410549 words in merged text for testimony\n",
      "Total: 3124305 words in original text\n",
      "Total: 3043652 words in merged text\n",
      "Total: 3043652 words in text column of merged text\n"
     ],
     "name": "stdout"
    }
   ]
  },
  {
   "cell_type": "markdown",
   "metadata": {
    "id": "WlCaY1N2w5p7"
   },
   "source": [
    "Looks okay, but there are may rows without text as texts are only available from certain year.\n",
    "It's not easy to fill those null values - for now drop those though the number of training data gets small..."
   ]
  },
  {
   "cell_type": "code",
   "metadata": {
    "id": "WgvR3oXtw5p7",
    "colab": {
     "base_uri": "https://localhost:8080/"
    },
    "executionInfo": {
     "status": "ok",
     "timestamp": 1609314115064,
     "user_tz": 300,
     "elapsed": 8869,
     "user": {
      "displayName": "Theo Dimitrasopoulos",
      "photoUrl": "https://lh3.googleusercontent.com/a-/AOh14GhRNhCMR9OSve5rpYHqQ5AxXHb4FT75fg51p-tfkA=s64",
      "userId": "13959094896036405890"
     }
    },
    "outputId": "c0917de6-9549-430e-edfd-a68b64f3f235"
   },
   "source": [
    "print(\"Before dropping: \", train_df.shape)\n",
    "train_df = train_df.loc[train_df['text'] != \"\"]\n",
    "print(\"After dropping: \", train_df.shape)"
   ],
   "execution_count": 67,
   "outputs": [
    {
     "output_type": "stream",
     "text": [
      "Before dropping:  (398, 17)\n",
      "After dropping:  (244, 17)\n"
     ],
     "name": "stdout"
    }
   ]
  },
  {
   "cell_type": "markdown",
   "metadata": {
    "id": "BeXaddnbw5p9"
   },
   "source": [
    "## Explore the text"
   ]
  },
  {
   "cell_type": "code",
   "metadata": {
    "id": "2VbwpfWmKFqC",
    "executionInfo": {
     "status": "ok",
     "timestamp": 1609314115065,
     "user_tz": 300,
     "elapsed": 8860,
     "user": {
      "displayName": "Theo Dimitrasopoulos",
      "photoUrl": "https://lh3.googleusercontent.com/a-/AOh14GhRNhCMR9OSve5rpYHqQ5AxXHb4FT75fg51p-tfkA=s64",
      "userId": "13959094896036405890"
     }
    }
   },
   "source": [
    "def create_corpus(df):\n",
    "    corpus = []\n",
    "    \n",
    "    for x in df['text'].str.split():\n",
    "        for i in x:\n",
    "            corpus.append(i.lower())\n",
    "    return corpus\n",
    "\n",
    "def get_frequent_stop_words(corpus, top_n=10):\n",
    "    dic = defaultdict(int)\n",
    "    for word in corpus:\n",
    "        if word in stop:\n",
    "            dic[word] += 1\n",
    "\n",
    "    top = sorted(dic.items(), key=lambda x: x[1], reverse=True)[:top_n]\n",
    "\n",
    "    return zip(*top)\n",
    "\n",
    "def get_frequent_nonstop_words(corpus, top_n=10):\n",
    "    dic = defaultdict(int)\n",
    "    for word in corpus:\n",
    "        if word not in stop:\n",
    "            dic[word] += 1\n",
    "\n",
    "    top = sorted(dic.items(), key=lambda x: x[1], reverse=True)[:top_n]\n",
    "\n",
    "    return zip(*top)"
   ],
   "execution_count": 68,
   "outputs": []
  },
  {
   "cell_type": "code",
   "metadata": {
    "id": "4xPeJBe5w5p_",
    "executionInfo": {
     "status": "ok",
     "timestamp": 1609314119719,
     "user_tz": 300,
     "elapsed": 13508,
     "user": {
      "displayName": "Theo Dimitrasopoulos",
      "photoUrl": "https://lh3.googleusercontent.com/a-/AOh14GhRNhCMR9OSve5rpYHqQ5AxXHb4FT75fg51p-tfkA=s64",
      "userId": "13959094896036405890"
     }
    }
   },
   "source": [
    "corpus = create_corpus(text_df)"
   ],
   "execution_count": 69,
   "outputs": []
  },
  {
   "cell_type": "code",
   "metadata": {
    "id": "rYHFFbWcw5qB",
    "executionInfo": {
     "status": "ok",
     "timestamp": 1609314121349,
     "user_tz": 300,
     "elapsed": 15132,
     "user": {
      "displayName": "Theo Dimitrasopoulos",
      "photoUrl": "https://lh3.googleusercontent.com/a-/AOh14GhRNhCMR9OSve5rpYHqQ5AxXHb4FT75fg51p-tfkA=s64",
      "userId": "13959094896036405890"
     }
    }
   },
   "source": [
    "x, y = get_frequent_stop_words(corpus)"
   ],
   "execution_count": 70,
   "outputs": []
  },
  {
   "cell_type": "code",
   "metadata": {
    "id": "H_A6UBhOw5qC",
    "colab": {
     "base_uri": "https://localhost:8080/"
    },
    "executionInfo": {
     "status": "ok",
     "timestamp": 1609314121349,
     "user_tz": 300,
     "elapsed": 15123,
     "user": {
      "displayName": "Theo Dimitrasopoulos",
      "photoUrl": "https://lh3.googleusercontent.com/a-/AOh14GhRNhCMR9OSve5rpYHqQ5AxXHb4FT75fg51p-tfkA=s64",
      "userId": "13959094896036405890"
     }
    },
    "outputId": "c5fa8e20-e98e-486b-e0d7-43a4bb01c78e"
   },
   "source": [
    "print(x)\n",
    "print(y)"
   ],
   "execution_count": 71,
   "outputs": [
    {
     "output_type": "stream",
     "text": [
      "('the', 'of', 'to', 'in', 'and', 'that', 'a', 'we', 'i', 'is')\n",
      "(760075, 384452, 380839, 321089, 273148, 269124, 230617, 151883, 149907, 148575)\n"
     ],
     "name": "stdout"
    }
   ]
  },
  {
   "cell_type": "code",
   "metadata": {
    "id": "zdIxqD7ow5qE",
    "executionInfo": {
     "status": "ok",
     "timestamp": 1609314124290,
     "user_tz": 300,
     "elapsed": 18054,
     "user": {
      "displayName": "Theo Dimitrasopoulos",
      "photoUrl": "https://lh3.googleusercontent.com/a-/AOh14GhRNhCMR9OSve5rpYHqQ5AxXHb4FT75fg51p-tfkA=s64",
      "userId": "13959094896036405890"
     }
    }
   },
   "source": [
    "x, y = get_frequent_nonstop_words(corpus)"
   ],
   "execution_count": 72,
   "outputs": []
  },
  {
   "cell_type": "code",
   "metadata": {
    "id": "tu3_wU1Yw5qG",
    "colab": {
     "base_uri": "https://localhost:8080/"
    },
    "executionInfo": {
     "status": "ok",
     "timestamp": 1609314126338,
     "user_tz": 300,
     "elapsed": 20092,
     "user": {
      "displayName": "Theo Dimitrasopoulos",
      "photoUrl": "https://lh3.googleusercontent.com/a-/AOh14GhRNhCMR9OSve5rpYHqQ5AxXHb4FT75fg51p-tfkA=s64",
      "userId": "13959094896036405890"
     }
    },
    "outputId": "8ead0476-11fd-4169-f607-1c4026d4b3cf"
   },
   "source": [
    "print(x)\n",
    "print(y)"
   ],
   "execution_count": 73,
   "outputs": [
    {
     "output_type": "stream",
     "text": [
      "('would', 'think', 'inflation', 'rate', 'growth', 'policy', 'market', 'going', 'percent', 'one')\n",
      "(64634, 53583, 35990, 35196, 28890, 27824, 27640, 25397, 23984, 23320)\n"
     ],
     "name": "stdout"
    }
   ]
  },
  {
   "cell_type": "code",
   "metadata": {
    "id": "r6FPeC8DKWm6",
    "colab": {
     "base_uri": "https://localhost:8080/",
     "height": 449
    },
    "executionInfo": {
     "status": "ok",
     "timestamp": 1609314127054,
     "user_tz": 300,
     "elapsed": 20796,
     "user": {
      "displayName": "Theo Dimitrasopoulos",
      "photoUrl": "https://lh3.googleusercontent.com/a-/AOh14GhRNhCMR9OSve5rpYHqQ5AxXHb4FT75fg51p-tfkA=s64",
      "userId": "13959094896036405890"
     }
    },
    "outputId": "3cc54530-5a1a-4aa6-adc1-3607cfe6b700"
   },
   "source": [
    "counter = Counter(corpus)\n",
    "most = counter.most_common()[:60]\n",
    "x, y = [], []\n",
    "for word, count in most:\n",
    "    if word not in stop:\n",
    "        x.append(word)\n",
    "        y.append(count)\n",
    "\n",
    "plt.figure(figsize=(15,7))\n",
    "sns.barplot(x=y, y=x)"
   ],
   "execution_count": 74,
   "outputs": [
    {
     "output_type": "execute_result",
     "data": {
      "text/plain": [
       "<matplotlib.axes._subplots.AxesSubplot at 0x7f2ff0d83080>"
      ]
     },
     "metadata": {
      "tags": []
     },
     "execution_count": 74
    },
    {
     "output_type": "display_data",
     "data": {
      "image/png": "[encoded data removed]",
      "text/plain": [
       "<Figure size 1080x504 with 1 Axes>"
      ]
     },
     "metadata": {
      "tags": []
     }
    }
   ]
  },
  {
   "cell_type": "code",
   "metadata": {
    "id": "Uu7XBX5Igfgq",
    "colab": {
     "base_uri": "https://localhost:8080/",
     "height": 411
    },
    "executionInfo": {
     "status": "ok",
     "timestamp": 1609314211453,
     "user_tz": 300,
     "elapsed": 105182,
     "user": {
      "displayName": "Theo Dimitrasopoulos",
      "photoUrl": "https://lh3.googleusercontent.com/a-/AOh14GhRNhCMR9OSve5rpYHqQ5AxXHb4FT75fg51p-tfkA=s64",
      "userId": "13959094896036405890"
     }
    },
    "outputId": "36488740-9d0c-4d52-8e0c-b6f6e2820849"
   },
   "source": [
    "from wordcloud import WordCloud, STOPWORDS, ImageColorGenerator\n",
    "\n",
    "stopwords = set(STOPWORDS)\n",
    "stopwords.update([\"federal\", \"federal reserve\", \"financial\", \"committee\", \"market\", \"would\", \"also\"])\n",
    "text = \" \".join(corpus)\n",
    "wordcloud = WordCloud(stopwords=stopwords, max_font_size=50, max_words=100, background_color=\"white\").generate(text)\n",
    "plt.figure(figsize=(15,7))\n",
    "plt.imshow(wordcloud, interpolation=\"bilinear\")\n",
    "plt.axis(\"off\")\n",
    "plt.show()\n",
    "wordcloud = WordCloud(stopwords=stopwords, background_color=\"white\").generate(text)\n"
   ],
   "execution_count": 75,
   "outputs": [
    {
     "output_type": "display_data",
     "data": {
      "image/png": "[encoded data removed]",
      "text/plain": [
       "<Figure size 1080x504 with 1 Axes>"
      ]
     },
     "metadata": {
      "tags": []
     }
    }
   ]
  },
  {
   "cell_type": "markdown",
   "metadata": {
    "id": "JYH9cp-9w5qJ"
   },
   "source": [
    "# Add sentiment based on Loughran and McDonald Sentiment Word Lists\n",
    "\n",
    "Source: https://sraf.nd.edu/textual-analysis/resources/."
   ]
  },
  {
   "cell_type": "code",
   "metadata": {
    "id": "MjIknnQUw5qJ",
    "scrolled": true,
    "colab": {
     "base_uri": "https://localhost:8080/",
     "height": 437
    },
    "executionInfo": {
     "status": "ok",
     "timestamp": 1609314211455,
     "user_tz": 300,
     "elapsed": 105171,
     "user": {
      "displayName": "Theo Dimitrasopoulos",
      "photoUrl": "https://lh3.googleusercontent.com/a-/AOh14GhRNhCMR9OSve5rpYHqQ5AxXHb4FT75fg51p-tfkA=s64",
      "userId": "13959094896036405890"
     }
    },
    "outputId": "ee10244c-0dc5-401c-a785-6b21950c9973"
   },
   "source": [
    "sentiment_df = pd.read_csv(keyword_lm_dir + 'LoughranMcDonald_SentimentWordLists_2018.csv')\n",
    "print(sentiment_df.shape)\n",
    "sentiment_df"
   ],
   "execution_count": 76,
   "outputs": [
    {
     "output_type": "stream",
     "text": [
      "(4140, 2)\n"
     ],
     "name": "stdout"
    },
    {
     "output_type": "execute_result",
     "data": {
      "text/html": [
       "<div>\n",
       "<style scoped>\n",
       "    .dataframe tbody tr th:only-of-type {\n",
       "        vertical-align: middle;\n",
       "    }\n",
       "\n",
       "    .dataframe tbody tr th {\n",
       "        vertical-align: top;\n",
       "    }\n",
       "\n",
       "    .dataframe thead th {\n",
       "        text-align: right;\n",
       "    }\n",
       "</style>\n",
       "<table border=\"1\" class=\"dataframe\">\n",
       "  <thead>\n",
       "    <tr style=\"text-align: right;\">\n",
       "      <th></th>\n",
       "      <th>sentiment</th>\n",
       "      <th>word</th>\n",
       "    </tr>\n",
       "  </thead>\n",
       "  <tbody>\n",
       "    <tr>\n",
       "      <th>0</th>\n",
       "      <td>Negative</td>\n",
       "      <td>ABANDON</td>\n",
       "    </tr>\n",
       "    <tr>\n",
       "      <th>1</th>\n",
       "      <td>Negative</td>\n",
       "      <td>ABANDONED</td>\n",
       "    </tr>\n",
       "    <tr>\n",
       "      <th>2</th>\n",
       "      <td>Negative</td>\n",
       "      <td>ABANDONING</td>\n",
       "    </tr>\n",
       "    <tr>\n",
       "      <th>3</th>\n",
       "      <td>Negative</td>\n",
       "      <td>ABANDONMENT</td>\n",
       "    </tr>\n",
       "    <tr>\n",
       "      <th>4</th>\n",
       "      <td>Negative</td>\n",
       "      <td>ABANDONMENTS</td>\n",
       "    </tr>\n",
       "    <tr>\n",
       "      <th>...</th>\n",
       "      <td>...</td>\n",
       "      <td>...</td>\n",
       "    </tr>\n",
       "    <tr>\n",
       "      <th>4135</th>\n",
       "      <td>Constraining</td>\n",
       "      <td>STRICTER</td>\n",
       "    </tr>\n",
       "    <tr>\n",
       "      <th>4136</th>\n",
       "      <td>Constraining</td>\n",
       "      <td>STRICTEST</td>\n",
       "    </tr>\n",
       "    <tr>\n",
       "      <th>4137</th>\n",
       "      <td>Constraining</td>\n",
       "      <td>STRICTLY</td>\n",
       "    </tr>\n",
       "    <tr>\n",
       "      <th>4138</th>\n",
       "      <td>Constraining</td>\n",
       "      <td>UNAVAILABILITY</td>\n",
       "    </tr>\n",
       "    <tr>\n",
       "      <th>4139</th>\n",
       "      <td>Constraining</td>\n",
       "      <td>UNAVAILABLE</td>\n",
       "    </tr>\n",
       "  </tbody>\n",
       "</table>\n",
       "<p>4140 rows × 2 columns</p>\n",
       "</div>"
      ],
      "text/plain": [
       "         sentiment            word\n",
       "0         Negative         ABANDON\n",
       "1         Negative       ABANDONED\n",
       "2         Negative      ABANDONING\n",
       "3         Negative     ABANDONMENT\n",
       "4         Negative    ABANDONMENTS\n",
       "...            ...             ...\n",
       "4135  Constraining        STRICTER\n",
       "4136  Constraining       STRICTEST\n",
       "4137  Constraining        STRICTLY\n",
       "4138  Constraining  UNAVAILABILITY\n",
       "4139  Constraining     UNAVAILABLE\n",
       "\n",
       "[4140 rows x 2 columns]"
      ]
     },
     "metadata": {
      "tags": []
     },
     "execution_count": 76
    }
   ]
  },
  {
   "cell_type": "code",
   "metadata": {
    "id": "j-dsq8Ngw5qL",
    "colab": {
     "base_uri": "https://localhost:8080/",
     "height": 297
    },
    "executionInfo": {
     "status": "ok",
     "timestamp": 1609314211456,
     "user_tz": 300,
     "elapsed": 105158,
     "user": {
      "displayName": "Theo Dimitrasopoulos",
      "photoUrl": "https://lh3.googleusercontent.com/a-/AOh14GhRNhCMR9OSve5rpYHqQ5AxXHb4FT75fg51p-tfkA=s64",
      "userId": "13959094896036405890"
     }
    },
    "outputId": "93ea81a2-5f05-4d83-a265-ea3acab6be1c"
   },
   "source": [
    "sentiment_df['word'] = sentiment_df['word'].str.lower()\n",
    "sentiments = sentiment_df['sentiment'].unique()\n",
    "sentiment_df.groupby(by=['sentiment']).count()"
   ],
   "execution_count": 77,
   "outputs": [
    {
     "output_type": "execute_result",
     "data": {
      "text/html": [
       "<div>\n",
       "<style scoped>\n",
       "    .dataframe tbody tr th:only-of-type {\n",
       "        vertical-align: middle;\n",
       "    }\n",
       "\n",
       "    .dataframe tbody tr th {\n",
       "        vertical-align: top;\n",
       "    }\n",
       "\n",
       "    .dataframe thead th {\n",
       "        text-align: right;\n",
       "    }\n",
       "</style>\n",
       "<table border=\"1\" class=\"dataframe\">\n",
       "  <thead>\n",
       "    <tr style=\"text-align: right;\">\n",
       "      <th></th>\n",
       "      <th>word</th>\n",
       "    </tr>\n",
       "    <tr>\n",
       "      <th>sentiment</th>\n",
       "      <th></th>\n",
       "    </tr>\n",
       "  </thead>\n",
       "  <tbody>\n",
       "    <tr>\n",
       "      <th>Constraining</th>\n",
       "      <td>184</td>\n",
       "    </tr>\n",
       "    <tr>\n",
       "      <th>Litigious</th>\n",
       "      <td>904</td>\n",
       "    </tr>\n",
       "    <tr>\n",
       "      <th>Negative</th>\n",
       "      <td>2355</td>\n",
       "    </tr>\n",
       "    <tr>\n",
       "      <th>Positive</th>\n",
       "      <td>354</td>\n",
       "    </tr>\n",
       "    <tr>\n",
       "      <th>StrongModal</th>\n",
       "      <td>19</td>\n",
       "    </tr>\n",
       "    <tr>\n",
       "      <th>Uncertainty</th>\n",
       "      <td>297</td>\n",
       "    </tr>\n",
       "    <tr>\n",
       "      <th>WeakModal</th>\n",
       "      <td>27</td>\n",
       "    </tr>\n",
       "  </tbody>\n",
       "</table>\n",
       "</div>"
      ],
      "text/plain": [
       "              word\n",
       "sentiment         \n",
       "Constraining   184\n",
       "Litigious      904\n",
       "Negative      2355\n",
       "Positive       354\n",
       "StrongModal     19\n",
       "Uncertainty    297\n",
       "WeakModal       27"
      ]
     },
     "metadata": {
      "tags": []
     },
     "execution_count": 77
    }
   ]
  },
  {
   "cell_type": "code",
   "metadata": {
    "id": "xBhjXmUTw5qM",
    "executionInfo": {
     "status": "ok",
     "timestamp": 1609314211457,
     "user_tz": 300,
     "elapsed": 105149,
     "user": {
      "displayName": "Theo Dimitrasopoulos",
      "photoUrl": "https://lh3.googleusercontent.com/a-/AOh14GhRNhCMR9OSve5rpYHqQ5AxXHb4FT75fg51p-tfkA=s64",
      "userId": "13959094896036405890"
     }
    }
   },
   "source": [
    "sentiment_dict = { sentiment: sentiment_df.loc[sentiment_df['sentiment']==sentiment]['word'].values.tolist() for sentiment in sentiments}"
   ],
   "execution_count": 78,
   "outputs": []
  },
  {
   "cell_type": "markdown",
   "metadata": {
    "id": "fcVciwegw5qP"
   },
   "source": [
    "## Analyze the tone with negation without lemmatization"
   ]
  },
  {
   "cell_type": "code",
   "metadata": {
    "id": "PskYKa4aw5qP",
    "executionInfo": {
     "status": "ok",
     "timestamp": 1609314211457,
     "user_tz": 300,
     "elapsed": 105142,
     "user": {
      "displayName": "Theo Dimitrasopoulos",
      "photoUrl": "https://lh3.googleusercontent.com/a-/AOh14GhRNhCMR9OSve5rpYHqQ5AxXHb4FT75fg51p-tfkA=s64",
      "userId": "13959094896036405890"
     }
    }
   },
   "source": [
    "negate = [\"aint\", \"arent\", \"cannot\", \"cant\", \"couldnt\", \"darent\", \"didnt\", \"doesnt\", \"ain't\", \"aren't\", \"can't\",\n",
    "          \"couldn't\", \"daren't\", \"didn't\", \"doesn't\", \"dont\", \"hadnt\", \"hasnt\", \"havent\", \"isnt\", \"mightnt\", \"mustnt\",\n",
    "          \"neither\", \"don't\", \"hadn't\", \"hasn't\", \"haven't\", \"isn't\", \"mightn't\", \"mustn't\", \"neednt\", \"needn't\",\n",
    "          \"never\", \"none\", \"nope\", \"nor\", \"not\", \"nothing\", \"nowhere\", \"oughtnt\", \"shant\", \"shouldnt\", \"wasnt\",\n",
    "          \"werent\", \"oughtn't\", \"shan't\", \"shouldn't\", \"wasn't\", \"weren't\", \"without\", \"wont\", \"wouldnt\", \"won't\",\n",
    "          \"wouldn't\", \"rarely\", \"seldom\", \"despite\", \"no\", \"nobody\"]\n",
    "\n",
    "def negated(word):\n",
    "    if word.lower() in negate:\n",
    "        return True\n",
    "    else:\n",
    "        return False\n",
    "\n",
    "def tone_count_with_negation_check(dict, article):\n",
    "    pos_count = 0\n",
    "    neg_count = 0\n",
    "    tone_score = 0\n",
    "\n",
    "    pos_words = []\n",
    "    neg_words = []\n",
    " \n",
    "    input_words = re.findall(r'\\b([a-zA-Z]+n\\'t|[a-zA-Z]+\\'s|[a-zA-Z]+)\\b', article.lower())\n",
    "    word_count = len(input_words)\n",
    "     \n",
    "    for i in range(0, word_count):\n",
    "        if input_words[i] in dict['Negative']:\n",
    "            neg_count += 1\n",
    "            neg_words.append(input_words[i])\n",
    "        if input_words[i] in dict['Positive']:\n",
    "            if i >= 3:\n",
    "                if negated(input_words[i - 1]) or negated(input_words[i - 2]) or negated(input_words[i - 3]):\n",
    "                    neg_count += 1\n",
    "                    neg_words.append(input_words[i] + ' (with negation)')\n",
    "                else:\n",
    "                    pos_count += 1\n",
    "                    pos_words.append(input_words[i])\n",
    "            elif i == 2:\n",
    "                if negated(input_words[i - 1]) or negated(input_words[i - 2]):\n",
    "                    neg_count += 1\n",
    "                    neg_words.append(input_words[i] + ' (with negation)')\n",
    "                else:\n",
    "                    pos_count += 1\n",
    "                    pos_words.append(input_words[i])\n",
    "            elif i == 1:\n",
    "                if negated(input_words[i - 1]):\n",
    "                    neg_count += 1\n",
    "                    neg_words.append(input_words[i] + ' (with negation)')\n",
    "                else:\n",
    "                    pos_count += 1\n",
    "                    pos_words.append(input_words[i])\n",
    "            elif i == 0:\n",
    "                pos_count += 1\n",
    "                pos_words.append(input_words[i])\n",
    " \n",
    "    if word_count > 0:\n",
    "        tone_score = 100 * (pos_count - neg_count) / word_count\n",
    "    else:\n",
    "        tone_score = 0\n",
    "    \n",
    "    results = [tone_score, word_count, pos_count, neg_count, pos_words, neg_words]\n",
    " \n",
    "    return results\n",
    "\n",
    "columns = ['tone_score', 'word_count', 'n_pos_words', 'n_neg_words', 'pos_words', 'neg_words']"
   ],
   "execution_count": 79,
   "outputs": []
  },
  {
   "cell_type": "code",
   "metadata": {
    "id": "0NjuD9SWw5qR",
    "colab": {
     "base_uri": "https://localhost:8080/",
     "height": 1000,
     "referenced_widgets": [
      "5f1d5ce4be474ba895cbb0869b795283",
      "600e4dfbf1e34cbdb2f40be5df7c5cd3",
      "98aaa2b2216b445884723a38fe821501",
      "3d93bb6b6c184e69860956a9e02192b3",
      "e933902d918c4fb995c8e89d102ca174",
      "a818ce331d3043119724ba61097db925",
      "c8c6fb2170044a819f261084146feef2",
      "2bba4fb96e4d47ba8d173ee9d4f69754"
     ]
    },
    "executionInfo": {
     "status": "ok",
     "timestamp": 1609314633683,
     "user_tz": 300,
     "elapsed": 527358,
     "user": {
      "displayName": "Theo Dimitrasopoulos",
      "photoUrl": "https://lh3.googleusercontent.com/a-/AOh14GhRNhCMR9OSve5rpYHqQ5AxXHb4FT75fg51p-tfkA=s64",
      "userId": "13959094896036405890"
     }
    },
    "outputId": "3b24acde-7acd-440e-d713-fa4a6a74ed22"
   },
   "source": [
    "print(text_df.shape)\n",
    "tone_lmdict = [tone_count_with_negation_check(sentiment_dict, x) for x in tqdm(text_df['text'], total=text_df.shape[0])]\n",
    "tone_lmdict_df = pd.DataFrame(tone_lmdict, columns=columns)\n",
    "text_df = pd.concat([text_df, tone_lmdict_df.reindex(text_df.index)], axis=1)\n",
    "text_df\n"
   ],
   "execution_count": 80,
   "outputs": [
    {
     "output_type": "stream",
     "text": [
      "(48583, 12)\n"
     ],
     "name": "stdout"
    },
    {
     "output_type": "display_data",
     "data": {
      "application/vnd.jupyter.widget-view+json": {
       "model_id": "5f1d5ce4be474ba895cbb0869b795283",
       "version_minor": 0,
       "version_major": 2
      },
      "text/plain": [
       "HBox(children=(FloatProgress(value=0.0, max=48583.0), HTML(value='')))"
      ]
     },
     "metadata": {
      "tags": []
     }
    },
    {
     "output_type": "stream",
     "text": [
      "\n"
     ],
     "name": "stdout"
    },
    {
     "output_type": "execute_result",
     "data": {
      "text/html": [
       "<div>\n",
       "<style scoped>\n",
       "    .dataframe tbody tr th:only-of-type {\n",
       "        vertical-align: middle;\n",
       "    }\n",
       "\n",
       "    .dataframe tbody tr th {\n",
       "        vertical-align: top;\n",
       "    }\n",
       "\n",
       "    .dataframe thead th {\n",
       "        text-align: right;\n",
       "    }\n",
       "</style>\n",
       "<table border=\"1\" class=\"dataframe\">\n",
       "  <thead>\n",
       "    <tr style=\"text-align: right;\">\n",
       "      <th></th>\n",
       "      <th>type</th>\n",
       "      <th>date</th>\n",
       "      <th>title</th>\n",
       "      <th>speaker</th>\n",
       "      <th>word_count</th>\n",
       "      <th>decision</th>\n",
       "      <th>rate</th>\n",
       "      <th>next_meeting</th>\n",
       "      <th>next_decision</th>\n",
       "      <th>next_rate</th>\n",
       "      <th>text</th>\n",
       "      <th>index</th>\n",
       "      <th>tone_score</th>\n",
       "      <th>word_count</th>\n",
       "      <th>n_pos_words</th>\n",
       "      <th>n_neg_words</th>\n",
       "      <th>pos_words</th>\n",
       "      <th>neg_words</th>\n",
       "    </tr>\n",
       "  </thead>\n",
       "  <tbody>\n",
       "    <tr>\n",
       "      <th>0</th>\n",
       "      <td>statement</td>\n",
       "      <td>1994-02-04</td>\n",
       "      <td>FOMC Statement</td>\n",
       "      <td>Alan Greenspan</td>\n",
       "      <td>99</td>\n",
       "      <td>&lt;NA&gt;</td>\n",
       "      <td>None</td>\n",
       "      <td>1994-02-28</td>\n",
       "      <td>&lt;NA&gt;</td>\n",
       "      <td>None</td>\n",
       "      <td>Chairman Alan Greenspan announced today that t...</td>\n",
       "      <td>NaN</td>\n",
       "      <td>0.000000</td>\n",
       "      <td>99</td>\n",
       "      <td>1</td>\n",
       "      <td>1</td>\n",
       "      <td>[enhance]</td>\n",
       "      <td>[misunderstanding]</td>\n",
       "    </tr>\n",
       "    <tr>\n",
       "      <th>1</th>\n",
       "      <td>statement</td>\n",
       "      <td>1994-03-22</td>\n",
       "      <td>FOMC Statement</td>\n",
       "      <td>Alan Greenspan</td>\n",
       "      <td>40</td>\n",
       "      <td>&lt;NA&gt;</td>\n",
       "      <td>None</td>\n",
       "      <td>1994-04-18</td>\n",
       "      <td>&lt;NA&gt;</td>\n",
       "      <td>None</td>\n",
       "      <td>Chairman Alan Greenspan announced today that t...</td>\n",
       "      <td>NaN</td>\n",
       "      <td>0.000000</td>\n",
       "      <td>40</td>\n",
       "      <td>0</td>\n",
       "      <td>0</td>\n",
       "      <td>[]</td>\n",
       "      <td>[]</td>\n",
       "    </tr>\n",
       "    <tr>\n",
       "      <th>2</th>\n",
       "      <td>statement</td>\n",
       "      <td>1994-04-18</td>\n",
       "      <td>FOMC Statement</td>\n",
       "      <td>Alan Greenspan</td>\n",
       "      <td>37</td>\n",
       "      <td>&lt;NA&gt;</td>\n",
       "      <td>None</td>\n",
       "      <td>1994-05-17</td>\n",
       "      <td>&lt;NA&gt;</td>\n",
       "      <td>None</td>\n",
       "      <td>Chairman Alan Greenspan announced today that t...</td>\n",
       "      <td>NaN</td>\n",
       "      <td>0.000000</td>\n",
       "      <td>37</td>\n",
       "      <td>0</td>\n",
       "      <td>0</td>\n",
       "      <td>[]</td>\n",
       "      <td>[]</td>\n",
       "    </tr>\n",
       "    <tr>\n",
       "      <th>3</th>\n",
       "      <td>statement</td>\n",
       "      <td>1994-05-17</td>\n",
       "      <td>FOMC Statement</td>\n",
       "      <td>Alan Greenspan</td>\n",
       "      <td>57</td>\n",
       "      <td>&lt;NA&gt;</td>\n",
       "      <td>None</td>\n",
       "      <td>1994-07-06</td>\n",
       "      <td>&lt;NA&gt;</td>\n",
       "      <td>None</td>\n",
       "      <td>In taking the discount action, the Board appro...</td>\n",
       "      <td>NaN</td>\n",
       "      <td>0.000000</td>\n",
       "      <td>57</td>\n",
       "      <td>0</td>\n",
       "      <td>0</td>\n",
       "      <td>[]</td>\n",
       "      <td>[]</td>\n",
       "    </tr>\n",
       "    <tr>\n",
       "      <th>4</th>\n",
       "      <td>statement</td>\n",
       "      <td>1994-08-16</td>\n",
       "      <td>FOMC Statement</td>\n",
       "      <td>Alan Greenspan</td>\n",
       "      <td>51</td>\n",
       "      <td>&lt;NA&gt;</td>\n",
       "      <td>None</td>\n",
       "      <td>1994-09-27</td>\n",
       "      <td>&lt;NA&gt;</td>\n",
       "      <td>None</td>\n",
       "      <td>In taking the discount rate action, the Board ...</td>\n",
       "      <td>NaN</td>\n",
       "      <td>0.000000</td>\n",
       "      <td>51</td>\n",
       "      <td>0</td>\n",
       "      <td>0</td>\n",
       "      <td>[]</td>\n",
       "      <td>[]</td>\n",
       "    </tr>\n",
       "    <tr>\n",
       "      <th>...</th>\n",
       "      <td>...</td>\n",
       "      <td>...</td>\n",
       "      <td>...</td>\n",
       "      <td>...</td>\n",
       "      <td>...</td>\n",
       "      <td>...</td>\n",
       "      <td>...</td>\n",
       "      <td>...</td>\n",
       "      <td>...</td>\n",
       "      <td>...</td>\n",
       "      <td>...</td>\n",
       "      <td>...</td>\n",
       "      <td>...</td>\n",
       "      <td>...</td>\n",
       "      <td>...</td>\n",
       "      <td>...</td>\n",
       "      <td>...</td>\n",
       "      <td>...</td>\n",
       "    </tr>\n",
       "    <tr>\n",
       "      <th>48578</th>\n",
       "      <td>testimony</td>\n",
       "      <td>2020-02-11</td>\n",
       "      <td>Semiannual Monetary Policy Report to the Congress</td>\n",
       "      <td>Jerome Powell</td>\n",
       "      <td>1171</td>\n",
       "      <td>&lt;NA&gt;</td>\n",
       "      <td>None</td>\n",
       "      <td>2020-03-03</td>\n",
       "      <td>&lt;NA&gt;</td>\n",
       "      <td>None</td>\n",
       "      <td>My colleagues and I strongly support the goals...</td>\n",
       "      <td>NaN</td>\n",
       "      <td>0.170794</td>\n",
       "      <td>1171</td>\n",
       "      <td>25</td>\n",
       "      <td>23</td>\n",
       "      <td>[stability, strengthened, stable, gains, gains...</td>\n",
       "      <td>[force, unemployment, unemployment, weak, slug...</td>\n",
       "    </tr>\n",
       "    <tr>\n",
       "      <th>48579</th>\n",
       "      <td>testimony</td>\n",
       "      <td>2020-05-19</td>\n",
       "      <td>Coronavirus and CARES Act</td>\n",
       "      <td>Jerome Powell</td>\n",
       "      <td>1802</td>\n",
       "      <td>&lt;NA&gt;</td>\n",
       "      <td>None</td>\n",
       "      <td>2020-06-10</td>\n",
       "      <td>&lt;NA&gt;</td>\n",
       "      <td>None</td>\n",
       "      <td>I would like to begin by acknowledging the tra...</td>\n",
       "      <td>NaN</td>\n",
       "      <td>-0.665927</td>\n",
       "      <td>1802</td>\n",
       "      <td>33</td>\n",
       "      <td>45</td>\n",
       "      <td>[tremendous, greatly, able, gains, great, trem...</td>\n",
       "      <td>[tragic, loss, hardship, crisis, closed, curta...</td>\n",
       "    </tr>\n",
       "    <tr>\n",
       "      <th>48580</th>\n",
       "      <td>testimony</td>\n",
       "      <td>2020-06-16</td>\n",
       "      <td>Semiannual Monetary Policy Report to the Congress</td>\n",
       "      <td>Jerome Powell</td>\n",
       "      <td>1433</td>\n",
       "      <td>&lt;NA&gt;</td>\n",
       "      <td>None</td>\n",
       "      <td>2020-07-29</td>\n",
       "      <td>&lt;NA&gt;</td>\n",
       "      <td>None</td>\n",
       "      <td>Our country continues to face a difficult and ...</td>\n",
       "      <td>NaN</td>\n",
       "      <td>-0.907188</td>\n",
       "      <td>1433</td>\n",
       "      <td>30</td>\n",
       "      <td>43</td>\n",
       "      <td>[tremendous, positive, able, greater, progress...</td>\n",
       "      <td>[difficult, challenging, hardship, crisis, une...</td>\n",
       "    </tr>\n",
       "    <tr>\n",
       "      <th>48581</th>\n",
       "      <td>testimony</td>\n",
       "      <td>2020-06-30</td>\n",
       "      <td>Coronavirus and CARES Act</td>\n",
       "      <td>Jerome Powell</td>\n",
       "      <td>2759</td>\n",
       "      <td>&lt;NA&gt;</td>\n",
       "      <td>None</td>\n",
       "      <td>2020-07-29</td>\n",
       "      <td>&lt;NA&gt;</td>\n",
       "      <td>None</td>\n",
       "      <td>We meet as the pandemic continues to cause tre...</td>\n",
       "      <td>NaN</td>\n",
       "      <td>-0.108735</td>\n",
       "      <td>2759</td>\n",
       "      <td>46</td>\n",
       "      <td>49</td>\n",
       "      <td>[tremendous, tremendous, greater, rebounded, p...</td>\n",
       "      <td>[hardship, crisis, decline, losses, decline, s...</td>\n",
       "    </tr>\n",
       "    <tr>\n",
       "      <th>48582</th>\n",
       "      <td>testimony</td>\n",
       "      <td>2020-09-22</td>\n",
       "      <td>Coronavirus Aid, Relief, and Economic Security...</td>\n",
       "      <td>Jerome Powell</td>\n",
       "      <td>2400</td>\n",
       "      <td>&lt;NA&gt;</td>\n",
       "      <td>None</td>\n",
       "      <td>2020-11-05</td>\n",
       "      <td>&lt;NA&gt;</td>\n",
       "      <td>None</td>\n",
       "      <td>Chairwoman Waters, Ranking Member McHenry, and...</td>\n",
       "      <td>NaN</td>\n",
       "      <td>-0.041667</td>\n",
       "      <td>2400</td>\n",
       "      <td>25</td>\n",
       "      <td>26</td>\n",
       "      <td>[opportunity, strong, improvement, rebounded, ...</td>\n",
       "      <td>[hardship, fallout, damage, depressed, shut, d...</td>\n",
       "    </tr>\n",
       "  </tbody>\n",
       "</table>\n",
       "<p>48583 rows × 18 columns</p>\n",
       "</div>"
      ],
      "text/plain": [
       "            type  ...                                          neg_words\n",
       "0      statement  ...                                 [misunderstanding]\n",
       "1      statement  ...                                                 []\n",
       "2      statement  ...                                                 []\n",
       "3      statement  ...                                                 []\n",
       "4      statement  ...                                                 []\n",
       "...          ...  ...                                                ...\n",
       "48578  testimony  ...  [force, unemployment, unemployment, weak, slug...\n",
       "48579  testimony  ...  [tragic, loss, hardship, crisis, closed, curta...\n",
       "48580  testimony  ...  [difficult, challenging, hardship, crisis, une...\n",
       "48581  testimony  ...  [hardship, crisis, decline, losses, decline, s...\n",
       "48582  testimony  ...  [hardship, fallout, damage, depressed, shut, d...\n",
       "\n",
       "[48583 rows x 18 columns]"
      ]
     },
     "metadata": {
      "tags": []
     },
     "execution_count": 80
    }
   ]
  },
  {
   "cell_type": "code",
   "metadata": {
    "id": "20abWG1zw5qT",
    "colab": {
     "base_uri": "https://localhost:8080/",
     "height": 445,
     "referenced_widgets": [
      "65be1a1e0904406b94eb4ca911cb6cfb",
      "798001f4d2fc4caf90127bd2cb50d7ef",
      "f14fa4fcde514d44a26b4a051aae0825",
      "59ca30f81b2d49d4b201b60f3c9e2c73",
      "9c3bbe3fe44148e599a77a7a8b97daba",
      "f59221b2f9cb42bfb890eecf0c63138a",
      "0b1725ee7a774f5abbe187285e98bbd5",
      "0dbc3a06bbef4f1dbd9c2ddddc377171",
      "63ebfbb84e3a48fbbb086b5aa6fde350",
      "49469878df7147ebb2760ae4e14d5df7",
      "430f469ff29c4d74b05130025c48cbb2",
      "9e969310765b48dc837ba79cebff976b",
      "76d25cfc083c4bbd8e5b70a3be925c2a",
      "8b4be6212e2b486fa76cac6592e09c52",
      "8a535d944f18493790384fabb6568be9",
      "c09ef92078f742c4a819d7ce456adf32",
      "4620ce4fa387406a867114ff0c96717b",
      "9a63ade1b5ab491d8dd0055ebe5587ae",
      "e9e816a3571e43d0ac8223647e529e46",
      "7e41da21127c46cf8bdfbf0164f5e261",
      "b1e749d422ff427997408ec3277b1815",
      "7ba56130e0884b87975c722ac0295f2e",
      "c842ac4425db44e79a7095c0db5bad01",
      "3d27362d161e4d56809fc3e26623a509",
      "20e46ce85cc94e41b642a4e267c7b135",
      "d9a8787cd0f946d19e5a9165c043fb6a",
      "4b5d3dbe42eb4a1f8caf3547ba20c607",
      "61b9ac15b3d140c88cfff87ffe6f5aef",
      "07948abcfbaa46dc8ed26394bf5b5bb3",
      "783e702ab63945498b7b5cfc6f238815",
      "2bd9b35200e74e0699e123c2f0111c8e",
      "bc3f4f1b2499480aba325aa4497d59ce",
      "ce423926f26d455fb503ed562d34e7f5",
      "32da3d058e614aada0231924a14edf9e",
      "1efa93ca16bb43158f237a7b7fa60063",
      "b0aa54b9e0f1447db5ce31182636ddfb",
      "c6c5a447ea4e43cdad7358e365bc12b7",
      "80d0eed59c94489ca5028d689d229371",
      "88ffc48b282e4514ab0661422edc3439",
      "15af55b8639a437da99df4b89729901e",
      "85d0c91d90ca44198b26c2736237dd8f",
      "d6f2bd30e4894b599c8705dac9d97a02",
      "8db464401cab40afb3cc49c6b6adea9d",
      "66525578cf794a0da3804e4a8e1cc5cc",
      "52aa4f2277a04d8cbdbdf1fb95345ecf",
      "22b95dd800294d3fb6c809753387c33b",
      "9bdad9b0c4c347098a38805620ba7dd1",
      "8c36818b65b64eab9032a0840d8dab05"
     ]
    },
    "executionInfo": {
     "status": "ok",
     "timestamp": 1609314734775,
     "user_tz": 300,
     "elapsed": 628437,
     "user": {
      "displayName": "Theo Dimitrasopoulos",
      "photoUrl": "https://lh3.googleusercontent.com/a-/AOh14GhRNhCMR9OSve5rpYHqQ5AxXHb4FT75fg51p-tfkA=s64",
      "userId": "13959094896036405890"
     }
    },
    "outputId": "51b6c390-111d-422e-a789-759ebc230d0c"
   },
   "source": [
    "tone_lmdict_list = []\n",
    "for doc_type in doc_types:\n",
    "    tone_lmdict = [tone_count_with_negation_check(sentiment_dict, x)[0] for x in tqdm(train_df[doc_type], \n",
    "                                                                                      total=train_df.shape[0], \n",
    "                                                                                      desc=str(doc_type))]\n",
    "    tone_lmdict_list.append(tone_lmdict)\n",
    "\n",
    "train_df['tone'] = np.mean(tone_lmdict_list, axis=0)\n",
    "train_df = [x for x in train_df if x != 'nan']"
   ],
   "execution_count": 81,
   "outputs": [
    {
     "output_type": "display_data",
     "data": {
      "application/vnd.jupyter.widget-view+json": {
       "model_id": "65be1a1e0904406b94eb4ca911cb6cfb",
       "version_minor": 0,
       "version_major": 2
      },
      "text/plain": [
       "HBox(children=(FloatProgress(value=0.0, description='statement', max=244.0, style=ProgressStyle(description_wi…"
      ]
     },
     "metadata": {
      "tags": []
     }
    },
    {
     "output_type": "stream",
     "text": [
      "\n"
     ],
     "name": "stdout"
    },
    {
     "output_type": "display_data",
     "data": {
      "application/vnd.jupyter.widget-view+json": {
       "model_id": "63ebfbb84e3a48fbbb086b5aa6fde350",
       "version_minor": 0,
       "version_major": 2
      },
      "text/plain": [
       "HBox(children=(FloatProgress(value=0.0, description='minutes', max=244.0, style=ProgressStyle(description_widt…"
      ]
     },
     "metadata": {
      "tags": []
     }
    },
    {
     "output_type": "stream",
     "text": [
      "\n"
     ],
     "name": "stdout"
    },
    {
     "output_type": "display_data",
     "data": {
      "application/vnd.jupyter.widget-view+json": {
       "model_id": "4620ce4fa387406a867114ff0c96717b",
       "version_minor": 0,
       "version_major": 2
      },
      "text/plain": [
       "HBox(children=(FloatProgress(value=0.0, description='press_conference', max=244.0, style=ProgressStyle(descrip…"
      ]
     },
     "metadata": {
      "tags": []
     }
    },
    {
     "output_type": "stream",
     "text": [
      "\n"
     ],
     "name": "stdout"
    },
    {
     "output_type": "display_data",
     "data": {
      "application/vnd.jupyter.widget-view+json": {
       "model_id": "20e46ce85cc94e41b642a4e267c7b135",
       "version_minor": 0,
       "version_major": 2
      },
      "text/plain": [
       "HBox(children=(FloatProgress(value=0.0, description='nan', max=244.0, style=ProgressStyle(description_width='i…"
      ]
     },
     "metadata": {
      "tags": []
     }
    },
    {
     "output_type": "stream",
     "text": [
      "\n"
     ],
     "name": "stdout"
    },
    {
     "output_type": "display_data",
     "data": {
      "application/vnd.jupyter.widget-view+json": {
       "model_id": "ce423926f26d455fb503ed562d34e7f5",
       "version_minor": 0,
       "version_major": 2
      },
      "text/plain": [
       "HBox(children=(FloatProgress(value=0.0, description='speech', max=244.0, style=ProgressStyle(description_width…"
      ]
     },
     "metadata": {
      "tags": []
     }
    },
    {
     "output_type": "stream",
     "text": [
      "\n"
     ],
     "name": "stdout"
    },
    {
     "output_type": "display_data",
     "data": {
      "application/vnd.jupyter.widget-view+json": {
       "model_id": "85d0c91d90ca44198b26c2736237dd8f",
       "version_minor": 0,
       "version_major": 2
      },
      "text/plain": [
       "HBox(children=(FloatProgress(value=0.0, description='testimony', max=244.0, style=ProgressStyle(description_wi…"
      ]
     },
     "metadata": {
      "tags": []
     }
    },
    {
     "output_type": "stream",
     "text": [
      "\n"
     ],
     "name": "stdout"
    },
    {
     "output_type": "stream",
     "text": [
      "/usr/local/lib/python3.6/dist-packages/ipykernel_launcher.py:8: SettingWithCopyWarning: \n",
      "A value is trying to be set on a copy of a slice from a DataFrame.\n",
      "Try using .loc[row_indexer,col_indexer] = value instead\n",
      "\n",
      "See the caveats in the documentation: https://pandas.pydata.org/pandas-docs/stable/user_guide/indexing.html#returning-a-view-versus-a-copy\n",
      "  \n"
     ],
     "name": "stderr"
    }
   ]
  },
  {
   "cell_type": "code",
   "metadata": {
    "id": "mSp8OS1ow5qV",
    "colab": {
     "base_uri": "https://localhost:8080/"
    },
    "executionInfo": {
     "status": "ok",
     "timestamp": 1609314734776,
     "user_tz": 300,
     "elapsed": 628425,
     "user": {
      "displayName": "Theo Dimitrasopoulos",
      "photoUrl": "https://lh3.googleusercontent.com/a-/AOh14GhRNhCMR9OSve5rpYHqQ5AxXHb4FT75fg51p-tfkA=s64",
      "userId": "13959094896036405890"
     }
    },
    "outputId": "a17938da-9107-4535-af57-58510c503bfc"
   },
   "source": [
    "train_df"
   ],
   "execution_count": 82,
   "outputs": [
    {
     "output_type": "execute_result",
     "data": {
      "text/plain": [
       "['target',\n",
       " 'prev_decision',\n",
       " 'GDP_diff_prev',\n",
       " 'PMI_value',\n",
       " 'Employ_diff_prev',\n",
       " 'Rsales_diff_year',\n",
       " 'Unemp_diff_prev',\n",
       " 'Inertia_diff',\n",
       " 'Hsales_diff_year',\n",
       " 'Balanced_diff',\n",
       " 'statement',\n",
       " 'minutes',\n",
       " 'press_conference',\n",
       " nan,\n",
       " 'speech',\n",
       " 'testimony',\n",
       " 'text',\n",
       " 'tone']"
      ]
     },
     "metadata": {
      "tags": []
     },
     "execution_count": 82
    }
   ]
  },
  {
   "cell_type": "code",
   "metadata": {
    "id": "6Adkv3IXw5qX",
    "colab": {
     "base_uri": "https://localhost:8080/",
     "height": 626
    },
    "executionInfo": {
     "status": "error",
     "timestamp": 1609314735693,
     "user_tz": 300,
     "elapsed": 629329,
     "user": {
      "displayName": "Theo Dimitrasopoulos",
      "photoUrl": "https://lh3.googleusercontent.com/a-/AOh14GhRNhCMR9OSve5rpYHqQ5AxXHb4FT75fg51p-tfkA=s64",
      "userId": "13959094896036405890"
     }
    },
    "outputId": "af72d491-933e-43e3-fd7c-77116844428b"
   },
   "source": [
    "fig, (ax1, ax2) = plt.subplots(1, 2, figsize=(15,6))\n",
    "corr_columns = ['target', 'tone', 'prev_decision']\n",
    "sns.heatmap(train_df['target', 'tone', 'prev_decision'].astype(float).corr(), cmap=\"YlGnBu\", annot=True, fmt=\".2f\", ax=ax1, vmin=0, vmax=1)\n",
    "ax1.set_title(\"Correlation of train_df\")\n",
    "corr_columns = ['next_decision', 'tone_score', 'decision']\n",
    "sns.heatmap(text_df[corr_columns].astype(float).corr(), cmap=\"YlGnBu\", annot=True, fmt=\".2f\", ax=ax2, vmin=0, vmax=1)\n",
    "ax2.set_title(\"Correlation of text_df\")\n",
    "plt.show()"
   ],
   "execution_count": 83,
   "outputs": [
    {
     "output_type": "error",
     "ename": "TypeError",
     "evalue": "ignored",
     "traceback": [
      "\u001B[0;31m---------------------------------------------------------------------------\u001B[0m",
      "\u001B[0;31mTypeError\u001B[0m                                 Traceback (most recent call last)",
      "\u001B[0;32m<ipython-input-83-a28e0f9b990a>\u001B[0m in \u001B[0;36m<module>\u001B[0;34m()\u001B[0m\n\u001B[1;32m      1\u001B[0m \u001B[0mfig\u001B[0m\u001B[0;34m,\u001B[0m \u001B[0;34m(\u001B[0m\u001B[0max1\u001B[0m\u001B[0;34m,\u001B[0m \u001B[0max2\u001B[0m\u001B[0;34m)\u001B[0m \u001B[0;34m=\u001B[0m \u001B[0mplt\u001B[0m\u001B[0;34m.\u001B[0m\u001B[0msubplots\u001B[0m\u001B[0;34m(\u001B[0m\u001B[0;36m1\u001B[0m\u001B[0;34m,\u001B[0m \u001B[0;36m2\u001B[0m\u001B[0;34m,\u001B[0m \u001B[0mfigsize\u001B[0m\u001B[0;34m=\u001B[0m\u001B[0;34m(\u001B[0m\u001B[0;36m15\u001B[0m\u001B[0;34m,\u001B[0m\u001B[0;36m6\u001B[0m\u001B[0;34m)\u001B[0m\u001B[0;34m)\u001B[0m\u001B[0;34m\u001B[0m\u001B[0;34m\u001B[0m\u001B[0m\n\u001B[1;32m      2\u001B[0m \u001B[0mcorr_columns\u001B[0m \u001B[0;34m=\u001B[0m \u001B[0;34m[\u001B[0m\u001B[0;34m'target'\u001B[0m\u001B[0;34m,\u001B[0m \u001B[0;34m'tone'\u001B[0m\u001B[0;34m,\u001B[0m \u001B[0;34m'prev_decision'\u001B[0m\u001B[0;34m]\u001B[0m\u001B[0;34m\u001B[0m\u001B[0;34m\u001B[0m\u001B[0m\n\u001B[0;32m----> 3\u001B[0;31m \u001B[0msns\u001B[0m\u001B[0;34m.\u001B[0m\u001B[0mheatmap\u001B[0m\u001B[0;34m(\u001B[0m\u001B[0mtrain_df\u001B[0m\u001B[0;34m[\u001B[0m\u001B[0;34m'target'\u001B[0m\u001B[0;34m,\u001B[0m \u001B[0;34m'tone'\u001B[0m\u001B[0;34m,\u001B[0m \u001B[0;34m'prev_decision'\u001B[0m\u001B[0;34m]\u001B[0m\u001B[0;34m.\u001B[0m\u001B[0mastype\u001B[0m\u001B[0;34m(\u001B[0m\u001B[0mfloat\u001B[0m\u001B[0;34m)\u001B[0m\u001B[0;34m.\u001B[0m\u001B[0mcorr\u001B[0m\u001B[0;34m(\u001B[0m\u001B[0;34m)\u001B[0m\u001B[0;34m,\u001B[0m \u001B[0mcmap\u001B[0m\u001B[0;34m=\u001B[0m\u001B[0;34m\"YlGnBu\"\u001B[0m\u001B[0;34m,\u001B[0m \u001B[0mannot\u001B[0m\u001B[0;34m=\u001B[0m\u001B[0;32mTrue\u001B[0m\u001B[0;34m,\u001B[0m \u001B[0mfmt\u001B[0m\u001B[0;34m=\u001B[0m\u001B[0;34m\".2f\"\u001B[0m\u001B[0;34m,\u001B[0m \u001B[0max\u001B[0m\u001B[0;34m=\u001B[0m\u001B[0max1\u001B[0m\u001B[0;34m,\u001B[0m \u001B[0mvmin\u001B[0m\u001B[0;34m=\u001B[0m\u001B[0;36m0\u001B[0m\u001B[0;34m,\u001B[0m \u001B[0mvmax\u001B[0m\u001B[0;34m=\u001B[0m\u001B[0;36m1\u001B[0m\u001B[0;34m)\u001B[0m\u001B[0;34m\u001B[0m\u001B[0;34m\u001B[0m\u001B[0m\n\u001B[0m\u001B[1;32m      4\u001B[0m \u001B[0max1\u001B[0m\u001B[0;34m.\u001B[0m\u001B[0mset_title\u001B[0m\u001B[0;34m(\u001B[0m\u001B[0;34m\"Correlation of train_df\"\u001B[0m\u001B[0;34m)\u001B[0m\u001B[0;34m\u001B[0m\u001B[0;34m\u001B[0m\u001B[0m\n\u001B[1;32m      5\u001B[0m \u001B[0mcorr_columns\u001B[0m \u001B[0;34m=\u001B[0m \u001B[0;34m[\u001B[0m\u001B[0;34m'next_decision'\u001B[0m\u001B[0;34m,\u001B[0m \u001B[0;34m'tone_score'\u001B[0m\u001B[0;34m,\u001B[0m \u001B[0;34m'decision'\u001B[0m\u001B[0;34m]\u001B[0m\u001B[0;34m\u001B[0m\u001B[0;34m\u001B[0m\u001B[0m\n",
      "\u001B[0;31mTypeError\u001B[0m: list indices must be integers or slices, not tuple"
     ]
    },
    {
     "output_type": "display_data",
     "data": {
      "image/png": "[encoded data removed]",
      "text/plain": [
       "<Figure size 1080x432 with 2 Axes>"
      ]
     },
     "metadata": {
      "tags": []
     }
    }
   ]
  },
  {
   "cell_type": "code",
   "metadata": {
    "id": "uiYJ4EOFw5qb",
    "executionInfo": {
     "status": "aborted",
     "timestamp": 1609314735414,
     "user_tz": 300,
     "elapsed": 629040,
     "user": {
      "displayName": "Theo Dimitrasopoulos",
      "photoUrl": "https://lh3.googleusercontent.com/a-/AOh14GhRNhCMR9OSve5rpYHqQ5AxXHb4FT75fg51p-tfkA=s64",
      "userId": "13959094896036405890"
     }
    }
   },
   "source": [
    "corr_columns = ['next_decision', 'tone_score', 'type']\n",
    "doc_types = ['statement', 'minutes', 'presconf_script', 'meeting_script', 'speech', 'testimony']\n",
    "\n",
    "fig, ((ax1, ax2, ax3), (ax4, ax5, ax6)) = plt.subplots(2, 3, figsize=(15,7))\n",
    "\n",
    "axes = [ax1, ax2, ax3, ax4, ax5, ax6]\n",
    "df = text_df[corr_columns]\n",
    "for i, doc_type in enumerate(doc_types):\n",
    "    sns.heatmap(df.loc[df['type'] == doc_type].drop(columns=['type']).astype(float).corr(), cmap=\"YlGnBu\", annot=True, fmt=\".2f\", vmin=0, vmax=1, ax=axes[i])\n",
    "    axes[i].set_title(doc_type)\n",
    "\n",
    "fig.suptitle('Correlation of text_df', fontsize=24)\n",
    "fig.tight_layout(pad=3.0)\n",
    "plt.show()"
   ],
   "execution_count": null,
   "outputs": []
  },
  {
   "cell_type": "markdown",
   "metadata": {
    "id": "Q5t2-Ik4w5qd"
   },
   "source": [
    "# Tokenize and vectorize"
   ]
  },
  {
   "cell_type": "code",
   "metadata": {
    "id": "4mDyuSbyw5qd",
    "executionInfo": {
     "status": "aborted",
     "timestamp": 1609314735415,
     "user_tz": 300,
     "elapsed": 629035,
     "user": {
      "displayName": "Theo Dimitrasopoulos",
      "photoUrl": "https://lh3.googleusercontent.com/a-/AOh14GhRNhCMR9OSve5rpYHqQ5AxXHb4FT75fg51p-tfkA=s64",
      "userId": "13959094896036405890"
     }
    }
   },
   "source": [
    "def lemmatize_word(word):\n",
    "    wnl = nltk.stem.WordNetLemmatizer()\n",
    "    return wnl.lemmatize(wnl.lemmatize(word, 'n'), 'v')\n",
    "\n",
    "def tokenize_df(df, col='text'):\n",
    "    tokenized = []\n",
    "    wnl = nltk.stem.WordNetLemmatizer()\n",
    "    for text in tqdm(df[col]):\n",
    "        words = [word.lower() for word in word_tokenize(text) if ((word.isalpha()==1) & (word not in stop))]\n",
    "        tokens = [lemmatize_word(word) for word in words]\n",
    "        tokenized.append(tokens)\n",
    "    return tokenized"
   ],
   "execution_count": null,
   "outputs": []
  },
  {
   "cell_type": "markdown",
   "metadata": {
    "id": "EV1nbzAnw5qg"
   },
   "source": [
    "## Tokenize text_df"
   ]
  },
  {
   "cell_type": "code",
   "metadata": {
    "id": "MDxDFgxew5qh",
    "executionInfo": {
     "status": "aborted",
     "timestamp": 1609314735416,
     "user_tz": 300,
     "elapsed": 629030,
     "user": {
      "displayName": "Theo Dimitrasopoulos",
      "photoUrl": "https://lh3.googleusercontent.com/a-/AOh14GhRNhCMR9OSve5rpYHqQ5AxXHb4FT75fg51p-tfkA=s64",
      "userId": "13959094896036405890"
     }
    }
   },
   "source": [
    "tokenized_org = tokenize_df(text_df)\n",
    "print('len(tokenized_org): ', len(tokenized_org))\n",
    "print(tokenized_org[0])"
   ],
   "execution_count": null,
   "outputs": []
  },
  {
   "cell_type": "code",
   "metadata": {
    "id": "q5nKnuYuw5qi",
    "executionInfo": {
     "status": "aborted",
     "timestamp": 1609314735416,
     "user_tz": 300,
     "elapsed": 629024,
     "user": {
      "displayName": "Theo Dimitrasopoulos",
      "photoUrl": "https://lh3.googleusercontent.com/a-/AOh14GhRNhCMR9OSve5rpYHqQ5AxXHb4FT75fg51p-tfkA=s64",
      "userId": "13959094896036405890"
     }
    }
   },
   "source": [
    "lemma_docs_org = [\" \".join(words) for words in tokenized_org]\n",
    "print('len(lemma_docs_org): ', len(lemma_docs_org))\n",
    "print(lemma_docs_org[0])"
   ],
   "execution_count": null,
   "outputs": []
  },
  {
   "cell_type": "code",
   "metadata": {
    "id": "u6qUaw1Lw5qk",
    "executionInfo": {
     "status": "aborted",
     "timestamp": 1609314735416,
     "user_tz": 300,
     "elapsed": 629018,
     "user": {
      "displayName": "Theo Dimitrasopoulos",
      "photoUrl": "https://lh3.googleusercontent.com/a-/AOh14GhRNhCMR9OSve5rpYHqQ5AxXHb4FT75fg51p-tfkA=s64",
      "userId": "13959094896036405890"
     }
    }
   },
   "source": [
    "all_words_org = [word for text in tokenized_org for word in text]\n",
    "print('len(all_words_org): ', len(all_words_org))\n",
    "print(all_words_org[0])\n",
    "counts_org = Counter(all_words_org)\n",
    "print('len(counts_org): ', len(counts_org))\n",
    "bow_org = sorted(counts_org, key=counts_org.get, reverse=True)\n",
    "print('bow_org[:20]', bow_org[:20])\n",
    "vocab_org = {word: ii for ii, word in enumerate(counts_org, 1)}\n",
    "id2vocab_org = {v: k for k, v in vocab_org.items()}\n",
    "print(\"vocab_org['chairman']: \", vocab_org['chairman'])\n",
    "print(\"vocab_org['market']: \", vocab_org['market'])"
   ],
   "execution_count": null,
   "outputs": []
  },
  {
   "cell_type": "code",
   "metadata": {
    "id": "uTFjFJ1ow5qm",
    "executionInfo": {
     "status": "aborted",
     "timestamp": 1609314735417,
     "user_tz": 300,
     "elapsed": 629013,
     "user": {
      "displayName": "Theo Dimitrasopoulos",
      "photoUrl": "https://lh3.googleusercontent.com/a-/AOh14GhRNhCMR9OSve5rpYHqQ5AxXHb4FT75fg51p-tfkA=s64",
      "userId": "13959094896036405890"
     }
    }
   },
   "source": [
    "token_ids_org = [[vocab_org[word] for word in text_words] for text_words in tokenized_org]\n",
    "print(len(token_ids_org))"
   ],
   "execution_count": null,
   "outputs": []
  },
  {
   "cell_type": "code",
   "metadata": {
    "id": "32mKXiA8w5qo",
    "executionInfo": {
     "status": "aborted",
     "timestamp": 1609314735417,
     "user_tz": 300,
     "elapsed": 629007,
     "user": {
      "displayName": "Theo Dimitrasopoulos",
      "photoUrl": "https://lh3.googleusercontent.com/a-/AOh14GhRNhCMR9OSve5rpYHqQ5AxXHb4FT75fg51p-tfkA=s64",
      "userId": "13959094896036405890"
     }
    }
   },
   "source": [
    "text_df['tokenized'] = tokenized_org\n",
    "text_df['token_ids'] = token_ids_org"
   ],
   "execution_count": null,
   "outputs": []
  },
  {
   "cell_type": "code",
   "metadata": {
    "id": "l-aLb0Upw5qp",
    "executionInfo": {
     "status": "aborted",
     "timestamp": 1609314735418,
     "user_tz": 300,
     "elapsed": 629002,
     "user": {
      "displayName": "Theo Dimitrasopoulos",
      "photoUrl": "https://lh3.googleusercontent.com/a-/AOh14GhRNhCMR9OSve5rpYHqQ5AxXHb4FT75fg51p-tfkA=s64",
      "userId": "13959094896036405890"
     }
    }
   },
   "source": [
    "freq = {}\n",
    "num_words = len(all_words)\n",
    "print('len(all_words): ', len(all_words))\n",
    "for key in counts:\n",
    "  freq[key] = counts[key]/num_words\n",
    "\n",
    "  print('len(freq): ', len(freq))\n",
    "  print(freq['rate'])\n",
    "\n",
    "  low_cutoff = 0.000001\n",
    "  high_cutoff = 20\n",
    "\n",
    "  K_most_common, K_most_common_values = zip(*counts.most_common()[:high_cutoff])\n",
    "\n",
    "  filtered_words = [word for word in freqs if (freqs[word] > low_cutoff and word not in K_most_common)]\n",
    "  print(K_most_common)\n",
    "  print('len(filtered_words): ', len(filtered_words))"
   ],
   "execution_count": null,
   "outputs": []
  },
  {
   "cell_type": "markdown",
   "metadata": {
    "id": "gCBnuM7Sw5qq"
   },
   "source": [
    "## Tokenize train_df"
   ]
  },
  {
   "cell_type": "code",
   "metadata": {
    "id": "oXHFi117w5qq",
    "executionInfo": {
     "status": "aborted",
     "timestamp": 1609314735418,
     "user_tz": 300,
     "elapsed": 628996,
     "user": {
      "displayName": "Theo Dimitrasopoulos",
      "photoUrl": "https://lh3.googleusercontent.com/a-/AOh14GhRNhCMR9OSve5rpYHqQ5AxXHb4FT75fg51p-tfkA=s64",
      "userId": "13959094896036405890"
     }
    }
   },
   "source": [
    "tokenized = tokenize_df(train_df)\n",
    "print('len(tokenized): ', len(tokenized))\n",
    "print(tokenized[0])\n",
    "\n",
    "lemma_docs = [\" \".join(words) for words in tokenized]\n",
    "print('len(lemma_docs): ', len(lemma_docs))\n",
    "print(lemma_docs[0])\n",
    "\n",
    "all_words = [word for text in tokenized for word in text]\n",
    "print('len(all_words): ', len(all_words))\n",
    "print(all_words[0])\n",
    "\n",
    "counts = Counter(all_words)\n",
    "print('len(counts): ', len(counts))\n",
    "\n",
    "bow = sorted(counts, key=counts.get, reverse=True)\n",
    "print('bow[:20]', bow[:20])\n",
    "\n",
    "vocab = {word: ii for ii, word in enumerate(counts, 1)}\n",
    "id2vocab = {v: k for k, v in vocab.items()}\n",
    "\n",
    "token_ids = [[vocab[word] for word in text_words] for text_words in tokenized]\n",
    "print(len(token_ids))\n",
    "\n",
    "train_df['tokenized'] = tokenized\n",
    "train_df['token_ids'] = token_ids\n",
    "train_df['tokenized_text'] = train_df['tokenized'].apply(lambda x: \" \".join(x))"
   ],
   "execution_count": null,
   "outputs": []
  },
  {
   "cell_type": "code",
   "metadata": {
    "id": "fEZNjFOIw5qs",
    "executionInfo": {
     "status": "aborted",
     "timestamp": 1609314735419,
     "user_tz": 300,
     "elapsed": 628990,
     "user": {
      "displayName": "Theo Dimitrasopoulos",
      "photoUrl": "https://lh3.googleusercontent.com/a-/AOh14GhRNhCMR9OSve5rpYHqQ5AxXHb4FT75fg51p-tfkA=s64",
      "userId": "13959094896036405890"
     }
    }
   },
   "source": [
    "sns.distplot(train_df['tokenized_text'].apply(lambda x: len(x.split())))"
   ],
   "execution_count": null,
   "outputs": []
  },
  {
   "cell_type": "code",
   "metadata": {
    "id": "H0SANAFyw5qu",
    "executionInfo": {
     "status": "aborted",
     "timestamp": 1609314735419,
     "user_tz": 300,
     "elapsed": 628984,
     "user": {
      "displayName": "Theo Dimitrasopoulos",
      "photoUrl": "https://lh3.googleusercontent.com/a-/AOh14GhRNhCMR9OSve5rpYHqQ5AxXHb4FT75fg51p-tfkA=s64",
      "userId": "13959094896036405890"
     }
    }
   },
   "source": [
    "len(token_ids[0])"
   ],
   "execution_count": null,
   "outputs": []
  },
  {
   "cell_type": "markdown",
   "metadata": {
    "id": "Ri2gztVOw5qw"
   },
   "source": [
    "## Lemmatize sentiment"
   ]
  },
  {
   "cell_type": "code",
   "metadata": {
    "id": "YRaYtgpDw5qw",
    "executionInfo": {
     "status": "aborted",
     "timestamp": 1609314735419,
     "user_tz": 300,
     "elapsed": 628978,
     "user": {
      "displayName": "Theo Dimitrasopoulos",
      "photoUrl": "https://lh3.googleusercontent.com/a-/AOh14GhRNhCMR9OSve5rpYHqQ5AxXHb4FT75fg51p-tfkA=s64",
      "userId": "13959094896036405890"
     }
    }
   },
   "source": [
    "# pd.get_dummies(sentiment_df, prefix=None, dtype=bool)\n",
    "# sentiment_df.columns = [column.lower() for column in sentiment_df.columns]\n",
    "\n",
    "lemma_sentiment_df = sentiment_df.copy(deep=True)\n",
    "lemma_sentiment_df['word'] = [lemmatize_word(word) for word in lemma_sentiment_df['word']]\n",
    "lemma_sentiment_df = sentiment_df.drop_duplicates('word')\n",
    "lemma_sentiments = list(lemma_sentiment_df['sentiment'].unique())"
   ],
   "execution_count": null,
   "outputs": []
  },
  {
   "cell_type": "code",
   "metadata": {
    "id": "tu1eUGOaw5qz",
    "executionInfo": {
     "status": "aborted",
     "timestamp": 1609314735420,
     "user_tz": 300,
     "elapsed": 628973,
     "user": {
      "displayName": "Theo Dimitrasopoulos",
      "photoUrl": "https://lh3.googleusercontent.com/a-/AOh14GhRNhCMR9OSve5rpYHqQ5AxXHb4FT75fg51p-tfkA=s64",
      "userId": "13959094896036405890"
     }
    }
   },
   "source": [
    "lemma_sentiment_df.groupby(by=['sentiment']).count()"
   ],
   "execution_count": null,
   "outputs": []
  },
  {
   "cell_type": "markdown",
   "metadata": {
    "id": "FzJ80-9jw5q0"
   },
   "source": [
    "## Tfidf "
   ]
  },
  {
   "cell_type": "code",
   "metadata": {
    "id": "kJrDqA9gw5q0",
    "executionInfo": {
     "status": "aborted",
     "timestamp": 1609314735420,
     "user_tz": 300,
     "elapsed": 628967,
     "user": {
      "displayName": "Theo Dimitrasopoulos",
      "photoUrl": "https://lh3.googleusercontent.com/a-/AOh14GhRNhCMR9OSve5rpYHqQ5AxXHb4FT75fg51p-tfkA=s64",
      "userId": "13959094896036405890"
     }
    }
   },
   "source": [
    "from sklearn.feature_extraction.text import TfidfVectorizer\n",
    "\n",
    "def get_tfidf(sentiment_words, docs):\n",
    "  vectorizer = TfidfVectorizer(analyzer='word', vocabulary=sentiment_words)\n",
    "  tfidf = vectorizer.fit_transform(docs)\n",
    "  features = vectorizer.get_feature_names()\n",
    "  return tfidf.toarray()"
   ],
   "execution_count": null,
   "outputs": []
  },
  {
   "cell_type": "markdown",
   "metadata": {
    "id": "l6oIPhgTw5q2"
   },
   "source": [
    "### Text dataframe"
   ]
  },
  {
   "cell_type": "code",
   "metadata": {
    "id": "F2TsPhW0w5q3",
    "executionInfo": {
     "status": "aborted",
     "timestamp": 1609314735421,
     "user_tz": 300,
     "elapsed": 628962,
     "user": {
      "displayName": "Theo Dimitrasopoulos",
      "photoUrl": "https://lh3.googleusercontent.com/a-/AOh14GhRNhCMR9OSve5rpYHqQ5AxXHb4FT75fg51p-tfkA=s64",
      "userId": "13959094896036405890"
     }
    }
   },
   "source": [
    "sentiment_tfidf_org = {\n",
    "        sentiment: get_tfidf(lemma_sentiment_df.loc[lemma_sentiment_df['sentiment'] == sentiment]['word'], lemma_docs_org)\n",
    "        for sentiment in lemma_sentiments}\n",
    "\n",
    "print(len(sentiment_tfidf_org['Negative']))\n",
    "print(len(sentiment_tfidf_org['Negative'][0]))"
   ],
   "execution_count": null,
   "outputs": []
  },
  {
   "cell_type": "code",
   "metadata": {
    "id": "OhSLtjmaw5q4",
    "executionInfo": {
     "status": "aborted",
     "timestamp": 1609314735421,
     "user_tz": 300,
     "elapsed": 628955,
     "user": {
      "displayName": "Theo Dimitrasopoulos",
      "photoUrl": "https://lh3.googleusercontent.com/a-/AOh14GhRNhCMR9OSve5rpYHqQ5AxXHb4FT75fg51p-tfkA=s64",
      "userId": "13959094896036405890"
     }
    }
   },
   "source": [
    "text_df.shape"
   ],
   "execution_count": null,
   "outputs": []
  },
  {
   "cell_type": "code",
   "metadata": {
    "id": "awD1-BEPw5q6",
    "executionInfo": {
     "status": "aborted",
     "timestamp": 1609314735421,
     "user_tz": 300,
     "elapsed": 628949,
     "user": {
      "displayName": "Theo Dimitrasopoulos",
      "photoUrl": "https://lh3.googleusercontent.com/a-/AOh14GhRNhCMR9OSve5rpYHqQ5AxXHb4FT75fg51p-tfkA=s64",
      "userId": "13959094896036405890"
     }
    }
   },
   "source": [
    "for sentiment in lemma_sentiments:\n",
    "    text_df['tfidf_' + sentiment] = list(sentiment_tfidf_org[sentiment])\n",
    "text_df"
   ],
   "execution_count": null,
   "outputs": []
  },
  {
   "cell_type": "markdown",
   "metadata": {
    "id": "cXzXpqynw5q7"
   },
   "source": [
    "### Train dataframe"
   ]
  },
  {
   "cell_type": "code",
   "metadata": {
    "id": "vL2TZFLOw5q8",
    "executionInfo": {
     "status": "aborted",
     "timestamp": 1609314735422,
     "user_tz": 300,
     "elapsed": 628944,
     "user": {
      "displayName": "Theo Dimitrasopoulos",
      "photoUrl": "https://lh3.googleusercontent.com/a-/AOh14GhRNhCMR9OSve5rpYHqQ5AxXHb4FT75fg51p-tfkA=s64",
      "userId": "13959094896036405890"
     }
    }
   },
   "source": [
    "sentiment_tfidf = {\n",
    "        sentiment: get_tfidf(lemma_sentiment_df.loc[lemma_sentiment_df['sentiment'] == sentiment]['word'], lemma_docs)\n",
    "        for sentiment in lemma_sentiments}\n",
    "print(len(sentiment_tfidf['Negative']))\n",
    "print(len(sentiment_tfidf['Negative'][0]))\n",
    "for sentiment in lemma_sentiments:\n",
    "    train_df['tfidf_' + sentiment] = list(sentiment_tfidf[sentiment])\n",
    "train_df"
   ],
   "execution_count": null,
   "outputs": []
  },
  {
   "cell_type": "markdown",
   "metadata": {
    "id": "FyYMQN6iw5q9"
   },
   "source": [
    "## Cosine Similarity"
   ]
  },
  {
   "cell_type": "code",
   "metadata": {
    "id": "DTcZKmOew5q9",
    "executionInfo": {
     "status": "aborted",
     "timestamp": 1609314735422,
     "user_tz": 300,
     "elapsed": 628938,
     "user": {
      "displayName": "Theo Dimitrasopoulos",
      "photoUrl": "https://lh3.googleusercontent.com/a-/AOh14GhRNhCMR9OSve5rpYHqQ5AxXHb4FT75fg51p-tfkA=s64",
      "userId": "13959094896036405890"
     }
    }
   },
   "source": [
    "from sklearn.metrics.pairwise import cosine_similarity\n",
    "def get_cosine_similarity(tfidf_matrix):\n",
    "    #print(tfidf_matrix)\n",
    "    return [cosine_similarity(u.reshape(1,-1), v.reshape(1,-1))[0][0].tolist() for u, v in zip(tfidf_matrix, tfidf_matrix[1:])]"
   ],
   "execution_count": null,
   "outputs": []
  },
  {
   "cell_type": "code",
   "metadata": {
    "id": "Jd0TMEiLw5q_",
    "executionInfo": {
     "status": "aborted",
     "timestamp": 1609314735422,
     "user_tz": 300,
     "elapsed": 628931,
     "user": {
      "displayName": "Theo Dimitrasopoulos",
      "photoUrl": "https://lh3.googleusercontent.com/a-/AOh14GhRNhCMR9OSve5rpYHqQ5AxXHb4FT75fg51p-tfkA=s64",
      "userId": "13959094896036405890"
     }
    }
   },
   "source": [
    "cosine_similarities = {\n",
    "    sentiment_name: get_cosine_similarity(sentiment_values) \n",
    "    for sentiment_name, sentiment_values in sentiment_tfidf.items()}\n",
    "\n",
    "print(len(cosine_similarities['Negative']))"
   ],
   "execution_count": null,
   "outputs": []
  },
  {
   "cell_type": "code",
   "metadata": {
    "id": "LGYuRUyOw5rA",
    "executionInfo": {
     "status": "aborted",
     "timestamp": 1609314735423,
     "user_tz": 300,
     "elapsed": 628926,
     "user": {
      "displayName": "Theo Dimitrasopoulos",
      "photoUrl": "https://lh3.googleusercontent.com/a-/AOh14GhRNhCMR9OSve5rpYHqQ5AxXHb4FT75fg51p-tfkA=s64",
      "userId": "13959094896036405890"
     }
    }
   },
   "source": [
    "for sentiment in lemma_sentiments:\n",
    "    cosine_similarities[sentiment].insert(0, 0)\n",
    "    train_df['cos_sim_' + sentiment] = cosine_similarities[sentiment]\n",
    "train_df"
   ],
   "execution_count": null,
   "outputs": []
  },
  {
   "cell_type": "code",
   "metadata": {
    "id": "TDj4mY8Vw5rC",
    "executionInfo": {
     "status": "aborted",
     "timestamp": 1609314735423,
     "user_tz": 300,
     "elapsed": 628919,
     "user": {
      "displayName": "Theo Dimitrasopoulos",
      "photoUrl": "https://lh3.googleusercontent.com/a-/AOh14GhRNhCMR9OSve5rpYHqQ5AxXHb4FT75fg51p-tfkA=s64",
      "userId": "13959094896036405890"
     }
    }
   },
   "source": [
    "fig, ax = plt.subplots(figsize=(15,6))\n",
    "corr_columns = ['target', 'tone', 'cos_sim_Negative', 'cos_sim_Positive', 'cos_sim_Uncertainty', 'cos_sim_Litigious', 'cos_sim_StrongModal', 'cos_sim_Constraining']\n",
    "sns.heatmap(train_df[corr_columns].astype(float).corr(), cmap=\"YlGnBu\", annot=True, fmt=\".2f\", ax=ax, vmin=0, vmax=1)\n",
    "ax.set_title(\"Correlation of train_df\")\n",
    "plt.show()"
   ],
   "execution_count": null,
   "outputs": []
  },
  {
   "cell_type": "markdown",
   "metadata": {
    "id": "5sM4PZIOw5rD"
   },
   "source": [
    "### Convert target class for classification"
   ]
  },
  {
   "cell_type": "code",
   "metadata": {
    "id": "yB0MEB0Rw5rD",
    "executionInfo": {
     "status": "aborted",
     "timestamp": 1609314735424,
     "user_tz": 300,
     "elapsed": 628914,
     "user": {
      "displayName": "Theo Dimitrasopoulos",
      "photoUrl": "https://lh3.googleusercontent.com/a-/AOh14GhRNhCMR9OSve5rpYHqQ5AxXHb4FT75fg51p-tfkA=s64",
      "userId": "13959094896036405890"
     }
    }
   },
   "source": [
    "def convert_class(x):\n",
    "    if x == 1:\n",
    "        return 2\n",
    "    elif x == 0:\n",
    "        return 1\n",
    "    elif x == -1:\n",
    "        return 0"
   ],
   "execution_count": null,
   "outputs": []
  },
  {
   "cell_type": "code",
   "metadata": {
    "id": "eQtZhuuqw5rE",
    "executionInfo": {
     "status": "aborted",
     "timestamp": 1609314735424,
     "user_tz": 300,
     "elapsed": 628906,
     "user": {
      "displayName": "Theo Dimitrasopoulos",
      "photoUrl": "https://lh3.googleusercontent.com/a-/AOh14GhRNhCMR9OSve5rpYHqQ5AxXHb4FT75fg51p-tfkA=s64",
      "userId": "13959094896036405890"
     }
    }
   },
   "source": [
    "train_df['target'] = train_df['target'].map(convert_class)"
   ],
   "execution_count": null,
   "outputs": []
  },
  {
   "cell_type": "code",
   "metadata": {
    "id": "IUidl33Hw5rG",
    "executionInfo": {
     "status": "aborted",
     "timestamp": 1609314735425,
     "user_tz": 300,
     "elapsed": 628901,
     "user": {
      "displayName": "Theo Dimitrasopoulos",
      "photoUrl": "https://lh3.googleusercontent.com/a-/AOh14GhRNhCMR9OSve5rpYHqQ5AxXHb4FT75fg51p-tfkA=s64",
      "userId": "13959094896036405890"
     }
    }
   },
   "source": [
    "train_df['prev_decision'] = train_df['prev_decision'].map(convert_class)"
   ],
   "execution_count": null,
   "outputs": []
  },
  {
   "cell_type": "markdown",
   "metadata": {
    "id": "6RMKdbH7w5rH"
   },
   "source": [
    "# Modeling and Training\n",
    "## Common Functions"
   ]
  },
  {
   "cell_type": "code",
   "metadata": {
    "id": "OpjJUQFMw5rH",
    "executionInfo": {
     "status": "aborted",
     "timestamp": 1609314735425,
     "user_tz": 300,
     "elapsed": 628895,
     "user": {
      "displayName": "Theo Dimitrasopoulos",
      "photoUrl": "https://lh3.googleusercontent.com/a-/AOh14GhRNhCMR9OSve5rpYHqQ5AxXHb4FT75fg51p-tfkA=s64",
      "userId": "13959094896036405890"
     }
    }
   },
   "source": [
    "kfold = StratifiedKFold(n_splits=3)\n",
    "kfold"
   ],
   "execution_count": null,
   "outputs": []
  },
  {
   "cell_type": "code",
   "metadata": {
    "id": "wEax7Gmow5rJ",
    "executionInfo": {
     "status": "aborted",
     "timestamp": 1609314735425,
     "user_tz": 300,
     "elapsed": 628888,
     "user": {
      "displayName": "Theo Dimitrasopoulos",
      "photoUrl": "https://lh3.googleusercontent.com/a-/AOh14GhRNhCMR9OSve5rpYHqQ5AxXHb4FT75fg51p-tfkA=s64",
      "userId": "13959094896036405890"
     }
    }
   },
   "source": [
    "def metric(y_true, y_pred):\n",
    "    acc = accuracy_score(y_true, y_pred)\n",
    "    f1 = f1_score(y_true, y_pred, average='macro')\n",
    "    return acc, f1\n",
    "\n",
    "scoring = {'Accuracy': 'accuracy', 'F1': 'f1_macro'}\n",
    "refit = 'F1'"
   ],
   "execution_count": null,
   "outputs": []
  },
  {
   "cell_type": "code",
   "metadata": {
    "id": "uCbrSHK3w5rK",
    "executionInfo": {
     "status": "aborted",
     "timestamp": 1609314735426,
     "user_tz": 300,
     "elapsed": 628883,
     "user": {
      "displayName": "Theo Dimitrasopoulos",
      "photoUrl": "https://lh3.googleusercontent.com/a-/AOh14GhRNhCMR9OSve5rpYHqQ5AxXHb4FT75fg51p-tfkA=s64",
      "userId": "13959094896036405890"
     }
    }
   },
   "source": [
    "def train_grid_search(estimator, param_grid, scoring, refit, cv=5, verbose=1, plot=True):\n",
    "    model = GridSearchCV(estimator, param_grid=param_grid, cv=cv, scoring=scoring, verbose=verbose, \n",
    "                         refit=refit, n_jobs=-1, return_train_score=True)\n",
    "    model.fit(X_train, Y_train)\n",
    "    \n",
    "    results = model.cv_results_\n",
    "    best_estimator = model.best_estimator_\n",
    "    train_scores = results['mean_train_' + refit]\n",
    "    test_scores = results['mean_test_' + refit]\n",
    "    train_time = results['mean_fit_time']\n",
    "    \n",
    "    print(\"Best Score: \", model.best_score_)\n",
    "    print(\"Best Param: \", model.best_params_)\n",
    "    \n",
    "    pred_train = best_estimator.predict(X_train)\n",
    "    pred_test = best_estimator.predict(X_test)\n",
    "\n",
    "    acc, f1 = metric(Y_train, pred_train)\n",
    "    logger.info('Training - acc: %.8f, f1: %.8f' % (acc, f1))\n",
    "    acc, f1 = metric(Y_test, pred_test)\n",
    "    logger.info('Test - acc: %.8f, f1: %.8f' % (acc, f1))\n",
    "        \n",
    "    if plot:\n",
    "        fig, (ax1, ax2, ax3) = plt.subplots(1, 3, figsize=(15, 5))\n",
    "        fig.suptitle(\"GridSearchCV Result\", fontsize=20)\n",
    "        ax1.plot(train_scores, test_scores, 'bo')\n",
    "        ax1.set_title(\"Train Score v.s. Test Score\", fontsize=16)\n",
    "        ax1.set_xlabel(\"Train Score\")\n",
    "        ax1.set_ylabel(\"Test Score\")\n",
    "        ax1.set_xlim(0, 1)\n",
    "        ax1.set_ylim(0, 1)\n",
    "        ax1.grid(True)\n",
    "        x_param = list(param_grid.keys())[0]\n",
    "        x_param_min = np.min(list(param_grid.values())[0])\n",
    "        x_param_max = np.max(list(param_grid.values())[0])\n",
    "        ax2.set_title(\"Score over the first param\", fontsize=16)\n",
    "        ax2.set_xlabel(x_param)\n",
    "        ax2.set_ylabel(\"Score\")\n",
    "        ax2.set_xlim(x_param_min, x_param_max)\n",
    "        ax2.set_ylim(0, 1)\n",
    "        X_axis = np.array(results['param_' + x_param].data, dtype=float)\n",
    "        for scorer, color in zip(sorted(scoring), ['r', 'g']):\n",
    "            for sample, style in (('train', '--'), ('test', '-')):\n",
    "                sample_score_mean = results['mean_%s_%s' % (sample, scorer)]\n",
    "                sample_score_std = results['std_%s_%s' % (sample, scorer)]\n",
    "                ax2.fill_between(X_axis, sample_score_mean - sample_score_std,\n",
    "                                sample_score_mean + sample_score_std,\n",
    "                                alpha=0.1 if sample == 'test' else 0, color=color)\n",
    "                ax2.plot(X_axis, sample_score_mean, style, color=color,\n",
    "                        alpha=1 if sample == 'test' else 0.7,\n",
    "                        label=\"%s (%s)\" % (scorer, sample.capitalize()))\n",
    "\n",
    "            best_index = np.nonzero(results['rank_test_%s' % scorer] == 1)[0][0]\n",
    "            best_score = results['mean_test_%s' % scorer][best_index]\n",
    "            ax2.plot([X_axis[best_index], ] * 2, [0, best_score],\n",
    "                    linestyle='-.', color=color, marker='x', markeredgewidth=3, ms=8)\n",
    "            ax2.annotate(\"%0.2f\" % best_score,\n",
    "                        (X_axis[best_index], best_score + 0.005))\n",
    "        ax2.legend(loc=\"best\")\n",
    "        ax2.grid(False)\n",
    "        lc_acc_train_sizes, lc_acc_train_scores, lc_acc_test_scores = learning_curve(\n",
    "            best_estimator, X_train, Y_train, cv=kfold, n_jobs=-1, scoring=scoring['Accuracy'], \n",
    "            train_sizes=np.linspace(.1, 1.0, 5))\n",
    "        lc_acc_train_mean = np.mean(lc_acc_train_scores, axis=1)\n",
    "        lc_acc_train_std = np.std(lc_acc_train_scores, axis=1)\n",
    "        lc_acc_test_mean = np.mean(lc_acc_test_scores, axis=1)\n",
    "        lc_acc_test_std = np.std(lc_acc_test_scores, axis=1)\n",
    "        lc_f1_train_sizes, lc_f1_train_scores, lc_f1_test_scores = learning_curve(\n",
    "            best_estimator, X_train, Y_train, cv=kfold, n_jobs=-1, scoring=scoring['F1'], \n",
    "            train_sizes=np.linspace(.1, 1.0, 5))\n",
    "        lc_f1_train_mean = np.mean(lc_f1_train_scores, axis=1)\n",
    "        lc_f1_train_std = np.std(lc_f1_train_scores, axis=1)\n",
    "        lc_f1_test_mean = np.mean(lc_f1_test_scores, axis=1)\n",
    "        lc_f1_test_std = np.std(lc_f1_test_scores, axis=1)\n",
    "        \n",
    "        ax3.set_title(\"Learning Curve\", fontsize=16)\n",
    "        ax3.set_xlabel(\"Training examples\")\n",
    "        ax3.set_ylabel(\"Score\")\n",
    "        ax3.fill_between(lc_acc_train_sizes, \n",
    "                         lc_acc_train_mean - lc_acc_train_std,\n",
    "                         lc_acc_train_mean + lc_acc_train_std, alpha=0.1, color=\"r\")\n",
    "        ax3.fill_between(lc_acc_train_sizes, \n",
    "                         lc_acc_test_mean - lc_acc_test_std,\n",
    "                         lc_acc_test_mean + lc_acc_test_std, alpha=0.1, color=\"r\")\n",
    "        ax3.plot(lc_acc_train_sizes, lc_acc_train_mean, 'o--', color=\"r\",\n",
    "                 label=\"Accuracy (Train)\")\n",
    "        ax3.plot(lc_acc_train_sizes, lc_acc_test_mean, 'o-', color=\"r\",\n",
    "                 label=\"Accuracy (Test)\")      \n",
    "        ax3.fill_between(lc_f1_train_sizes, \n",
    "                         lc_f1_train_mean - lc_f1_train_std,\n",
    "                         lc_f1_train_mean + lc_f1_train_std, alpha=0.1, color=\"g\")\n",
    "        ax3.fill_between(lc_f1_train_sizes, \n",
    "                         lc_f1_test_mean - lc_f1_test_std,\n",
    "                         lc_f1_test_mean + lc_f1_test_std, alpha=0.1, color=\"g\")\n",
    "        ax3.plot(lc_f1_train_sizes, lc_f1_train_mean, 'o--', color=\"g\",\n",
    "                 label=\"F1 (Train)\")\n",
    "        ax3.plot(lc_f1_train_sizes, lc_f1_test_mean, 'o-', color=\"g\",\n",
    "                 label=\"F1 (Test)\")\n",
    "\n",
    "        ax3.legend(loc=\"best\")\n",
    "        ax3.grid(True)\n",
    "        \n",
    "        plt.tight_layout(pad=3.0)\n",
    "        plt.show()\n",
    "        class_names = ['Lower', 'Hold', 'Raise']\n",
    "        fig, ((ax1, ax2), (ax3, ax4)) = plt.subplots(2, 2, figsize=(15, 10))\n",
    "        fig.suptitle(\"Confusion Matrix\", fontsize=20)\n",
    "        \n",
    "        plot_confusion_matrix(best_estimator, X_train, Y_train, display_labels=class_names, \n",
    "                              cmap=plt.cm.Blues, normalize=None, ax=ax1)\n",
    "        ax1.set_title(\"Train Data: Actual Count\")\n",
    "        ax1.grid(False)\n",
    "        \n",
    "        plot_confusion_matrix(best_estimator, X_train, Y_train, display_labels=class_names, \n",
    "                              cmap=plt.cm.Blues, normalize='all', ax=ax2)\n",
    "        ax2.set_title=(\"Train Data: Normalized\")\n",
    "        ax2.grid(False)\n",
    "        \n",
    "        plot_confusion_matrix(best_estimator, X_test, Y_test, display_labels=class_names, \n",
    "                              cmap=plt.cm.Blues, normalize=None, ax=ax3)\n",
    "        ax3.set_title=(\"Test Data: Actual Count\")\n",
    "        ax3.grid(False)\n",
    "        \n",
    "        plot_confusion_matrix(best_estimator, X_test, Y_test, display_labels=class_names, \n",
    "                              cmap=plt.cm.Blues, normalize='all', ax=ax4)\n",
    "        ax4.set_title(\"Test Data: Normalized\")\n",
    "        ax4.grid(False)\n",
    "        \n",
    "        plt.tight_layout(pad=3.0)\n",
    "        plt.show()\n",
    "    \n",
    "    return model\n"
   ],
   "execution_count": null,
   "outputs": []
  },
  {
   "cell_type": "markdown",
   "metadata": {
    "id": "Xf8PfNh-w5rM"
   },
   "source": [
    "## A. Cosin Similarity\n",
    "### Train and Test Data"
   ]
  },
  {
   "cell_type": "code",
   "metadata": {
    "id": "28V2R9zPw5rM",
    "executionInfo": {
     "status": "aborted",
     "timestamp": 1609314735426,
     "user_tz": 300,
     "elapsed": 628877,
     "user": {
      "displayName": "Theo Dimitrasopoulos",
      "photoUrl": "https://lh3.googleusercontent.com/a-/AOh14GhRNhCMR9OSve5rpYHqQ5AxXHb4FT75fg51p-tfkA=s64",
      "userId": "13959094896036405890"
     }
    }
   },
   "source": [
    "train_df.columns"
   ],
   "execution_count": null,
   "outputs": []
  },
  {
   "cell_type": "code",
   "metadata": {
    "id": "YvPDh80mw5rN",
    "executionInfo": {
     "status": "aborted",
     "timestamp": 1609314735427,
     "user_tz": 300,
     "elapsed": 628872,
     "user": {
      "displayName": "Theo Dimitrasopoulos",
      "photoUrl": "https://lh3.googleusercontent.com/a-/AOh14GhRNhCMR9OSve5rpYHqQ5AxXHb4FT75fg51p-tfkA=s64",
      "userId": "13959094896036405890"
     }
    }
   },
   "source": [
    "Y_data = train_df['target']\n",
    "X_data = train_df[nontext_columns + ['tone', 'cos_sim_Negative', 'cos_sim_Positive', 'cos_sim_Uncertainty', \n",
    "                                     'cos_sim_Litigious', 'cos_sim_StrongModal', 'cos_sim_Constraining']]\n",
    "\n",
    "X_train, X_test, Y_train, Y_test = \\\n",
    "model_selection.train_test_split(X_data.values, Y_data.values, test_size=0.2, shuffle=True)"
   ],
   "execution_count": null,
   "outputs": []
  },
  {
   "cell_type": "markdown",
   "metadata": {
    "id": "V6jURx7Zw5rP"
   },
   "source": [
    "### Train"
   ]
  },
  {
   "cell_type": "code",
   "metadata": {
    "id": "cfnARPgUw5rP",
    "executionInfo": {
     "status": "aborted",
     "timestamp": 1609314735427,
     "user_tz": 300,
     "elapsed": 628866,
     "user": {
      "displayName": "Theo Dimitrasopoulos",
      "photoUrl": "https://lh3.googleusercontent.com/a-/AOh14GhRNhCMR9OSve5rpYHqQ5AxXHb4FT75fg51p-tfkA=s64",
      "userId": "13959094896036405890"
     }
    }
   },
   "source": [
    "rf_clf = RandomForestClassifier()\n",
    "param_grid = {'n_estimators': np.linspace(1, 60, 10, dtype=int),\n",
    "              'min_samples_split': [3, 10],\n",
    "              'min_samples_leaf': [3],\n",
    "              'max_features': [7],\n",
    "              'max_depth': [None],\n",
    "              'criterion': ['gini'],\n",
    "              'bootstrap': [False]}\n",
    "\n",
    "rf_model = train_grid_search(rf_clf, param_grid, scoring, refit, cv=kfold, verbose=1, plot=True)\n",
    "rf_best = rf_model.best_estimator_"
   ],
   "execution_count": null,
   "outputs": []
  },
  {
   "cell_type": "code",
   "metadata": {
    "id": "73NGZT2lw5rQ",
    "executionInfo": {
     "status": "aborted",
     "timestamp": 1609314735428,
     "user_tz": 300,
     "elapsed": 628861,
     "user": {
      "displayName": "Theo Dimitrasopoulos",
      "photoUrl": "https://lh3.googleusercontent.com/a-/AOh14GhRNhCMR9OSve5rpYHqQ5AxXHb4FT75fg51p-tfkA=s64",
      "userId": "13959094896036405890"
     }
    }
   },
   "source": [
    "fig, ax = plt.subplots(figsize=(10,8))\n",
    "indices = np.argsort(rf_best.feature_importances_)[::-1][:40]\n",
    "g = sns.barplot(y=X_data.columns[indices][:40], x=rf_best.feature_importances_[indices][:40] , orient='h', ax=ax)\n",
    "g.set_xlabel(\"Relative importance\", fontsize=12)\n",
    "g.set_ylabel(\"Features\", fontsize=12)\n",
    "g.tick_params(labelsize=9)\n",
    "g.set_title(\"Feature importance\")"
   ],
   "execution_count": null,
   "outputs": []
  },
  {
   "cell_type": "markdown",
   "metadata": {
    "id": "772Gc8grw5rR"
   },
   "source": [
    "## B. Tfidf"
   ]
  },
  {
   "cell_type": "code",
   "metadata": {
    "id": "HXfYvp2kw5rR",
    "executionInfo": {
     "status": "aborted",
     "timestamp": 1609314735428,
     "user_tz": 300,
     "elapsed": 628854,
     "user": {
      "displayName": "Theo Dimitrasopoulos",
      "photoUrl": "https://lh3.googleusercontent.com/a-/AOh14GhRNhCMR9OSve5rpYHqQ5AxXHb4FT75fg51p-tfkA=s64",
      "userId": "13959094896036405890"
     }
    }
   },
   "source": [
    "train_df"
   ],
   "execution_count": null,
   "outputs": []
  },
  {
   "cell_type": "code",
   "metadata": {
    "id": "tRlesG0Pw5rS",
    "executionInfo": {
     "status": "aborted",
     "timestamp": 1609314735429,
     "user_tz": 300,
     "elapsed": 628849,
     "user": {
      "displayName": "Theo Dimitrasopoulos",
      "photoUrl": "https://lh3.googleusercontent.com/a-/AOh14GhRNhCMR9OSve5rpYHqQ5AxXHb4FT75fg51p-tfkA=s64",
      "userId": "13959094896036405890"
     }
    }
   },
   "source": [
    "vocabulary=sentiment_dict['Negative']+sentiment_dict['Positive']"
   ],
   "execution_count": null,
   "outputs": []
  },
  {
   "cell_type": "code",
   "metadata": {
    "id": "Ud6S-q_0w5rU",
    "executionInfo": {
     "status": "aborted",
     "timestamp": 1609314735429,
     "user_tz": 300,
     "elapsed": 628843,
     "user": {
      "displayName": "Theo Dimitrasopoulos",
      "photoUrl": "https://lh3.googleusercontent.com/a-/AOh14GhRNhCMR9OSve5rpYHqQ5AxXHb4FT75fg51p-tfkA=s64",
      "userId": "13959094896036405890"
     }
    }
   },
   "source": [
    "Y_data = train_df['target']\n",
    "X_data = train_df[nontext_columns + ['tone', 'tokenized_text']]\n",
    "X_train, X_test, Y_train, Y_test = \\\n",
    "model_selection.train_test_split(X_data.values, Y_data.values, test_size=0.2, shuffle=True)"
   ],
   "execution_count": null,
   "outputs": []
  },
  {
   "cell_type": "code",
   "metadata": {
    "id": "pENRBVkYw5rV",
    "executionInfo": {
     "status": "aborted",
     "timestamp": 1609314735429,
     "user_tz": 300,
     "elapsed": 628837,
     "user": {
      "displayName": "Theo Dimitrasopoulos",
      "photoUrl": "https://lh3.googleusercontent.com/a-/AOh14GhRNhCMR9OSve5rpYHqQ5AxXHb4FT75fg51p-tfkA=s64",
      "userId": "13959094896036405890"
     }
    }
   },
   "source": [
    "import scipy\n",
    "def get_numeric_data(x):\n",
    "    return [record[:-2].astype(float) for record in x]\n",
    "\n",
    "def get_text_data(x):\n",
    "    return [record[-1] for record in x]\n",
    "\n",
    "from sklearn.preprocessing import FunctionTransformer\n",
    "transfomer_numeric = FunctionTransformer(get_numeric_data)\n",
    "transformer_text = FunctionTransformer(get_text_data)\n",
    "\n",
    "clf = Pipeline([\n",
    "    ('features', FeatureUnion([\n",
    "            ('numeric_features', Pipeline([\n",
    "                ('selector', transfomer_numeric)\n",
    "            ])),\n",
    "             ('text_features', Pipeline([\n",
    "                ('selector', transformer_text),\n",
    "                ('vec', TfidfVectorizer(analyzer='word', vocabulary=vocabulary))\n",
    "            ]))\n",
    "         ])),\n",
    "    ('clf', RandomForestClassifier())\n",
    "])"
   ],
   "execution_count": null,
   "outputs": []
  },
  {
   "cell_type": "code",
   "metadata": {
    "id": "G56hxBXew5rW",
    "executionInfo": {
     "status": "aborted",
     "timestamp": 1609314735430,
     "user_tz": 300,
     "elapsed": 628832,
     "user": {
      "displayName": "Theo Dimitrasopoulos",
      "photoUrl": "https://lh3.googleusercontent.com/a-/AOh14GhRNhCMR9OSve5rpYHqQ5AxXHb4FT75fg51p-tfkA=s64",
      "userId": "13959094896036405890"
     }
    }
   },
   "source": [
    "pipeline = Pipeline([\n",
    "    ('features', FeatureUnion([\n",
    "            ('numeric_features', Pipeline([\n",
    "                ('selector', transfomer_numeric)\n",
    "            ])),\n",
    "             ('text_features', Pipeline([\n",
    "                ('selector', transformer_text),\n",
    "                ('vec', TfidfVectorizer(analyzer='word'))\n",
    "            ]))\n",
    "         ])),\n",
    "    ('clf', RandomForestClassifier())\n",
    "])\n",
    "\n",
    "param_grid = {'clf__n_estimators': np.linspace(1, 60, 10, dtype=int),\n",
    "              'clf__min_samples_split': [3, 10],\n",
    "              'clf__min_samples_leaf': [3],\n",
    "              'clf__max_features': [7],\n",
    "              'clf__max_depth': [None],\n",
    "              'clf__criterion': ['gini'],\n",
    "              'clf__bootstrap': [False]}\n",
    "rf_model = train_grid_search(pipeline, param_grid, scoring, refit, cv=kfold, verbose=1, plot=True)\n",
    "rf_best = rf_model.best_estimator_"
   ],
   "execution_count": null,
   "outputs": []
  },
  {
   "cell_type": "markdown",
   "metadata": {
    "id": "RhUkUbGsw5rX"
   },
   "source": [
    "## C. LSTM (RNN)\n",
    "Instead of Tfidf, use LSTM. Concatinate the lstm output and the meta data at the end and dense layer to fully connect them."
   ]
  },
  {
   "cell_type": "markdown",
   "metadata": {
    "id": "hum1XzT0w5rX"
   },
   "source": [
    "### Input Data"
   ]
  },
  {
   "cell_type": "code",
   "metadata": {
    "id": "dPi1bAgYw5rX",
    "executionInfo": {
     "status": "aborted",
     "timestamp": 1609314735430,
     "user_tz": 300,
     "elapsed": 628824,
     "user": {
      "displayName": "Theo Dimitrasopoulos",
      "photoUrl": "https://lh3.googleusercontent.com/a-/AOh14GhRNhCMR9OSve5rpYHqQ5AxXHb4FT75fg51p-tfkA=s64",
      "userId": "13959094896036405890"
     }
    }
   },
   "source": [
    "y_data = train_df['target']\n",
    "X_data = train_df[nontext_columns + ['tone', 'token_ids']]\n",
    "\n",
    "X_train, X_valid, y_train, y_valid = \\\n",
    "model_selection.train_test_split(X_data.values, y_data.values, test_size=0.2, shuffle=True)\n",
    "\n",
    "X_train_meta = get_numeric_data(X_train)\n",
    "X_train_text = get_text_data(X_train)\n",
    "X_valid_meta = get_numeric_data(X_valid)\n",
    "X_valid_text = get_text_data(X_valid)\n",
    "\n",
    "print('Shape of train meta', len(X_train_meta))\n",
    "print('Shape of train text', len(X_train_text))\n",
    "print(\"Shape of valid meta \", len(X_valid_meta))\n",
    "print(\"Shape of valid text \", len(X_valid_text))\n",
    "\n",
    "meta_size = len(X_train_meta[0])\n",
    "print(\"Meta data size: \", meta_size)"
   ],
   "execution_count": null,
   "outputs": []
  },
  {
   "cell_type": "markdown",
   "metadata": {
    "id": "s8XdisC5w5rY"
   },
   "source": [
    "### Model\n",
    "#### Embed -> RNN -> Dense -> Softmax"
   ]
  },
  {
   "cell_type": "code",
   "metadata": {
    "id": "JKwTVfCcw5ra",
    "executionInfo": {
     "status": "aborted",
     "timestamp": 1609314735430,
     "user_tz": 300,
     "elapsed": 628818,
     "user": {
      "displayName": "Theo Dimitrasopoulos",
      "photoUrl": "https://lh3.googleusercontent.com/a-/AOh14GhRNhCMR9OSve5rpYHqQ5AxXHb4FT75fg51p-tfkA=s64",
      "userId": "13959094896036405890"
     }
    }
   },
   "source": [
    "class TextClassifier(nn.Module):\n",
    "    def __init__(self, vocab_size, embed_size, lstm_size, dense_size, meta_size, output_size, lstm_layers=1, dropout=0.1):\n",
    "        super().__init__()\n",
    "        self.vocab_size = vocab_size\n",
    "        self.embed_size = embed_size\n",
    "        self.lstm_size = lstm_size\n",
    "        self.output_size = output_size\n",
    "        self.lstm_layers = lstm_layers\n",
    "        self.dropout = dropout\n",
    "\n",
    "        self.embedding = nn.Embedding(vocab_size, embed_size)\n",
    "        self.lstm = nn.LSTM(embed_size, lstm_size, lstm_layers, dropout=dropout, batch_first=False)\n",
    "        self.dropout = nn.Dropout(0.2)\n",
    "        self.fc1 = nn.Linear(lstm_size, dense_size)\n",
    "        self.fc2 = nn.Linear(dense_size + meta_size, output_size)\n",
    "        self.softmax = nn.LogSoftmax(dim=1)\n",
    "\n",
    "    def init_hidden(self, batch_size):\n",
    "        weight = next(self.parameters()).data\n",
    "        # print('initial weight size: ', weight.shape)\n",
    "        # print('initial weight: ', weight)\n",
    "        # print('initial weight new: ', weight.new(self.lstm_layers, batch_size, self.lstm_size))\n",
    "\n",
    "        hidden = (weight.new(self.lstm_layers, batch_size, self.lstm_size).zero_(),\n",
    "                  weight.new(self.lstm_layers, batch_size, self.lstm_size).zero_())\n",
    "        \n",
    "        return hidden\n",
    "\n",
    "    def forward(self, nn_input_text, nn_input_meta, hidden_state):\n",
    "        batch_size = nn_input_text.size(0)\n",
    "        nn_input_text = nn_input_text.long()\n",
    "        embeds = self.embedding(nn_input_text)\n",
    "        lstm_out, hidden_state = self.lstm(embeds, hidden_state)\n",
    "        lstm_out = lstm_out[-1,:,:]\n",
    "        lstm_out = self.dropout(lstm_out)\n",
    "        dense_out = self.fc1(lstm_out)\n",
    "        concat_layer = torch.cat((dense_out, nn_input_meta.float()), 1)\n",
    "        out = self.fc2(concat_layer)\n",
    "        logps = self.softmax(out)\n",
    "        return logps, hidden_state"
   ],
   "execution_count": null,
   "outputs": []
  },
  {
   "cell_type": "markdown",
   "metadata": {
    "id": "QPYvhIfQw5rb"
   },
   "source": [
    "### DataLoaders and Batching"
   ]
  },
  {
   "cell_type": "code",
   "metadata": {
    "id": "ouxBzJZow5rb",
    "executionInfo": {
     "status": "aborted",
     "timestamp": 1609314735431,
     "user_tz": 300,
     "elapsed": 628814,
     "user": {
      "displayName": "Theo Dimitrasopoulos",
      "photoUrl": "https://lh3.googleusercontent.com/a-/AOh14GhRNhCMR9OSve5rpYHqQ5AxXHb4FT75fg51p-tfkA=s64",
      "userId": "13959094896036405890"
     }
    }
   },
   "source": [
    "# from keras.preprocessing.text import Tokenizer\n",
    "# from keras.preprocessing.sequence import pad_sequences\n",
    "\n",
    "# MAX_LEN = 100\n",
    "# tokenizer_obj = Tokenizer()\n",
    "# tokenizer_obj.fit_on_texts(balanced['texts'])\n",
    "# sequences = tokenizer_obj.texts_to_sequences(balanced['texts'])\n",
    "\n",
    "# text_pad = pad_sequences(sequences, maxlen=MAX_LEN, truncating='post', padding='post')\n",
    "# text_pad"
   ],
   "execution_count": null,
   "outputs": []
  },
  {
   "cell_type": "code",
   "metadata": {
    "id": "wJHzJRWUw5rc",
    "executionInfo": {
     "status": "aborted",
     "timestamp": 1609314735437,
     "user_tz": 300,
     "elapsed": 628814,
     "user": {
      "displayName": "Theo Dimitrasopoulos",
      "photoUrl": "https://lh3.googleusercontent.com/a-/AOh14GhRNhCMR9OSve5rpYHqQ5AxXHb4FT75fg51p-tfkA=s64",
      "userId": "13959094896036405890"
     }
    }
   },
   "source": [
    "def dataloader(messages, meta, labels, sequence_length=200, batch_size=16, shuffle=False):\n",
    "    if shuffle:\n",
    "        indices = list(range(len(messages)))\n",
    "        random.shuffle(indices)\n",
    "        messages = [messages[idx] for idx in indices]\n",
    "        meta = [meta[idx] for idx in indices]\n",
    "        labels = [labels[idx] for idx in indices]\n",
    "\n",
    "    total_sequences = len(messages)\n",
    "\n",
    "    for ii in range(0, total_sequences, batch_size):\n",
    "        batch_messages = messages[ii: ii+batch_size]\n",
    "        batch = torch.zeros((sequence_length, len(batch_messages)), dtype=torch.int64)\n",
    "        for batch_num, tokens in enumerate(batch_messages):\n",
    "            token_tensor = torch.tensor(tokens)\n",
    "            # print(len(tokens))\n",
    "            # print(len(tokens[0]))\n",
    "            # print(token_tensor.shape)\n",
    "            start_idx = max(sequence_length - len(token_tensor), 0)\n",
    "            # print(token_tensor[:sequence_length].shape)\n",
    "            # print(start_idx, batch_num)\n",
    "            batch[start_idx:, batch_num] = token_tensor[:sequence_length]\n",
    "        label_tensor = torch.tensor(labels[ii: ii+len(batch_messages)])\n",
    "        meta_tensor = torch.tensor(meta[ii: ii+len(batch_messages)])\n",
    "        \n",
    "        yield batch, meta_tensor, label_tensor"
   ],
   "execution_count": null,
   "outputs": []
  },
  {
   "cell_type": "code",
   "metadata": {
    "id": "BlqJpokyw5re",
    "executionInfo": {
     "status": "aborted",
     "timestamp": 1609314735437,
     "user_tz": 300,
     "elapsed": 628808,
     "user": {
      "displayName": "Theo Dimitrasopoulos",
      "photoUrl": "https://lh3.googleusercontent.com/a-/AOh14GhRNhCMR9OSve5rpYHqQ5AxXHb4FT75fg51p-tfkA=s64",
      "userId": "13959094896036405890"
     }
    }
   },
   "source": [
    "text_batch, meta_batch, labels = next(iter(dataloader(X_train_text, X_train_meta, y_train)))\n",
    "model = TextClassifier(len(vocab), 512, 128, 8, meta_size, 3)\n",
    "hidden = model.init_hidden(16)\n",
    "logps, hidden = model.forward(text_batch, meta_batch, hidden)\n",
    "print(logps)"
   ],
   "execution_count": null,
   "outputs": []
  },
  {
   "cell_type": "markdown",
   "metadata": {
    "id": "adhXylejw5rf"
   },
   "source": [
    "### Configure the model and train!"
   ]
  },
  {
   "cell_type": "code",
   "metadata": {
    "id": "WjRn-zjKw5rf",
    "executionInfo": {
     "status": "aborted",
     "timestamp": 1609314735438,
     "user_tz": 300,
     "elapsed": 628803,
     "user": {
      "displayName": "Theo Dimitrasopoulos",
      "photoUrl": "https://lh3.googleusercontent.com/a-/AOh14GhRNhCMR9OSve5rpYHqQ5AxXHb4FT75fg51p-tfkA=s64",
      "userId": "13959094896036405890"
     }
    }
   },
   "source": [
    "device = torch.device('cuda' if torch.cuda.is_available() else 'cpu')\n",
    "model = TextClassifier(len(vocab)+1, 512, 128, 8, meta_size, 3, lstm_layers=2, dropout=0.2)\n",
    "model.embedding.weight.data.uniform_(-1, 1)\n",
    "model.to(device)"
   ],
   "execution_count": null,
   "outputs": []
  },
  {
   "cell_type": "code",
   "metadata": {
    "id": "BBQuGZuKw5rg",
    "executionInfo": {
     "status": "aborted",
     "timestamp": 1609314735438,
     "user_tz": 300,
     "elapsed": 628797,
     "user": {
      "displayName": "Theo Dimitrasopoulos",
      "photoUrl": "https://lh3.googleusercontent.com/a-/AOh14GhRNhCMR9OSve5rpYHqQ5AxXHb4FT75fg51p-tfkA=s64",
      "userId": "13959094896036405890"
     }
    }
   },
   "source": [
    "def train_model(model, epochs=3, batch_size=8, learning_rate=1e-4, sequence_length=200, clip=5, print_every=10):\n",
    "    criterion = nn.NLLLoss()\n",
    "    optimizer = optim.Adam(model.parameters(), lr=learning_rate)\n",
    "    model.train()\n",
    "\n",
    "    for epoch in range(epochs):\n",
    "        print('Starting epoch {}'.format(epoch + 1))\n",
    "        hidden = model.init_hidden(batch_size)\n",
    "        steps = 0\n",
    "        y_valid_epoch = []\n",
    "        predicted_valid_epoch = []\n",
    "\n",
    "        for text_batch, meta_batch, labels in dataloader(\n",
    "                X_train_text, X_train_meta, y_train, batch_size=batch_size, sequence_length=sequence_length, shuffle=False):\n",
    "            steps += 1\n",
    "            if text_batch.size(1) != batch_size:\n",
    "                break\n",
    "\n",
    "            hidden = tuple([each.data for each in hidden])\n",
    "        \n",
    "            text_batch, meta_batch, labels = text_batch.to(device), meta_batch.to(device), labels.to(device)\n",
    "            for each in hidden:\n",
    "                each.to(device)\n",
    "        \n",
    "            # optimizer.zero_grad()\n",
    "            model.zero_grad()\n",
    "        \n",
    "            output, hidden = model(text_batch, meta_batch, hidden)\n",
    "\n",
    "            loss = criterion(output, labels)\n",
    "            loss.backward()\n",
    "\n",
    "            nn.utils.clip_grad_norm_(model.parameters(), clip)\n",
    "\n",
    "            optimizer.step()\n",
    "\n",
    "            if steps % print_every == 0:\n",
    "                model.eval()\n",
    "\n",
    "                valid_losses = []\n",
    "                accuracy = []\n",
    "                predicted_valid = []\n",
    "                y_valid_batch = []\n",
    "                valid_hidden = model.init_hidden(batch_size)\n",
    "\n",
    "                for text_batch, meta_batch, labels in dataloader(\n",
    "                        X_valid_text, X_valid_meta, y_valid, batch_size=batch_size, sequence_length=sequence_length, shuffle=False):\n",
    "\n",
    "                    if text_batch.size(1) != batch_size:\n",
    "                        break\n",
    "\n",
    "                    # valid_hidden = model.init_hidden(labels.shape[0])\n",
    "                    valid_hidden = tuple([each.data for each in valid_hidden])\n",
    "\n",
    "                    text_batch, meta_batch, labels = text_batch.to(device), meta_batch.to(device), labels.to(device)\n",
    "                    for each in valid_hidden:\n",
    "                        each.to(device)\n",
    "\n",
    "                    valid_output, valid_hidden = model(text_batch, meta_batch, valid_hidden)\n",
    "\n",
    "                    valid_loss = criterion(valid_output.squeeze(), labels)\n",
    "                    valid_losses.append(valid_loss.item())\n",
    "\n",
    "                    ps = torch.exp(valid_output)\n",
    "                    top_p, top_class = ps.topk(1, dim=1)\n",
    "                    equals = top_class == labels.view(*top_class.shape)\n",
    "                    accuracy.append(torch.mean(equals.type(torch.FloatTensor)).item())\n",
    "\n",
    "                    predicted_valid.extend(top_class.squeeze().cpu().numpy())\n",
    "                    y_valid_batch.extend(labels.view(*top_class.shape).squeeze().cpu().numpy())\n",
    "\n",
    "                model.train()\n",
    "                acc, f1 = metric(y_valid_batch, predicted_valid)\n",
    "                predicted_valid_epoch.extend(predicted_valid)\n",
    "                y_valid_epoch.extend(y_valid_batch)\n",
    "\n",
    "                print(\"Epoch: {}/{}...\".format(epoch+1, epochs),\n",
    "                      \"Step: {}...\".format(steps),\n",
    "                      \"Loss: {:.6f}...\".format(loss.item()),\n",
    "                      \"Val Loss: {:.6f}\".format(np.mean(valid_losses)),\n",
    "                      \"Accuracy: {:.6f}\".format(acc),\n",
    "                      \"F1 Score: {:.6f}\".format(f1))\n",
    "        print(\"{} steps in epoch {}\".format(steps, epoch+1))\n",
    "        class_names = ['Lower', 'Hold', 'Raise']\n",
    "        y_valid_class = [class_names[int(idx)] for idx in y_valid_batch]\n",
    "        predicted_valid_class = [class_names[int(idx)] for idx in predicted_valid]\n",
    "        titles_options = [(\"Confusion matrix, without normalization\", None), (\"Confusion matrix, with normalization\", 'true')]\n",
    "        for title, normalize in titles_options:\n",
    "            disp = skplt.metrics.plot_confusion_matrix(y_valid_class, predicted_valid_class, normalize=normalize, title=title)\n",
    "        acc, f1 = metric(y_valid_class, predicted_valid_class)\n",
    "        print(\"\\nEpoch: %d, Average Accuracy: %.8f, Average f1: %.8f\\n\" % (epoch+1, acc, f1))\n",
    "        plt.show()"
   ],
   "execution_count": null,
   "outputs": []
  },
  {
   "cell_type": "code",
   "metadata": {
    "id": "p3stQsZdw5rh",
    "scrolled": false,
    "executionInfo": {
     "status": "aborted",
     "timestamp": 1609314735439,
     "user_tz": 300,
     "elapsed": 628792,
     "user": {
      "displayName": "Theo Dimitrasopoulos",
      "photoUrl": "https://lh3.googleusercontent.com/a-/AOh14GhRNhCMR9OSve5rpYHqQ5AxXHb4FT75fg51p-tfkA=s64",
      "userId": "13959094896036405890"
     }
    }
   },
   "source": [
    "train_model(model)"
   ],
   "execution_count": null,
   "outputs": []
  },
  {
   "cell_type": "markdown",
   "metadata": {
    "id": "ijAMPqXcw5ri"
   },
   "source": [
    "## D. Glove Word Embedding + LSTM"
   ]
  },
  {
   "cell_type": "code",
   "metadata": {
    "id": "W0t79Uhrw5ri",
    "executionInfo": {
     "status": "aborted",
     "timestamp": 1609314735587,
     "user_tz": 300,
     "elapsed": 628934,
     "user": {
      "displayName": "Theo Dimitrasopoulos",
      "photoUrl": "https://lh3.googleusercontent.com/a-/AOh14GhRNhCMR9OSve5rpYHqQ5AxXHb4FT75fg51p-tfkA=s64",
      "userId": "13959094896036405890"
     }
    }
   },
   "source": [
    "glove_file = 'glove.6B.300d.pickle'\n",
    "glove_path = glove_dir + glove_file\n",
    "embedding_dict = {}\n",
    "with open(\"/content/drive/My Drive/Colab Notebooks/proj2/src/data/GloVe/glove.6B.300d.txt\", 'r') as f:\n",
    "  for line in f:\n",
    "    values = line.split()\n",
    "    word = values[0]\n",
    "    vectors = np.asarray(values[1:], 'float32')\n",
    "    embedding_dict[word] = vectors\n",
    "f.close()\n",
    "pickle.dump(embedding_dict, open(glove_path, 'wb'))"
   ],
   "execution_count": null,
   "outputs": []
  },
  {
   "cell_type": "code",
   "metadata": {
    "id": "aOr-yBBvw5rk",
    "scrolled": true,
    "executionInfo": {
     "status": "aborted",
     "timestamp": 1609314735588,
     "user_tz": 300,
     "elapsed": 628929,
     "user": {
      "displayName": "Theo Dimitrasopoulos",
      "photoUrl": "https://lh3.googleusercontent.com/a-/AOh14GhRNhCMR9OSve5rpYHqQ5AxXHb4FT75fg51p-tfkA=s64",
      "userId": "13959094896036405890"
     }
    }
   },
   "source": [
    "glove_dict = pickle.load(open(glove_path, 'rb'))\n",
    "print(len(glove_dict))\n",
    "glove_dict['the']"
   ],
   "execution_count": null,
   "outputs": []
  },
  {
   "cell_type": "code",
   "metadata": {
    "id": "Z3Xt5fehw5rl",
    "executionInfo": {
     "status": "aborted",
     "timestamp": 1609314735588,
     "user_tz": 300,
     "elapsed": 628923,
     "user": {
      "displayName": "Theo Dimitrasopoulos",
      "photoUrl": "https://lh3.googleusercontent.com/a-/AOh14GhRNhCMR9OSve5rpYHqQ5AxXHb4FT75fg51p-tfkA=s64",
      "userId": "13959094896036405890"
     }
    }
   },
   "source": [
    "weight_matrix = np.zeros((len(vocab), 300))\n",
    "words_found = 0\n",
    "\n",
    "for i, word in enumerate(vocab):\n",
    "    try:\n",
    "        weight_matrix[i] = glove_dict[word]\n",
    "        words_found += 1\n",
    "    except KeyError:\n",
    "        weight_matrix[i] = np.random.normal(scale=0.6, size=(300,))\n",
    "\n",
    "print('{} words found out of {} words in vocab.'.format(words_found, len(vocab)))\n",
    "print(weight_matrix.shape)"
   ],
   "execution_count": null,
   "outputs": []
  },
  {
   "cell_type": "code",
   "metadata": {
    "id": "QxHMnQyAw5rm",
    "executionInfo": {
     "status": "aborted",
     "timestamp": 1609314735588,
     "user_tz": 300,
     "elapsed": 628917,
     "user": {
      "displayName": "Theo Dimitrasopoulos",
      "photoUrl": "https://lh3.googleusercontent.com/a-/AOh14GhRNhCMR9OSve5rpYHqQ5AxXHb4FT75fg51p-tfkA=s64",
      "userId": "13959094896036405890"
     }
    }
   },
   "source": [
    "type(weight_matrix)"
   ],
   "execution_count": null,
   "outputs": []
  },
  {
   "cell_type": "code",
   "metadata": {
    "id": "O5_TAcJDw5rn",
    "executionInfo": {
     "status": "aborted",
     "timestamp": 1609314735589,
     "user_tz": 300,
     "elapsed": 628912,
     "user": {
      "displayName": "Theo Dimitrasopoulos",
      "photoUrl": "https://lh3.googleusercontent.com/a-/AOh14GhRNhCMR9OSve5rpYHqQ5AxXHb4FT75fg51p-tfkA=s64",
      "userId": "13959094896036405890"
     }
    }
   },
   "source": [
    "class GloveTextClassifier(nn.Module):\n",
    "    def __init__(self, weight_matrix, lstm_size, dense_size, meta_size, output_size, lstm_layers=1, dropout=0.1):\n",
    "        super().__init__()\n",
    "        vocab_size, embed_size = weight_matrix.shape\n",
    "        self.lstm_size = lstm_size\n",
    "        self.output_size = output_size\n",
    "        self.lstm_layers = lstm_layers\n",
    "        self.dropout = dropout\n",
    "\n",
    "        self.embedding = nn.Embedding(vocab_size, embed_size)\n",
    "        self.embedding.load_state_dict({'weight': torch.tensor(weight_matrix)})\n",
    "        self.embedding.weight.requires_grad = False\n",
    "        self.lstm = nn.LSTM(embed_size, lstm_size, lstm_layers, dropout=dropout, batch_first=False)\n",
    "        self.dropout = nn.Dropout(0.2)\n",
    "        self.fc1 = nn.Linear(lstm_size, dense_size)\n",
    "        self.fc2 = nn.Linear(dense_size + meta_size, output_size)\n",
    "        self.softmax = nn.LogSoftmax(dim=1)\n",
    "        \n",
    "    def init_hidden(self, batch_size):\n",
    "        weight = next(self.parameters()).data\n",
    "        hidden = (weight.new(self.lstm_layers, batch_size, self.lstm_size).zero_(),\n",
    "                  weight.new(self.lstm_layers, batch_size, self.lstm_size).zero_())\n",
    "        \n",
    "        return hidden\n",
    "\n",
    "    def forward(self, nn_input_text, nn_input_meta, hidden_state):\n",
    "        batch_size = nn_input_text.size(0)\n",
    "        nn_input_text = nn_input_text.long()\n",
    "        embeds = self.embedding(nn_input_text)\n",
    "        lstm_out, hidden_state = self.lstm(embeds, hidden_state)\n",
    "        lstm_out = lstm_out[-1,:,:]\n",
    "        lstm_out = self.dropout(lstm_out)\n",
    "        dense_out = self.fc1(lstm_out)\n",
    "        concat_layer = torch.cat((dense_out, nn_input_meta.float()), 1)\n",
    "        out = self.fc2(concat_layer)\n",
    "        logps = self.softmax(out)\n",
    "\n",
    "        return logps, hidden_state"
   ],
   "execution_count": null,
   "outputs": []
  },
  {
   "cell_type": "markdown",
   "metadata": {
    "id": "sp5s594vw5rq"
   },
   "source": [
    "### Configure/Train Model"
   ]
  },
  {
   "cell_type": "code",
   "metadata": {
    "id": "0chGQdVpw5rq",
    "executionInfo": {
     "status": "aborted",
     "timestamp": 1609314735589,
     "user_tz": 300,
     "elapsed": 628906,
     "user": {
      "displayName": "Theo Dimitrasopoulos",
      "photoUrl": "https://lh3.googleusercontent.com/a-/AOh14GhRNhCMR9OSve5rpYHqQ5AxXHb4FT75fg51p-tfkA=s64",
      "userId": "13959094896036405890"
     }
    }
   },
   "source": [
    "device = torch.device('cuda' if torch.cuda.is_available() else 'cpu')\n",
    "model = GloveTextClassifier(weight_matrix, 128, 8, meta_size, 3, lstm_layers=2, dropout=0.2)\n",
    "model.to(device)"
   ],
   "execution_count": null,
   "outputs": []
  },
  {
   "cell_type": "code",
   "metadata": {
    "id": "fQ9H-nrqw5rr",
    "scrolled": false,
    "executionInfo": {
     "status": "aborted",
     "timestamp": 1609314735589,
     "user_tz": 300,
     "elapsed": 628900,
     "user": {
      "displayName": "Theo Dimitrasopoulos",
      "photoUrl": "https://lh3.googleusercontent.com/a-/AOh14GhRNhCMR9OSve5rpYHqQ5AxXHb4FT75fg51p-tfkA=s64",
      "userId": "13959094896036405890"
     }
    }
   },
   "source": [
    "train_model(model)"
   ],
   "execution_count": null,
   "outputs": []
  },
  {
   "cell_type": "code",
   "metadata": {
    "id": "Ov5FWnndw5ru",
    "executionInfo": {
     "status": "aborted",
     "timestamp": 1609314735590,
     "user_tz": 300,
     "elapsed": 628895,
     "user": {
      "displayName": "Theo Dimitrasopoulos",
      "photoUrl": "https://lh3.googleusercontent.com/a-/AOh14GhRNhCMR9OSve5rpYHqQ5AxXHb4FT75fg51p-tfkA=s64",
      "userId": "13959094896036405890"
     }
    }
   },
   "source": [
    "train_df.columns"
   ],
   "execution_count": null,
   "outputs": []
  },
  {
   "cell_type": "code",
   "metadata": {
    "id": "aFW2T_lDw5rv",
    "executionInfo": {
     "status": "aborted",
     "timestamp": 1609314735590,
     "user_tz": 300,
     "elapsed": 628889,
     "user": {
      "displayName": "Theo Dimitrasopoulos",
      "photoUrl": "https://lh3.googleusercontent.com/a-/AOh14GhRNhCMR9OSve5rpYHqQ5AxXHb4FT75fg51p-tfkA=s64",
      "userId": "13959094896036405890"
     }
    }
   },
   "source": [
    "split_train_df = train_df.drop(columns=['statement',\n",
    "       'minutes', 'presconf_script', 'speech', 'testimony',\n",
    "       'tokenized', 'token_ids', 'tokenized_text', 'tfidf_Negative',\n",
    "       'tfidf_Positive', 'tfidf_Uncertainty', 'tfidf_Litigious',\n",
    "       'tfidf_StrongModal', 'tfidf_Constraining', 'cos_sim_Negative',\n",
    "       'cos_sim_Positive', 'cos_sim_Uncertainty', 'cos_sim_Litigious',\n",
    "       'cos_sim_StrongModal', 'cos_sim_Constraining'])"
   ],
   "execution_count": null,
   "outputs": []
  },
  {
   "cell_type": "code",
   "metadata": {
    "id": "pfopnhHyw5rw",
    "executionInfo": {
     "status": "aborted",
     "timestamp": 1609314735591,
     "user_tz": 300,
     "elapsed": 628884,
     "user": {
      "displayName": "Theo Dimitrasopoulos",
      "photoUrl": "https://lh3.googleusercontent.com/a-/AOh14GhRNhCMR9OSve5rpYHqQ5AxXHb4FT75fg51p-tfkA=s64",
      "userId": "13959094896036405890"
     }
    }
   },
   "source": [
    "split_train_df.shape"
   ],
   "execution_count": null,
   "outputs": []
  },
  {
   "cell_type": "code",
   "metadata": {
    "id": "rKhCB0YLw5rx",
    "executionInfo": {
     "status": "aborted",
     "timestamp": 1609314735591,
     "user_tz": 300,
     "elapsed": 628878,
     "user": {
      "displayName": "Theo Dimitrasopoulos",
      "photoUrl": "https://lh3.googleusercontent.com/a-/AOh14GhRNhCMR9OSve5rpYHqQ5AxXHb4FT75fg51p-tfkA=s64",
      "userId": "13959094896036405890"
     }
    }
   },
   "source": [
    "def get_split(text, split_len=200, overlap=50):\n",
    "    l_total = []\n",
    "    words = re.findall(r'\\b([a-zA-Z]+n\\'t|[a-zA-Z]+\\'s|[a-zA-Z]+)\\b', text)\n",
    "    \n",
    "    if len(words) < split_len:\n",
    "        n = 1\n",
    "    else:\n",
    "        n = (len(words) - overlap) // (split_len - overlap) + 1\n",
    "        \n",
    "    for i in range(n):\n",
    "        l_parcial = words[(split_len - overlap) * i: (split_len - overlap) * i + split_len]\n",
    "        l_total.append(\" \".join(l_parcial))\n",
    "    return l_total\n",
    "\n",
    "def get_split_df(df, split_len=200, overlap=50):\n",
    "    split_data_list = []\n",
    "\n",
    "    for i, row in tqdm(df.iterrows(), total=df.shape[0]):\n",
    "        #print(\"Original Word Count: \", row['word_count'])\n",
    "        text_list = get_split(row[\"text\"], split_len, overlap)\n",
    "        for text in text_list:\n",
    "            row['text'] = text\n",
    "            #print(len(re.findall(r'\\b([a-zA-Z]+n\\'t|[a-zA-Z]+\\'s|[a-zA-Z]+)\\b', text)))\n",
    "            #row['word_count'] = len(re.findall(r'\\b([a-zA-Z]+n\\'t|[a-zA-Z]+\\'s|[a-zA-Z]+)\\b', text))\n",
    "            split_data_list.append(list(row))\n",
    "            \n",
    "    split_df = pd.DataFrame(split_data_list, columns=df.columns)\n",
    "\n",
    "    return split_df"
   ],
   "execution_count": null,
   "outputs": []
  },
  {
   "cell_type": "code",
   "metadata": {
    "id": "hxppGF6_w5ry",
    "executionInfo": {
     "status": "aborted",
     "timestamp": 1609314735591,
     "user_tz": 300,
     "elapsed": 628872,
     "user": {
      "displayName": "Theo Dimitrasopoulos",
      "photoUrl": "https://lh3.googleusercontent.com/a-/AOh14GhRNhCMR9OSve5rpYHqQ5AxXHb4FT75fg51p-tfkA=s64",
      "userId": "13959094896036405890"
     }
    }
   },
   "source": [
    "split_train_df = get_split_df(split_train_df)\n",
    "split_train_df.shape"
   ],
   "execution_count": null,
   "outputs": []
  },
  {
   "cell_type": "code",
   "metadata": {
    "id": "N-KQLK4cw5rz",
    "executionInfo": {
     "status": "aborted",
     "timestamp": 1609314735592,
     "user_tz": 300,
     "elapsed": 628867,
     "user": {
      "displayName": "Theo Dimitrasopoulos",
      "photoUrl": "https://lh3.googleusercontent.com/a-/AOh14GhRNhCMR9OSve5rpYHqQ5AxXHb4FT75fg51p-tfkA=s64",
      "userId": "13959094896036405890"
     }
    }
   },
   "source": [
    "tokenized = tokenize_df(split_train_df)\n",
    "lemma_docs = [\" \".join(words) for words in tokenized]\n",
    "all_words = [word for text in tokenized for word in text]\n",
    "counts = Counter(all_words)\n",
    "bow = sorted(counts, key=counts.get, reverse=True)\n",
    "vocab = {word: ii for ii, word in enumerate(counts, 1)}\n",
    "id2vocab = {v: k for k, v in vocab.items()}\n",
    "token_ids = [[vocab[word] for word in text_words] for text_words in tokenized]\n",
    "split_train_df['token_ids'] = token_ids\n"
   ],
   "execution_count": null,
   "outputs": []
  },
  {
   "cell_type": "code",
   "metadata": {
    "id": "hLhR0wdvw5r0",
    "executionInfo": {
     "status": "aborted",
     "timestamp": 1609314735592,
     "user_tz": 300,
     "elapsed": 628861,
     "user": {
      "displayName": "Theo Dimitrasopoulos",
      "photoUrl": "https://lh3.googleusercontent.com/a-/AOh14GhRNhCMR9OSve5rpYHqQ5AxXHb4FT75fg51p-tfkA=s64",
      "userId": "13959094896036405890"
     }
    }
   },
   "source": [
    "weight_matrix = np.zeros((len(vocab)+1, 300))\n",
    "words_found = 0\n",
    "\n",
    "for i, word in enumerate(vocab):\n",
    "    try:\n",
    "        weight_matrix[i] = glove_dict[word]\n",
    "        words_found += 1\n",
    "    except KeyError:\n",
    "        weight_matrix[i] = np.random.normal(scale=0.6, size=(300,))\n",
    "        "
   ],
   "execution_count": null,
   "outputs": []
  },
  {
   "cell_type": "code",
   "metadata": {
    "id": "5xHTHM3zw5r1",
    "executionInfo": {
     "status": "aborted",
     "timestamp": 1609314735592,
     "user_tz": 300,
     "elapsed": 628855,
     "user": {
      "displayName": "Theo Dimitrasopoulos",
      "photoUrl": "https://lh3.googleusercontent.com/a-/AOh14GhRNhCMR9OSve5rpYHqQ5AxXHb4FT75fg51p-tfkA=s64",
      "userId": "13959094896036405890"
     }
    }
   },
   "source": [
    "split_train_df.head()"
   ],
   "execution_count": null,
   "outputs": []
  },
  {
   "cell_type": "code",
   "metadata": {
    "id": "IzDilivbw5r2",
    "executionInfo": {
     "status": "aborted",
     "timestamp": 1609314735593,
     "user_tz": 300,
     "elapsed": 628850,
     "user": {
      "displayName": "Theo Dimitrasopoulos",
      "photoUrl": "https://lh3.googleusercontent.com/a-/AOh14GhRNhCMR9OSve5rpYHqQ5AxXHb4FT75fg51p-tfkA=s64",
      "userId": "13959094896036405890"
     }
    }
   },
   "source": [
    "sns.distplot(split_train_df['text'].apply(lambda x: len(x.split())))"
   ],
   "execution_count": null,
   "outputs": []
  },
  {
   "cell_type": "code",
   "metadata": {
    "id": "hkZUuwVrw5r3",
    "executionInfo": {
     "status": "aborted",
     "timestamp": 1609314735594,
     "user_tz": 300,
     "elapsed": 628845,
     "user": {
      "displayName": "Theo Dimitrasopoulos",
      "photoUrl": "https://lh3.googleusercontent.com/a-/AOh14GhRNhCMR9OSve5rpYHqQ5AxXHb4FT75fg51p-tfkA=s64",
      "userId": "13959094896036405890"
     }
    }
   },
   "source": [
    "y_data = split_train_df['target']\n",
    "X_data = split_train_df[nontext_columns + ['tone', 'token_ids']]\n",
    "\n",
    "X_train, X_valid, y_train, y_valid = \\\n",
    "model_selection.train_test_split(X_data.values, y_data.values, test_size=0.2, shuffle=True)\n",
    "\n",
    "X_train_meta = get_numeric_data(X_train)\n",
    "X_train_text = get_text_data(X_train)\n",
    "X_valid_meta = get_numeric_data(X_valid)\n",
    "X_valid_text = get_text_data(X_valid)\n",
    "\n",
    "print('Shape of train meta', len(X_train_meta))\n",
    "print('Shape of train text', len(X_train_text))\n",
    "print(\"Shape of valid meta \", len(X_valid_meta))\n",
    "print(\"Shape of valid text \", len(X_valid_text))\n",
    "\n",
    "meta_size = len(X_train_meta[0])\n",
    "print(\"Meta data size: \", meta_size)"
   ],
   "execution_count": null,
   "outputs": []
  },
  {
   "cell_type": "code",
   "metadata": {
    "id": "IUQ5hvIYw5r4",
    "executionInfo": {
     "status": "aborted",
     "timestamp": 1609314735594,
     "user_tz": 300,
     "elapsed": 628839,
     "user": {
      "displayName": "Theo Dimitrasopoulos",
      "photoUrl": "https://lh3.googleusercontent.com/a-/AOh14GhRNhCMR9OSve5rpYHqQ5AxXHb4FT75fg51p-tfkA=s64",
      "userId": "13959094896036405890"
     }
    }
   },
   "source": [
    "len(weight_matrix)"
   ],
   "execution_count": null,
   "outputs": []
  },
  {
   "cell_type": "code",
   "metadata": {
    "id": "2ulmapnRw5r5",
    "executionInfo": {
     "status": "aborted",
     "timestamp": 1609314735594,
     "user_tz": 300,
     "elapsed": 628833,
     "user": {
      "displayName": "Theo Dimitrasopoulos",
      "photoUrl": "https://lh3.googleusercontent.com/a-/AOh14GhRNhCMR9OSve5rpYHqQ5AxXHb4FT75fg51p-tfkA=s64",
      "userId": "13959094896036405890"
     }
    }
   },
   "source": [
    "device = torch.device('cuda' if torch.cuda.is_available() else 'cpu')\n",
    "model = GloveTextClassifier(weight_matrix, 128, 8, meta_size, 3, lstm_layers=2, dropout=0.2)\n",
    "model.to(device)"
   ],
   "execution_count": null,
   "outputs": []
  },
  {
   "cell_type": "code",
   "metadata": {
    "id": "o7Pqb_hHw5r7",
    "scrolled": false,
    "executionInfo": {
     "status": "aborted",
     "timestamp": 1609314735595,
     "user_tz": 300,
     "elapsed": 628827,
     "user": {
      "displayName": "Theo Dimitrasopoulos",
      "photoUrl": "https://lh3.googleusercontent.com/a-/AOh14GhRNhCMR9OSve5rpYHqQ5AxXHb4FT75fg51p-tfkA=s64",
      "userId": "13959094896036405890"
     }
    }
   },
   "source": [
    "train_model(model, epochs=3, batch_size=16, learning_rate=1e-4, sequence_length=200, clip=5, print_every=10)"
   ],
   "execution_count": null,
   "outputs": []
  },
  {
   "cell_type": "markdown",
   "metadata": {
    "id": "7Fd44Xjhw5r9"
   },
   "source": [
    "## E. BERT Model"
   ]
  },
  {
   "cell_type": "code",
   "metadata": {
    "id": "ELuZ719Mw5r9",
    "executionInfo": {
     "status": "aborted",
     "timestamp": 1609314735595,
     "user_tz": 300,
     "elapsed": 628821,
     "user": {
      "displayName": "Theo Dimitrasopoulos",
      "photoUrl": "https://lh3.googleusercontent.com/a-/AOh14GhRNhCMR9OSve5rpYHqQ5AxXHb4FT75fg51p-tfkA=s64",
      "userId": "13959094896036405890"
     }
    }
   },
   "source": [
    "from torch.utils.data import (DataLoader, RandomSampler, SequentialSampler, TensorDataset)\n",
    "#from transformers import *\n",
    "from transformers import BertTokenizer, BertForSequenceClassification, BertModel\n",
    "#import torch\n"
   ],
   "execution_count": null,
   "outputs": []
  },
  {
   "cell_type": "code",
   "metadata": {
    "id": "YNewaN-xw5r-",
    "executionInfo": {
     "status": "aborted",
     "timestamp": 1609314735595,
     "user_tz": 300,
     "elapsed": 628815,
     "user": {
      "displayName": "Theo Dimitrasopoulos",
      "photoUrl": "https://lh3.googleusercontent.com/a-/AOh14GhRNhCMR9OSve5rpYHqQ5AxXHb4FT75fg51p-tfkA=s64",
      "userId": "13959094896036405890"
     }
    }
   },
   "source": [
    "class InputFeature(object):\n",
    "    def __init__(self, id, input_ids, masks, segments, meta, label=None):\n",
    "        self.id = id\n",
    "        self.features = {\n",
    "            'input_ids': input_ids,\n",
    "            'input_mask': masks,\n",
    "            'segment_ids': segments,\n",
    "            'meta': meta\n",
    "        }\n",
    "        self.label = label"
   ],
   "execution_count": null,
   "outputs": []
  },
  {
   "cell_type": "code",
   "metadata": {
    "id": "FAz_0B0Bw5r_",
    "executionInfo": {
     "status": "aborted",
     "timestamp": 1609314735596,
     "user_tz": 300,
     "elapsed": 628809,
     "user": {
      "displayName": "Theo Dimitrasopoulos",
      "photoUrl": "https://lh3.googleusercontent.com/a-/AOh14GhRNhCMR9OSve5rpYHqQ5AxXHb4FT75fg51p-tfkA=s64",
      "userId": "13959094896036405890"
     }
    }
   },
   "source": [
    "tokenizer = BertTokenizer.from_pretrained('bert-base-uncased', do_lower_case=True)\n",
    "\n",
    "def bert_encoder(text, max_len=200):\n",
    "    text_token = tokenizer.tokenize(text)\n",
    "    text_token = text_token[:max_len-2]\n",
    "    text_token = [\"[CLS]\"] + text_token + [\"[SEP]\"]\n",
    "    text_ids = tokenizer.convert_tokens_to_ids(text_token)\n",
    "    text_ids += [0] * (max_len - len(text_token))\n",
    "    pad_masks = [1] * len(text_token) + [0] * (max_len - len(text_token))\n",
    "    segment_ids = [0] * len(text_token) + [0] * (max_len - len(text_token))\n",
    "    \n",
    "    return text_ids, pad_masks, segment_ids"
   ],
   "execution_count": null,
   "outputs": []
  },
  {
   "cell_type": "code",
   "metadata": {
    "id": "zSwZ4QMrw5sB",
    "executionInfo": {
     "status": "aborted",
     "timestamp": 1609314735596,
     "user_tz": 300,
     "elapsed": 628803,
     "user": {
      "displayName": "Theo Dimitrasopoulos",
      "photoUrl": "https://lh3.googleusercontent.com/a-/AOh14GhRNhCMR9OSve5rpYHqQ5AxXHb4FT75fg51p-tfkA=s64",
      "userId": "13959094896036405890"
     }
    }
   },
   "source": [
    "train_set = []\n",
    "max_seq_length = 200\n",
    "meta_size = 10\n",
    "\n",
    "for index, row in tqdm(split_train_df.iterrows(), total=split_train_df.shape[0]):\n",
    "    input_ids, masks, segments = bert_encoder(row['text'], max_seq_length)\n",
    "    train_set.append(InputFeature(row.index, input_ids, masks, segments, row[nontext_columns + ['tone']], int(row['target'])))    \n",
    "\n",
    "train_labels = split_train_df['target'].astype(int).values\n",
    "\n",
    "train_valid_input_ids = np.array([data.features['input_ids'] for data in train_set])\n",
    "train_valid_input_masks = np.array([data.features['input_mask'] for data in train_set])\n",
    "train_valid_segment_ids =np.array([data.features['segment_ids'] for data in train_set])\n",
    "train_valid_meta =np.array([data.features['meta'] for data in train_set], dtype=np.float64)\n",
    "train_valid_labels = np.array([data.label for data in train_set])\n",
    "\n",
    "oof_train = np.zeros((len(split_train_df), 3), dtype=np.float32)"
   ],
   "execution_count": null,
   "outputs": []
  },
  {
   "cell_type": "code",
   "metadata": {
    "id": "4rPQQBcmwihw",
    "executionInfo": {
     "status": "aborted",
     "timestamp": 1609314735597,
     "user_tz": 300,
     "elapsed": 628798,
     "user": {
      "displayName": "Theo Dimitrasopoulos",
      "photoUrl": "https://lh3.googleusercontent.com/a-/AOh14GhRNhCMR9OSve5rpYHqQ5AxXHb4FT75fg51p-tfkA=s64",
      "userId": "13959094896036405890"
     }
    }
   },
   "source": [
    "print(train_valid_meta[0])\n",
    "print(train_valid_meta[1])"
   ],
   "execution_count": null,
   "outputs": []
  },
  {
   "cell_type": "code",
   "metadata": {
    "id": "diYHe05tw5sC",
    "executionInfo": {
     "status": "aborted",
     "timestamp": 1609314735597,
     "user_tz": 300,
     "elapsed": 628792,
     "user": {
      "displayName": "Theo Dimitrasopoulos",
      "photoUrl": "https://lh3.googleusercontent.com/a-/AOh14GhRNhCMR9OSve5rpYHqQ5AxXHb4FT75fg51p-tfkA=s64",
      "userId": "13959094896036405890"
     }
    }
   },
   "source": [
    "class BertTextClassifier(nn.Module):\n",
    "    def __init__(self, hidden_size, dense_size, meta_size, output_size, dropout=0.1):\n",
    "        super().__init__()\n",
    "        self.output_size = output_size\n",
    "        self.dropout = dropout\n",
    "        \n",
    "        self.bert = BertModel.from_pretrained('bert-base-uncased',  \n",
    "                                        output_hidden_states=True,\n",
    "                                        output_attentions=True)\n",
    "        for param in self.bert.parameters():\n",
    "            param.requires_grad = True\n",
    "        self.weights = nn.Parameter(torch.rand(13, 1))\n",
    "        self.dropout = nn.Dropout(dropout)\n",
    "        self.fc1 = nn.Linear(hidden_size, dense_size)\n",
    "        self.fc2 = nn.Linear(dense_size + meta_size, output_size)\n",
    "        self.softmax = nn.LogSoftmax(dim=1)\n",
    "\n",
    "    def forward(self, input_ids, nn_input_meta):     \n",
    "        all_hidden_states, all_attentions = self.bert(input_ids)[-2:]\n",
    "        batch_size = input_ids.shape[0]\n",
    "        ht_cls = torch.cat(all_hidden_states)[:, :1, :].view(13, batch_size, 1, 768)\n",
    "        atten = torch.sum(ht_cls * self.weights.view(13, 1, 1, 1), dim=[1, 3])\n",
    "        atten = F.softmax(atten.view(-1), dim=0)\n",
    "        feature = torch.sum(ht_cls * atten.view(13, 1, 1, 1), dim=[0, 2])        \n",
    "        dense_out = self.fc1(self.dropout(feature))\n",
    "        concat_layer = torch.cat((dense_out, nn_input_meta.float()), 1)\n",
    "        # print(len(dense_out[0]))\n",
    "        # print(len(nn_input_meta[0]))\n",
    "        # print(len(concat_layer[0]))\n",
    "        # print(\"dense_out: \\n\", dense_out)\n",
    "        # print(\"nn_input_meta: \\n\", nn_input_meta)\n",
    "        # print(\"concat_layer: \\n\", concat_layer)\n",
    "        out = self.fc2(concat_layer)\n",
    "        #logps = self.softmax(out)\n",
    "\n",
    "        return out"
   ],
   "execution_count": null,
   "outputs": []
  },
  {
   "cell_type": "code",
   "metadata": {
    "id": "E5mv5KIZw5sD",
    "executionInfo": {
     "status": "aborted",
     "timestamp": 1609314735597,
     "user_tz": 300,
     "elapsed": 628786,
     "user": {
      "displayName": "Theo Dimitrasopoulos",
      "photoUrl": "https://lh3.googleusercontent.com/a-/AOh14GhRNhCMR9OSve5rpYHqQ5AxXHb4FT75fg51p-tfkA=s64",
      "userId": "13959094896036405890"
     }
    }
   },
   "source": [
    "tokenizer = BertTokenizer.from_pretrained('bert-base-uncased')\n",
    "model = BertModel.from_pretrained('bert-base-uncased')\n",
    "\n",
    "input_ids = torch.tensor(tokenizer.encode(\"Hello, my dog is cute\", add_special_tokens=True)).unsqueeze(0)  # Batch size 1\n",
    "outputs = model(input_ids)\n",
    "\n",
    "print(input_ids)\n",
    "print(outputs)\n"
   ],
   "execution_count": null,
   "outputs": []
  },
  {
   "cell_type": "code",
   "metadata": {
    "id": "xwdZf51Gw5sE",
    "scrolled": false,
    "executionInfo": {
     "status": "aborted",
     "timestamp": 1609314735598,
     "user_tz": 300,
     "elapsed": 628781,
     "user": {
      "displayName": "Theo Dimitrasopoulos",
      "photoUrl": "https://lh3.googleusercontent.com/a-/AOh14GhRNhCMR9OSve5rpYHqQ5AxXHb4FT75fg51p-tfkA=s64",
      "userId": "13959094896036405890"
     }
    }
   },
   "source": [
    "bert_model = BertTextClassifier(768, 128, meta_size, 3, dropout=0.1)\n",
    "\n",
    "text_ids, pad_masks, segment_ids = bert_encoder(\"Hello, my dog is cute\")\n",
    "print('text_ids: \\n', text_ids)\n",
    "print('text_ids (torch.tensor): \\n', torch.tensor(text_ids))\n",
    "text_ids = torch.tensor(text_ids).unsqueeze(0)\n",
    "print('text_ids (unsqueezed): \\n', text_ids)\n",
    "#print('pad_masks: ',pad_masks)\n",
    "#print('segment_ids: ',segment_ids)\n",
    "x_meta = torch.tensor([1,2,3,4,5,6,7,8,9,10]).unsqueeze(0)\n",
    "outputs = bert_model(text_ids, x_meta)\n",
    "print(len(outputs))\n",
    "print('outputs: \\n',outputs)\n",
    "print('outputs(detached): \\n', outputs.detach())"
   ],
   "execution_count": null,
   "outputs": []
  },
  {
   "cell_type": "code",
   "metadata": {
    "id": "peYs1C_7w5sF",
    "executionInfo": {
     "status": "aborted",
     "timestamp": 1609314735598,
     "user_tz": 300,
     "elapsed": 628775,
     "user": {
      "displayName": "Theo Dimitrasopoulos",
      "photoUrl": "https://lh3.googleusercontent.com/a-/AOh14GhRNhCMR9OSve5rpYHqQ5AxXHb4FT75fg51p-tfkA=s64",
      "userId": "13959094896036405890"
     }
    }
   },
   "source": [
    "learning_rate = 1e-5\n",
    "num_epochs = 3\n",
    "batch_size = 32\n",
    "patience =2\n",
    "file_name = 'model'\n",
    "use_skf = True\n",
    "bert_hidden_size = 768\n",
    "bert_dense_size =128"
   ],
   "execution_count": null,
   "outputs": []
  },
  {
   "cell_type": "code",
   "metadata": {
    "id": "J1gi8IEAw5sF",
    "executionInfo": {
     "status": "aborted",
     "timestamp": 1609314735598,
     "user_tz": 300,
     "elapsed": 628769,
     "user": {
      "displayName": "Theo Dimitrasopoulos",
      "photoUrl": "https://lh3.googleusercontent.com/a-/AOh14GhRNhCMR9OSve5rpYHqQ5AxXHb4FT75fg51p-tfkA=s64",
      "userId": "13959094896036405890"
     }
    }
   },
   "source": [
    "def train_bert(fold, train_indices, valid_indices):\n",
    "    \n",
    "    # Number of folds to iterrate\n",
    "    # if fold == 3:\n",
    "    #     break\n",
    "\n",
    "    logger.info('================     fold {}        ==============='.format(fold))\n",
    "    \n",
    "    train_input_ids = torch.tensor(train_valid_input_ids[train_indices], dtype=torch.long)\n",
    "    train_input_mask = torch.tensor(train_valid_input_masks[train_indices], dtype=torch.long)\n",
    "    train_segment_ids = torch.tensor(train_valid_segment_ids[train_indices], dtype=torch.long)\n",
    "    train_label = torch.tensor(train_valid_labels[train_indices], dtype=torch.long)\n",
    "    train_meta = torch.tensor(train_valid_meta[train_indices], dtype=torch.long)\n",
    "    \n",
    "    valid_input_ids = torch.tensor(train_valid_input_ids[valid_indices], dtype=torch.long)\n",
    "    valid_input_mask = torch.tensor(train_valid_input_masks[valid_indices], dtype=torch.long)\n",
    "    valid_segment_ids = torch.tensor(train_valid_segment_ids[valid_indices], dtype=torch.long)\n",
    "    valid_label = torch.tensor(train_valid_labels[valid_indices], dtype=torch.long)\n",
    "    valid_meta = torch.tensor(train_valid_meta[valid_indices], dtype=torch.long)\n",
    "\n",
    "    train = torch.utils.data.TensorDataset(train_input_ids, train_input_mask, train_segment_ids, train_meta, train_label)\n",
    "    valid = torch.utils.data.TensorDataset(valid_input_ids, valid_input_mask, valid_segment_ids, valid_meta, valid_label)\n",
    "    \n",
    "    train_loader = torch.utils.data.DataLoader(train, batch_size=batch_size, shuffle=True)\n",
    "    valid_loader = torch.utils.data.DataLoader(valid, batch_size=batch_size, shuffle=False)\n",
    "\n",
    "#     bert_model = BertForSequenceClassification.from_pretrained(\n",
    "#         \"bert-base-uncased\",\n",
    "#         num_labels = 3,\n",
    "#         output_attentions = False,\n",
    "#         output_hidden_states = False\n",
    "#     )\n",
    "\n",
    "    bert_model = BertTextClassifier(bert_hidden_size, bert_dense_size, meta_size, 3, dropout=0.1)\n",
    "    \n",
    "    device = 'cuda:0' if torch.cuda.is_available() else 'tpu'\n",
    "    bert_model = bert_model.to(device)\n",
    "    \n",
    "    loss_fn = torch.nn.CrossEntropyLoss()\n",
    "\n",
    "    param_optimizer = list(model.named_parameters())\n",
    "    no_decay = ['bias', 'LayerNorm.bias', 'LayerNorm.weight']\n",
    "    optimizer_grouped_parameters = [\n",
    "        {'params': [p for n, p in param_optimizer if not any(nd in n for nd in no_decay)], 'weight_decay': 0.01},\n",
    "        {'params': [p for n, p in param_optimizer if any(nd in n for nd in no_decay)], 'weight_decay': 0.0}]\n",
    "\n",
    "    optimizer = AdamW(optimizer_grouped_parameters, lr=learning_rate, eps=1e-6)\n",
    "    \n",
    "    bert_model.train()\n",
    "\n",
    "    best_f1 = 0.\n",
    "    valid_best = np.zeros((valid_label.size(0), 2))\n",
    "    early_stop = 0\n",
    "    train_losses = []\n",
    "    valid_losses = []\n",
    "    \n",
    "    for epoch in range(num_epochs):\n",
    "        logger.info('================     epoch {}        ==============='.format(epoch+1))\n",
    "        train_loss = 0.\n",
    "        for i, batch in tqdm(enumerate(train_loader), total=len(train_loader), desc='Training'):\n",
    "            batch = tuple(t.to(device) for t in batch)\n",
    "            x_ids, x_mask, x_sids, x_meta, y_truth = batch\n",
    "            \n",
    "            y_pred = bert_model(x_ids, x_meta)\n",
    "\n",
    "            loss = loss_fn(y_pred, y_truth)\n",
    "                        \n",
    "            optimizer.zero_grad()\n",
    "            loss.backward()\n",
    "            optimizer.step()\n",
    "            train_loss += loss.item() / len(train_loader)\n",
    "            \n",
    "            logger.debug('train batch: %d, train_loss: %8f\\n' % (i, train_loss))\n",
    "\n",
    "        train_losses.append(train_loss)\n",
    "        model.eval()\n",
    "        \n",
    "        val_loss = 0.\n",
    "        valid_preds_fold = np.zeros((valid_label.size(0), 3))\n",
    "        \n",
    "        with torch.no_grad():\n",
    "            for i, batch in tqdm(enumerate(valid_loader), total=len(valid_loader), desc='Validation'):\n",
    "                batch = tuple(t.to(device) for t in batch)\n",
    "                x_ids, x_mask, x_sids, x_meta, y_truth = batch\n",
    "                y_pred = bert_model(x_ids, x_meta).detach()\n",
    "                loss = loss_fn(y_pred, y_truth)\n",
    "                val_loss += loss.item() / len(valid_loader)\n",
    "                valid_preds_fold[i * batch_size:(i + 1) * batch_size] = F.softmax(y_pred, dim=1).cpu().numpy()\n",
    "                \n",
    "                logger.debug('validation batch: {}, val_loss: {}, valid_preds_fold: {}'.format(i, val_loss, valid_preds_fold[i * batch_size:(i + 1) * batch_size]))\n",
    "            valid_losses.append(val_loss)\n",
    "\n",
    "        acc, f1 = metric(train_valid_labels[valid_indices], np.argmax(valid_preds_fold, axis=1))\n",
    "        \n",
    "        if best_f1 < f1:\n",
    "            early_stop = 0\n",
    "            best_f1 = f1\n",
    "            valid_best = valid_preds_fold\n",
    "            torch.save(bert_model.state_dict(), output_dir + 'model_fold_{}.dict'.format(fold))\n",
    "        else:\n",
    "            early_stop += 1\n",
    "            \n",
    "        logger.info(\n",
    "            'epoch: %d, train loss: %.8f, valid loss: %.8f, acc: %.8f, f1: %.8f, best_f1: %.8f\\n' %\n",
    "            (epoch, train_loss, val_loss, acc, f1, best_f1))\n",
    "        \n",
    "        if device == 'cuda:0':\n",
    "            torch.cuda.empty_cache()  \n",
    "\n",
    "        if early_stop >= patience:\n",
    "            break\n",
    "            \n",
    "        model.train()\n",
    "\n",
    "    valid_preds_fold = np.zeros((valid_label.size(0), 3))\n",
    "    \n",
    "    sns.set(font_scale=1.5)\n",
    "    plt.rcParams[\"figure.figsize\"] = (15,6)\n",
    "    plt.plot(train_losses, 'b-o')\n",
    "    plt.plot(valid_losses, 'b-o')\n",
    "\n",
    "    plt.title(\"Training/Validation Loss\")\n",
    "    plt.xlabel(\"Epoch\")\n",
    "    plt.ylabel(\"Loss\")\n",
    "\n",
    "    plt.show()\n",
    "\n",
    "    bert_model.load_state_dict(torch.load(output_dir + 'model_fold_{}.dict'.format(fold)))\n",
    "    bert_model.eval()\n",
    "    \n",
    "    with torch.no_grad():\n",
    "        for i, batch in tqdm(enumerate(valid_loader), total=len(valid_loader)):\n",
    "            batch = tuple(t.to(device) for t in batch)\n",
    "            x_ids, x_mask, x_sids, x_meta, y_truth = batch\n",
    "            y_pred = bert_model(x_ids, x_meta).detach()\n",
    "            valid_preds_fold[i * batch_size:(i + 1) * batch_size] = F.softmax(y_pred, dim=1).cpu().numpy()\n",
    "\n",
    "    valid_best = valid_preds_fold\n",
    "    oof_train[valid_indices] = valid_best\n",
    "    acc, f1 = metric(train_valid_labels[valid_indices], np.argmax(valid_best, axis=1))\n",
    "    logger.info('epoch: best, acc: %.8f, f1: %.8f, best_f1: %.8f\\n' % (acc, f1, best_f1))\n",
    "\n",
    "    class_names = ['Lower', 'Hold', 'Raise']\n",
    "    titles_options = [(\"Confusion matrix, without normalization\", None), (\"Normalized confusion matrix\", 'true')]\n",
    "    for title, normalize in titles_options:\n",
    "        disp = skplt.metrics.plot_confusion_matrix(train_valid_labels[valid_indices], np.argmax(valid_best, axis=1), normalize=normalize, title=title)\n",
    "    plt.show()"
   ],
   "execution_count": null,
   "outputs": []
  },
  {
   "cell_type": "code",
   "metadata": {
    "id": "BcSDa10Gw5sG",
    "scrolled": false,
    "executionInfo": {
     "status": "aborted",
     "timestamp": 1609314735599,
     "user_tz": 300,
     "elapsed": 628764,
     "user": {
      "displayName": "Theo Dimitrasopoulos",
      "photoUrl": "https://lh3.googleusercontent.com/a-/AOh14GhRNhCMR9OSve5rpYHqQ5AxXHb4FT75fg51p-tfkA=s64",
      "userId": "13959094896036405890"
     }
    }
   },
   "source": [
    "if use_skf:\n",
    "    skf = StratifiedKFold(n_splits=5, shuffle=True, random_state=42)\n",
    "  \n",
    "    for fold, (train_indices, valid_indices) in enumerate(skf.split(train_valid_labels, train_valid_labels)):\n",
    "        train_bert(fold, train_indices, valid_indices)\n",
    "\n",
    "else:\n",
    "    train_ratio = 0.7\n",
    "    train_indices = np.arange(0, int(len(train_valid_labels)*train_ratio))\n",
    "    valid_indices = np.arange(int(len(train_valid_labels)*train_ratio), len(train_valid_labels))\n",
    "\n",
    "    train_bert(0, train_indices, valid_indices)\n",
    "    # print('train_indices', train_indices)\n",
    "    # print('valid_indices', valid_indices)\n"
   ],
   "execution_count": null,
   "outputs": []
  },
  {
   "cell_type": "code",
   "metadata": {
    "id": "nXMbcpK_w5sH",
    "executionInfo": {
     "status": "aborted",
     "timestamp": 1609314735599,
     "user_tz": 300,
     "elapsed": 628758,
     "user": {
      "displayName": "Theo Dimitrasopoulos",
      "photoUrl": "https://lh3.googleusercontent.com/a-/AOh14GhRNhCMR9OSve5rpYHqQ5AxXHb4FT75fg51p-tfkA=s64",
      "userId": "13959094896036405890"
     }
    }
   },
   "source": [
    "logger.info(f1_score(train_labels, np.argmax(oof_train, axis=1), average='macro'))\n",
    "split_train_df['pred_target'] = np.argmax(oof_train, axis=1)\n",
    "split_train_df['pred_target_lower'] = oof_train[:,0]\n",
    "split_train_df['pred_target_hold'] = oof_train[:,1]\n",
    "split_train_df['pred_target_raise'] = oof_train[:,2]\n",
    "split_train_df.head()"
   ],
   "execution_count": null,
   "outputs": []
  },
  {
   "cell_type": "markdown",
   "metadata": {
    "id": "EdEn3xMNw5sI"
   },
   "source": [
    "# Save Data"
   ]
  },
  {
   "cell_type": "code",
   "metadata": {
    "id": "mqwUOnPtw5sJ",
    "executionInfo": {
     "status": "aborted",
     "timestamp": 1609314735599,
     "user_tz": 300,
     "elapsed": 628753,
     "user": {
      "displayName": "Theo Dimitrasopoulos",
      "photoUrl": "https://lh3.googleusercontent.com/a-/AOh14GhRNhCMR9OSve5rpYHqQ5AxXHb4FT75fg51p-tfkA=s64",
      "userId": "13959094896036405890"
     }
    }
   },
   "source": [
    "if IN_COLAB:\n",
    "  def save_data(df, file_name, dir_name=preprocessed_dir, index_csv=True):\n",
    "    if not os.path.exists(dir_name):\n",
    "      os.mkdir(dir_name)\n",
    "    # Save results to a picke file\n",
    "    file = open(dir_name + file_name + '.pickle', 'wb')\n",
    "    pickle.dump(df, file)\n",
    "    file.close()\n",
    "    print('Successfully saved {}.pickle. in {}'.format(file_name, dir_name + file_name + '.pickle'))\n",
    "    # Save results to a csv file\n",
    "    df.to_csv(dir_name + file_name + '.csv', index=True)\n",
    "    print('Successfully saved {}.csv. in {}'.format(file_name, dir_name + file_name + '.csv'))\n",
    "\n",
    "else:\n",
    "  def save_data(df, file_name, dir_name=preprocessed_dir):\n",
    "    # Save results to a .picke file\n",
    "    file = open(dir_name + file_name + '.pickle', 'wb')\n",
    "    pickle.dump(df, file)\n",
    "    file.close()\n",
    "    print('Successfully saved {}.pickle. in {}'.format(file_name, dir_name + file_name + '.pickle'))\n",
    "    # Save results to a .csv file\n",
    "    df.to_csv(dir_name + file_name + '.csv', index=True)\n",
    "    print('Successfully saved {}.csv. in {}'.format(file_name, dir_name + file_name + '.csv'))"
   ],
   "execution_count": null,
   "outputs": []
  },
  {
   "cell_type": "code",
   "metadata": {
    "id": "lynjDKNCw5sJ",
    "executionInfo": {
     "status": "aborted",
     "timestamp": 1609314735600,
     "user_tz": 300,
     "elapsed": 628747,
     "user": {
      "displayName": "Theo Dimitrasopoulos",
      "photoUrl": "https://lh3.googleusercontent.com/a-/AOh14GhRNhCMR9OSve5rpYHqQ5AxXHb4FT75fg51p-tfkA=s64",
      "userId": "13959094896036405890"
     }
    }
   },
   "source": [
    "# Save text data\n",
    "save_data(train_df, 'train_df')\n",
    "save_data(text_df, 'text_df')\n",
    "save_data(train_df, 'split_train_df')"
   ],
   "execution_count": null,
   "outputs": []
  }
 ]
}